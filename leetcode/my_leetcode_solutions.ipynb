{
 "cells": [
  {
   "cell_type": "code",
   "execution_count": 9,
   "metadata": {},
   "outputs": [
    {
     "data": {
      "text/plain": [
       "['o', 'l', 'l', 'e', 'h']"
      ]
     },
     "execution_count": 9,
     "metadata": {},
     "output_type": "execute_result"
    }
   ],
   "source": [
    "# 344. Reverse String\n",
    "s = list('hello')\n",
    "s.reverse()\n",
    "s"
   ]
  },
  {
   "cell_type": "code",
   "execution_count": null,
   "metadata": {},
   "outputs": [],
   "source": [
    "# 104. Maximum Depth of Binary Tree\n",
    "# Definition for a binary tree node.\n",
    "# class TreeNode:\n",
    "#     def __init__(self, x):\n",
    "#         self.val = x\n",
    "#         self.left = None\n",
    "#         self.right = None\n",
    "\n",
    "class Solution (object):\n",
    "    def maxDepth(self, root):\n",
    "        height = 0\n",
    "        if not root:\n",
    "            return height\n",
    "        if not root.left and not root.right:\n",
    "            return height + 1\n",
    "        hl = self.maxDepth(root.left)\n",
    "        hr = self.maxDepth(root.right)\n",
    "        height = max(hl + 1, hr + 1 )\n",
    "        return height"
   ]
  },
  {
   "cell_type": "code",
   "execution_count": 17,
   "metadata": {},
   "outputs": [
    {
     "name": "stdout",
     "output_type": "stream",
     "text": [
      "1\n",
      "4\n"
     ]
    }
   ],
   "source": [
    "# 136. Single number\n",
    "class Solution:\n",
    "    def singleNumber(self, nums) -> int:\n",
    "        for i in nums:\n",
    "            if nums.count(i) == 1:\n",
    "                return(i)\n",
    "            \n",
    "s = Solution()\n",
    "            \n",
    "l1 = [2,2,1]\n",
    "l2 = [4,1,2,1,2]\n",
    "\n",
    "print(s.singleNumber(l1))\n",
    "print(s.singleNumber(l2))"
   ]
  },
  {
   "cell_type": "code",
   "execution_count": 22,
   "metadata": {},
   "outputs": [
    {
     "data": {
      "text/plain": [
       "['1',\n",
       " '2',\n",
       " 'Fizz',\n",
       " '4',\n",
       " 'Buzz',\n",
       " 'Fizz',\n",
       " '7',\n",
       " '8',\n",
       " 'Fizz',\n",
       " 'Buzz',\n",
       " '11',\n",
       " 'Fizz',\n",
       " '13',\n",
       " '14',\n",
       " 'FizzBuzz']"
      ]
     },
     "execution_count": 22,
     "metadata": {},
     "output_type": "execute_result"
    }
   ],
   "source": [
    "# 412. Fizz Buzz\n",
    "class Solution:\n",
    "    def fizzBuzz(self, n):\n",
    "        output = []\n",
    "        for i in range(1, n+1):\n",
    "            if i % 3 == 0 and i % 5 == 0:\n",
    "                output.append('FizzBuzz')\n",
    "            elif i % 3 == 0:\n",
    "                output.append('Fizz')\n",
    "            elif i % 5 == 0:\n",
    "                output.append('Buzz')\n",
    "            else:\n",
    "                output.append(str(i))\n",
    "        return(output)\n",
    "\n",
    "\n",
    "s = Solution()\n",
    "n = 15\n",
    "s.fizzBuzz(n)"
   ]
  },
  {
   "cell_type": "code",
   "execution_count": 23,
   "metadata": {},
   "outputs": [],
   "source": [
    "# 206. Reverse Linked List\n",
    "# Definition for singly-linked list.\n",
    "class ListNode (object):\n",
    "    def __init__(self, x):\n",
    "        self.val = x\n",
    "        self.next = None\n",
    "\n",
    "class Solution (object):\n",
    "# Iterative variant   \n",
    "    def reverseList(self, head):\n",
    "        prev, cur = None, head\n",
    "        while cur:\n",
    "            cur.next, prev, cur = prev, cur, cur.next\n",
    "        return prev\n",
    "    \n",
    "# Recurcive variant\n",
    "    def reverseList_v1(self, head):  # explanation: https://www.youtube.com/watch?v=MRe3UsRadKw\n",
    "        \"\"\"\n",
    "        :type head: ListNode\n",
    "        :rtype: ListNode\n",
    "        \"\"\"     \n",
    "        if not head or not head.next:\n",
    "            return head\n",
    "        p = self.reverseList(head.next)\n",
    "        head.next.next = head\n",
    "        head.next = None\n",
    "        return p "
   ]
  },
  {
   "cell_type": "code",
   "execution_count": null,
   "metadata": {},
   "outputs": [],
   "source": [
    "#237. Delete Node in a Linked List\n",
    "# Definition for singly-linked list.\n",
    "# class ListNode:\n",
    "#     def __init__(self, x):\n",
    "#         self.val = x\n",
    "#         self.next = None\n",
    "\n",
    "class Solution:\n",
    "    def deleteNode(self, node):\n",
    "        \"\"\"\n",
    "        :type node: ListNode\n",
    "        :rtype: void Do not return anything, modify node in-place instead.\n",
    "        \"\"\"\n",
    "        while node.next:\n",
    "            node.val = node.next.val\n",
    "            if node.next.next:\n",
    "                node = node.next\n",
    "            else:\n",
    "                node.next = None"
   ]
  },
  {
   "cell_type": "code",
   "execution_count": 4,
   "metadata": {},
   "outputs": [
    {
     "data": {
      "text/plain": [
       "[1, 0, 0]"
      ]
     },
     "execution_count": 4,
     "metadata": {},
     "output_type": "execute_result"
    }
   ],
   "source": [
    "# 283. Move Zeroes\n",
    "nums = [0,0,1]\n",
    "j = 0\n",
    "for i in range(len(nums)):\n",
    "    if nums[j] == 0:\n",
    "        nums.append(nums.pop(j))\n",
    "#         print(nums)\n",
    "    else:\n",
    "        j += 1\n",
    "nums        "
   ]
  },
  {
   "cell_type": "code",
   "execution_count": 9,
   "metadata": {},
   "outputs": [
    {
     "data": {
      "text/plain": [
       "2"
      ]
     },
     "execution_count": 9,
     "metadata": {},
     "output_type": "execute_result"
    }
   ],
   "source": [
    "# 169. Majority Element\n",
    "\n",
    "def majorityElement(nums):\n",
    "    n = len(nums)//2\n",
    "    for i in set(nums):\n",
    "        if nums.count(i) > n:\n",
    "            return i\n",
    "            break\n",
    "\n",
    "majorityElement([2,2,1,1,1,2,2])"
   ]
  },
  {
   "cell_type": "code",
   "execution_count": 19,
   "metadata": {},
   "outputs": [
    {
     "name": "stdout",
     "output_type": "stream",
     "text": [
      "-10\n",
      "-3\n",
      "5\n",
      "9\n",
      "0\n"
     ]
    },
    {
     "data": {
      "text/plain": [
       "<__main__.TreeNode at 0x2be84e16988>"
      ]
     },
     "execution_count": 19,
     "metadata": {},
     "output_type": "execute_result"
    }
   ],
   "source": [
    "# 108. Convert Sorted Array to Binary Search Tree\n",
    "# Definition for a binary tree node.\n",
    "class TreeNode:\n",
    "    def __init__(self, x):\n",
    "        self.val = x\n",
    "        self.left = None\n",
    "        self.right = None\n",
    "\n",
    "class Solution:\n",
    "    def sortedArrayToBST(self, nums):\n",
    "        if len(nums) == 0:\n",
    "            return None\n",
    "        mid = len(nums) // 2\n",
    "#         print(mid)\n",
    "        node = TreeNode(nums[mid])\n",
    "        if mid - 1 >= 0:\n",
    "            left_nums = nums[0:mid].copy()\n",
    "#             print(left_nums)\n",
    "            node.left = self.sortedArrayToBST(left_nums)\n",
    "        if mid + 1 <= len(nums) - 1:\n",
    "            right_nums = nums[mid+1:len(nums)].copy()\n",
    "#             print(right_nums)\n",
    "            node.right = self.sortedArrayToBST(right_nums)\n",
    "#         print(node.val)\n",
    "        return node       \n",
    "\n",
    "\n",
    "s = Solution()\n",
    "s.sortedArrayToBST([-10,-3,0,5,9])"
   ]
  },
  {
   "cell_type": "code",
   "execution_count": 39,
   "metadata": {},
   "outputs": [],
   "source": [
    "# 242. Valid Anagram\n",
    "class Solution:\n",
    "    def isAnagram(self, s: str, t: str) -> bool:\n",
    "        if len(s) != len(t):\n",
    "            return False\n",
    "        ss = list(s)\n",
    "        ss.sort()\n",
    "        tt = list(t)\n",
    "        tt.sort()\n",
    "        return ss == tt"
   ]
  },
  {
   "cell_type": "code",
   "execution_count": 43,
   "metadata": {},
   "outputs": [
    {
     "data": {
      "text/plain": [
       "True"
      ]
     },
     "execution_count": 43,
     "metadata": {},
     "output_type": "execute_result"
    }
   ],
   "source": [
    "s = \"anagram\"\n",
    "t = \"nagaram\"\n",
    "sorted(s) == sorted(t)"
   ]
  },
  {
   "cell_type": "code",
   "execution_count": 44,
   "metadata": {},
   "outputs": [
    {
     "data": {
      "text/plain": [
       "False"
      ]
     },
     "execution_count": 44,
     "metadata": {},
     "output_type": "execute_result"
    }
   ],
   "source": [
    "s = \"a\"\n",
    "t = \"n\"\n",
    "sorted(s) == sorted(t)"
   ]
  },
  {
   "cell_type": "code",
   "execution_count": 47,
   "metadata": {},
   "outputs": [
    {
     "name": "stdout",
     "output_type": "stream",
     "text": [
      "False\n"
     ]
    }
   ],
   "source": [
    "# 217. Contains Duplicate\n",
    "nums = [1,2,3]\n",
    "d = {}\n",
    "for i in nums:\n",
    "    if i in d:\n",
    "        print(True)\n",
    "        break\n",
    "    else:\n",
    "        d[i] = 1\n",
    "else: print(False)"
   ]
  },
  {
   "cell_type": "code",
   "execution_count": 30,
   "metadata": {},
   "outputs": [],
   "source": [
    "# 13. Roman to Integer\n",
    "def romanToInt(s):\n",
    "    d1 = {'I': 1, 'V': 5, 'X': 10, 'L': 50, 'C': 100, 'D': 500, 'M': 1000}\n",
    "    d2 = {'IV': 4, 'IX': 9, 'XL': 40, 'XC': 90, 'CD': 400, 'CM': 900}\n",
    "    res = i = 0\n",
    "    while i < len(s):\n",
    "        if (i+1 < len(s)) and (s[i:i+2]) in d2:\n",
    "            res = res + d2[s[i:i+2]]\n",
    "            i += 2\n",
    "        else:\n",
    "            res = res + d1[s[i]]\n",
    "            i += 1\n",
    "    return res\n"
   ]
  },
  {
   "cell_type": "code",
   "execution_count": 31,
   "metadata": {
    "scrolled": true
   },
   "outputs": [
    {
     "data": {
      "text/plain": [
       "621"
      ]
     },
     "execution_count": 31,
     "metadata": {},
     "output_type": "execute_result"
    }
   ],
   "source": [
    "romanToInt(\"DCXXI\")"
   ]
  },
  {
   "cell_type": "code",
   "execution_count": 33,
   "metadata": {},
   "outputs": [],
   "source": [
    "# 122. Best Time to Buy and Sell Stock II\n",
    "# https://leetcode.com/problems/best-time-to-buy-and-sell-stock-ii/solution/ - good explanation\n",
    "def maxProfit(prices):\n",
    "    profit = 0\n",
    "    for i in range(1,len(prices)):\n",
    "        if prices[i] > prices[i-1]:\n",
    "            profit += prices[i] - prices[i-1]\n",
    "    return profit\n"
   ]
  },
  {
   "cell_type": "code",
   "execution_count": 88,
   "metadata": {
    "scrolled": true
   },
   "outputs": [
    {
     "data": {
      "text/plain": [
       "701"
      ]
     },
     "execution_count": 88,
     "metadata": {},
     "output_type": "execute_result"
    }
   ],
   "source": [
    "# 171. Excel Sheet Column Number\n",
    "def titleToNumber(s):\n",
    "    keys = [chr(i) for i in range(65,91)]\n",
    "    values = list(range(1,27))\n",
    "    d = dict(zip(keys, values))\n",
    "    res = 0\n",
    "    n = len(s)\n",
    "    for i in range(n):\n",
    "        res += d[s[i]]*(26**(n - 1 - i))\n",
    "    return res\n",
    "                        \n",
    "titleToNumber('ZY')"
   ]
  },
  {
   "cell_type": "code",
   "execution_count": 101,
   "metadata": {},
   "outputs": [],
   "source": [
    "# 21. Merge Two Sorted Lists\n",
    "# Definition for singly-linked list.\n",
    "class ListNode:\n",
    "    def __init__(self, x):\n",
    "        self.val = x\n",
    "        self.next = None\n",
    "\n",
    "class Solution:\n",
    "    def mergeTwoLists(self, l1, l2):\n",
    "        head = ListNode(0)\n",
    "        tmp = head\n",
    "            \n",
    "        while l1 and l2:\n",
    "            if l1.val <= l2.val:\n",
    "                node = ListNode(l1.val)\n",
    "                l1 = l1.next\n",
    "            else:\n",
    "                node = ListNode(l2.val)\n",
    "                l2 = l2.next\n",
    "            tmp.next = node\n",
    "            tmp = tmp.next\n",
    "        if l1:\n",
    "            tmp.next = l1\n",
    "        elif l2:\n",
    "            tmp.next = l2\n",
    "        return head.next "
   ]
  },
  {
   "cell_type": "code",
   "execution_count": 105,
   "metadata": {},
   "outputs": [
    {
     "name": "stdout",
     "output_type": "stream",
     "text": [
      "1\n",
      "1\n",
      "2\n",
      "3\n",
      "4\n",
      "4\n"
     ]
    }
   ],
   "source": [
    "# test\n",
    "l1 = ListNode(1)\n",
    "node1 = ListNode(2)\n",
    "node2 = ListNode(4)\n",
    "l1.next = node1\n",
    "node1.next = node2\n",
    "\n",
    "l2 = ListNode(1)\n",
    "node1 = ListNode(3)\n",
    "node2 = ListNode(4)\n",
    "l2.next = node1\n",
    "node1.next = node2 \n",
    "\n",
    "s = Solution()\n",
    "node = s.mergeTwoLists(l1, l2)\n",
    "\n",
    "i = node\n",
    "while i:\n",
    "    print(i.val)\n",
    "    i = i.next"
   ]
  },
  {
   "cell_type": "code",
   "execution_count": null,
   "metadata": {},
   "outputs": [],
   "source": [
    "# 387. First Unique Character in a String\n",
    "# Given a string, find the first non-repeating character in it and return it's index.\n",
    "# If it doesn't exist, return -1. (You may assume the string contain only lowercase letters)"
   ]
  },
  {
   "cell_type": "code",
   "execution_count": 27,
   "metadata": {},
   "outputs": [],
   "source": [
    "# my solution\n",
    "def firstUniqChar(s: str) -> int:\n",
    "    out = -1\n",
    "    i = 0\n",
    "    n = len(s)\n",
    "    while i < n:\n",
    "        if s[i] != 'A':\n",
    "            if s.count(s[i]) == 1:\n",
    "                out = i\n",
    "                i = n\n",
    "            else:\n",
    "                s = s.replace(s[i],'A')\n",
    "                i += 1\n",
    "        else:\n",
    "            i += 1\n",
    "    return out"
   ]
  },
  {
   "cell_type": "code",
   "execution_count": 28,
   "metadata": {},
   "outputs": [
    {
     "data": {
      "text/plain": [
       "2"
      ]
     },
     "execution_count": 28,
     "metadata": {},
     "output_type": "execute_result"
    }
   ],
   "source": [
    "# s = \"aabb\"\n",
    "# s = \"leetcode\"\n",
    "s = \"loveleetcode\"\n",
    "firstUniqChar(s)"
   ]
  },
  {
   "cell_type": "code",
   "execution_count": null,
   "metadata": {},
   "outputs": [],
   "source": [
    "# leetcode solution\n",
    "    def firstUniqChar(self, s: str) -> int:\n",
    "        \"\"\"\n",
    "        :type s: str\n",
    "        :rtype: int\n",
    "        \"\"\"\n",
    "        # build hash map : character and how often it appears\n",
    "        count = collections.Counter(s)\n",
    "        \n",
    "        # find the index\n",
    "        for idx, ch in enumerate(s):\n",
    "            if count[ch] == 1:\n",
    "                return idx     \n",
    "        return -1"
   ]
  },
  {
   "cell_type": "code",
   "execution_count": null,
   "metadata": {},
   "outputs": [],
   "source": []
  },
  {
   "cell_type": "code",
   "execution_count": 42,
   "metadata": {},
   "outputs": [],
   "source": [
    "# 118. Pascal's Triangle\n",
    "# my solution\n",
    "def generate(numRows: int):\n",
    "    if numRows < 1:\n",
    "        return []\n",
    "    out = [[1]]\n",
    "    prev = [1]\n",
    "    for i in range(2,numRows+1):\n",
    "        new = [1]\n",
    "        for j in range(len(prev)-1):\n",
    "            new.append(prev[j] + prev[j+1])\n",
    "        new.append(1)\n",
    "        out.append(new)\n",
    "        prev = new\n",
    "    return out"
   ]
  },
  {
   "cell_type": "code",
   "execution_count": 43,
   "metadata": {},
   "outputs": [
    {
     "data": {
      "text/plain": [
       "[[1], [1, 1], [1, 2, 1], [1, 3, 3, 1], [1, 4, 6, 4, 1]]"
      ]
     },
     "execution_count": 43,
     "metadata": {},
     "output_type": "execute_result"
    }
   ],
   "source": [
    "generate(5)"
   ]
  },
  {
   "cell_type": "code",
   "execution_count": null,
   "metadata": {},
   "outputs": [],
   "source": [
    "# leetcode solution\n",
    "def generate(self, num_rows):\n",
    "    triangle = []\n",
    "\n",
    "    for row_num in range(num_rows):\n",
    "         # The first and last row elements are always 1.\n",
    "        row = [None for _ in range(row_num+1)]\n",
    "        row[0], row[-1] = 1, 1\n",
    "\n",
    "        # Each triangle element is equal to the sum of the elements\n",
    "        # above-and-to-the-left and above-and-to-the-right.\n",
    "        for j in range(1, len(row)-1):\n",
    "            row[j] = triangle[row_num-1][j-1] + triangle[row_num-1][j]\n",
    "\n",
    "        triangle.append(row)\n",
    "\n",
    "    return triangle"
   ]
  },
  {
   "cell_type": "code",
   "execution_count": null,
   "metadata": {},
   "outputs": [],
   "source": []
  },
  {
   "cell_type": "code",
   "execution_count": null,
   "metadata": {},
   "outputs": [],
   "source": [
    "# 268. Missing Number\n",
    "# Given an array containing n distinct numbers taken from 0, 1, 2, ..., n, \n",
    "# find the one that is missing from the array.\n",
    "\n",
    "# my solution\n",
    "def missingNumber(nums) -> int:\n",
    "    nums.sort()\n",
    "    i = 0\n",
    "    while i < len(nums):\n",
    "        if nums[i] != i:\n",
    "            return i\n",
    "        else:\n",
    "            i += 1\n",
    "    return len(nums)"
   ]
  },
  {
   "cell_type": "code",
   "execution_count": 59,
   "metadata": {},
   "outputs": [],
   "source": [
    "# leetcode solution\n",
    "    def missingNumber(self, nums):\n",
    "        nums.sort()\n",
    "\n",
    "        # Ensure that n is at the last index\n",
    "        if nums[-1] != len(nums):\n",
    "            return len(nums)\n",
    "        # Ensure that 0 is at the first index\n",
    "        elif nums[0] != 0:\n",
    "            return 0\n",
    "\n",
    "        # If we get here, then the missing number is on the range (0, n)\n",
    "        for i in range(1, len(nums)):\n",
    "            expected_num = nums[i-1] + 1\n",
    "            if nums[i] != expected_num:\n",
    "                return expected_num"
   ]
  },
  {
   "cell_type": "code",
   "execution_count": null,
   "metadata": {},
   "outputs": [],
   "source": [
    "# 350. Intersection of Two Arrays II\n",
    "# Given two arrays, write a function to compute their intersection.\n",
    "\n",
    "import collections\n",
    "def intersect(nums1, nums2):\n",
    "    if len(nums2) < len(nums1):\n",
    "        nums1, nums2 = nums2, nums1\n",
    "    dict = collections.Counter(nums1)\n",
    "    out = []\n",
    "    for ch in list(dict.keys()):\n",
    "        if ch in nums2:\n",
    "            out += [ch for _ in range(min(dict[ch], nums2.count(ch)))]\n",
    "    return out   \n"
   ]
  },
  {
   "cell_type": "code",
   "execution_count": 89,
   "metadata": {},
   "outputs": [],
   "source": [
    "# 371. Sum of Two Integers\n",
    "# Calculate the sum of two integers a and b, but you are not allowed to use the operator + and -.\n",
    "def getSum(a, b):\n",
    "    return sum([a,b])"
   ]
  },
  {
   "cell_type": "code",
   "execution_count": null,
   "metadata": {},
   "outputs": [],
   "source": [
    "# 202. Happy Number\n",
    "# Write an algorithm to determine if a number n is \"happy\".\n",
    "# A happy number is a number defined by the following process: Starting with any positive integer, \n",
    "# replace the number by the sum of the squares of its digits, and repeat the process until the number equals 1 (where it will stay), \n",
    "# or it loops endlessly in a cycle which does not include 1. Those numbers for which this process ends in 1 are happy numbers.\n",
    "# Return True if n is a happy number, and False if not."
   ]
  },
  {
   "cell_type": "code",
   "execution_count": null,
   "metadata": {},
   "outputs": [],
   "source": [
    "def isHappy(n: int):\n",
    "    numbers = set()\n",
    "    while True:\n",
    "        if n not in numbers:\n",
    "            numbers.add(n)\n",
    "            n = sum(int(i)**2 for i in list(str(n)))\n",
    "            if n == 1:\n",
    "                return True\n",
    "        else:\n",
    "            return False\n",
    "        \n",
    "    "
   ]
  },
  {
   "cell_type": "code",
   "execution_count": null,
   "metadata": {},
   "outputs": [],
   "source": [
    "#121. Best Time to Buy and Sell Stock\n",
    "# my first solution\n",
    "def maxProfit(price):\n",
    "    profit = 0\n",
    "    if not price:\n",
    "        return profit\n",
    "    min_max = []\n",
    "    buy = price[0]\n",
    "    i = 1\n",
    "    while i < len(price):\n",
    "        if buy >= price[i]:\n",
    "            buy = price[i]\n",
    "            i += 1\n",
    "        else:\n",
    "            min_max.append(buy)\n",
    "            sell = price[i]\n",
    "            i += 1\n",
    "            j = i\n",
    "            while j < len(price):\n",
    "                if sell <= price[j]:\n",
    "                    sell = price[j]\n",
    "                    j += 1\n",
    "                else:\n",
    "                    min_max.append(sell)\n",
    "                    if j < len(price):\n",
    "                        buy = price[j]\n",
    "                    i = j + 1\n",
    "                    j = len(price) + 1\n",
    "            if j == len(price):\n",
    "                min_max.append(sell)\n",
    "    d = 0\n",
    "    for i in range(1, len(min_max)):\n",
    "        d += min_max[i] - min_max[i-1]\n",
    "        if d > 0:\n",
    "            profit = max(profit, d)\n",
    "        else:\n",
    "            d = 0\n",
    "    return profit"
   ]
  },
  {
   "cell_type": "code",
   "execution_count": null,
   "metadata": {},
   "outputs": [],
   "source": [
    "# my better solution\n",
    "def maxProfit(prices):\n",
    "    profit = 0\n",
    "    if not prices:\n",
    "        return profit\n",
    "    minprice = float('inf')\n",
    "    for i in range(len(prices)):\n",
    "        if prices[i] < minprice:\n",
    "            minprice = prices[i]\n",
    "        else:\n",
    "            profit = max(profit, prices[i] - minprice)\n",
    "    return profit"
   ]
  },
  {
   "cell_type": "code",
   "execution_count": null,
   "metadata": {},
   "outputs": [],
   "source": [
    "# 191. Number of 1 Bits\n",
    "bin(n).count('1')"
   ]
  },
  {
   "cell_type": "code",
   "execution_count": null,
   "metadata": {},
   "outputs": [],
   "source": [
    "# 70. Climbing Stairs\n",
    "def climbStairs(n):\n",
    "    ways = [0,1,2]\n",
    "    for i in range(3, n+1):\n",
    "        ways.append(ways[i-1] + ways[i-2])\n",
    "    return ways[n]"
   ]
  },
  {
   "cell_type": "code",
   "execution_count": null,
   "metadata": {},
   "outputs": [],
   "source": [
    "# 101. Symmetric Tree\n",
    "# my recursive solution\n",
    "# note: we can compare vals only for not None nodes\n",
    "\n",
    "# class TreeNode:\n",
    "#     def __init__(self, val=0, left=None, right=None):\n",
    "#         self.val = val\n",
    "#         self.left = left\n",
    "#         self.right = right\n",
    "class Solution:\n",
    "    def isSymmetric(self, root: TreeNode) -> bool:\n",
    "        if not root:\n",
    "            return True\n",
    "        return self.is2nodesSym(root.left, root.right)\n",
    "    \n",
    "    def is2nodesSym(self, nl, nr):\n",
    "        if not nl or not nr: \n",
    "            return nl == nr\n",
    "        if nl.val != nr.val: \n",
    "            return False\n",
    "        return self.is2nodesSym(nl.left, nr.right) and self.is2nodesSym(nl.right, nr.left)"
   ]
  },
  {
   "cell_type": "code",
   "execution_count": 15,
   "metadata": {},
   "outputs": [],
   "source": [
    "# my iterative solution\n",
    "class Solution:\n",
    "    def is2nodesSym(self, nl, nr):\n",
    "        if not nl or not nr: \n",
    "            return nl == nr\n",
    "        return nl.val == nr.val\n",
    "    \n",
    "    def isSymmetric(self, root: TreeNode) -> bool:\n",
    "        if not root:\n",
    "            return True\n",
    "        dq = deque([(root.left, root.right)])\n",
    "        while dq:\n",
    "            nl, nr = dq.popleft()\n",
    "            if not self.is2nodesSym(nl, nr):\n",
    "                return False\n",
    "            if nl:\n",
    "                dq.extend([(nl.left, nr.right), (nl.right, nr.left)])\n",
    "        return True\n",
    "        "
   ]
  },
  {
   "cell_type": "code",
   "execution_count": 28,
   "metadata": {},
   "outputs": [],
   "source": [
    "# 53. Maximum Subarray\n",
    "def maxSubArray(nums):\n",
    "    if max(nums) <= 0:\n",
    "        return max(nums)\n",
    "    temp = 0\n",
    "    res = max(nums)\n",
    "    for i in nums:\n",
    "        temp +=i\n",
    "        if temp < 0:\n",
    "            temp=0\n",
    "        if temp > res:\n",
    "            res = temp\n",
    "    return res"
   ]
  },
  {
   "cell_type": "code",
   "execution_count": 29,
   "metadata": {},
   "outputs": [
    {
     "data": {
      "text/plain": [
       "6"
      ]
     },
     "execution_count": 29,
     "metadata": {},
     "output_type": "execute_result"
    }
   ],
   "source": [
    "nums = [-2,1,-3,4,-1,2,1,-5,4]\n",
    "maxSubArray(nums)"
   ]
  },
  {
   "cell_type": "code",
   "execution_count": 38,
   "metadata": {},
   "outputs": [],
   "source": [
    "# Divide and Conquer approach for this task\n",
    "# https://www.geeksforgeeks.org/maximum-subarray-sum-using-divide-and-conquer-algorithm/\n",
    "\n",
    "# Maximum subarray sum such that the subarray crosses the midpoint\n",
    "def maxCrossingSum(arr, l, m, h) : \n",
    "      \n",
    "    # Include elements on left of mid. \n",
    "    sm = 0; left_sum = float('-inf')\n",
    "      \n",
    "    for i in range(m, l-1, -1) : \n",
    "        sm = sm + arr[i] \n",
    "          \n",
    "        if (sm > left_sum) : \n",
    "            left_sum = sm \n",
    "      \n",
    "      \n",
    "    # Include elements on right of mid \n",
    "    sm = 0; right_sum = float('-inf')\n",
    "    for i in range(m + 1, h + 1) : \n",
    "        sm = sm + arr[i] \n",
    "          \n",
    "        if (sm > right_sum) : \n",
    "            right_sum = sm \n",
    "      \n",
    "  \n",
    "    # Return sum of elements on left and right of mid \n",
    "    # returning only left_sum + right_sum will fail for [-2, 1] \n",
    "    return max(left_sum + right_sum, left_sum, right_sum) \n",
    "  \n",
    "def maxSubArraySum(arr, l, h) : \n",
    "      \n",
    "    # Base Case: Only one element \n",
    "    if (l == h) : \n",
    "        return arr[l] \n",
    "  \n",
    "    # Find middle point \n",
    "    m = (l + h) // 2\n",
    "  \n",
    "    # Return maximum of following three possible cases \n",
    "    # a) Maximum subarray sum in left half \n",
    "    # b) Maximum subarray sum in right half \n",
    "    # c) Maximum subarray sum such that the subarray crosses the midpoint  \n",
    "    return max(maxSubArraySum(arr, l, m), \n",
    "               maxSubArraySum(arr, m+1, h), \n",
    "               maxCrossingSum(arr, l, m, h))\n",
    "\n",
    "def maxSubArray(nums):\n",
    "    return maxSubArraySum(nums, 0, len(nums)-1)"
   ]
  },
  {
   "cell_type": "code",
   "execution_count": 39,
   "metadata": {},
   "outputs": [
    {
     "data": {
      "text/plain": [
       "6"
      ]
     },
     "execution_count": 39,
     "metadata": {},
     "output_type": "execute_result"
    }
   ],
   "source": [
    "nums = [-2,1,-3,4,-1,2,1,-5,4]\n",
    "maxSubArray(nums)"
   ]
  },
  {
   "cell_type": "code",
   "execution_count": null,
   "metadata": {},
   "outputs": [],
   "source": [
    "# 1. Two Sum\n",
    "# Brute force\n",
    "def twoSum(nums, target):\n",
    "    for i in range(len(nums)):\n",
    "        for j in range(i, len(nums)):\n",
    "            if sum(nums[i], nums[j]) = target:\n",
    "                return [i,j]\n",
    "            \n",
    "# Dictionary, 1st approach\n",
    "def twoSum(nums, target):\n",
    "    d = {target-nums[i]: i for i in range(len(nums))}\n",
    "    for j in range(len(nums)):\n",
    "        if nums[j] in d.keys() and j != d[nums[j]]:\n",
    "            return [j, d[nums[j]]]\n",
    "\n",
    "# Dictionary, 2nd approach\n",
    "def twoSum(nums, target):\n",
    "    d = {}\n",
    "    for j in range(len(nums)):\n",
    "        if nums[j] in d.keys() and j != d[nums[j]]:\n",
    "            return [j, d[nums[j]]]\n",
    "        else:\n",
    "            d.update([(target-nums[j], j)])"
   ]
  },
  {
   "cell_type": "code",
   "execution_count": null,
   "metadata": {},
   "outputs": [],
   "source": [
    "# 26. Remove Duplicates from Sorted Array in-place\n",
    "def removeDuplicates(nums):\n",
    "    if not nums:\n",
    "        return 0\n",
    "    i = 1\n",
    "    for j in range(1, len(nums)):\n",
    "        if nums[j] != nums[j-1]:\n",
    "            nums[i] = nums[j]\n",
    "            i += 1\n",
    "    return i       "
   ]
  },
  {
   "cell_type": "code",
   "execution_count": null,
   "metadata": {},
   "outputs": [],
   "source": [
    "# 38. Count and Say"
   ]
  },
  {
   "cell_type": "code",
   "execution_count": 64,
   "metadata": {},
   "outputs": [],
   "source": [
    "def countAndSay(n):\n",
    "    if n == 1:\n",
    "        return '1'\n",
    "    prev = countAndSay(n-1)\n",
    "    res = ''\n",
    "    fr = 1\n",
    "    i = 0\n",
    "    for i in range(1,len(prev)):\n",
    "        if prev[i] != prev[i-1]:\n",
    "            res = res + str(fr) + prev[i-1]\n",
    "            fr = 1\n",
    "        else:\n",
    "            fr += 1\n",
    "    res = res + str(fr) + prev[i]\n",
    "    return res\n",
    "   "
   ]
  },
  {
   "cell_type": "code",
   "execution_count": 69,
   "metadata": {},
   "outputs": [
    {
     "data": {
      "text/plain": [
       "'111221'"
      ]
     },
     "execution_count": 69,
     "metadata": {},
     "output_type": "execute_result"
    }
   ],
   "source": [
    "countAndSay(5)"
   ]
  },
  {
   "cell_type": "code",
   "execution_count": null,
   "metadata": {},
   "outputs": [],
   "source": [
    "# 155. Min Stack"
   ]
  },
  {
   "cell_type": "code",
   "execution_count": null,
   "metadata": {},
   "outputs": [],
   "source": [
    "class MinStack:\n",
    "\n",
    "    def __init__(self):\n",
    "        self.s = []\n",
    "        \"\"\"\n",
    "        initialize your data structure here.\n",
    "        \"\"\"\n",
    "        \n",
    "    def push(self, x: int) -> None:\n",
    "        self.s.append(x)\n",
    "\n",
    "    def pop(self) -> None:\n",
    "        self.s.pop()\n",
    "\n",
    "    def top(self) -> int:\n",
    "        return self.s.[-1]\n",
    "\n",
    "    def getMin(self) -> int:\n",
    "        return min(self.s)\n",
    "\n",
    "\n",
    "# Your MinStack object will be instantiated and called as such:\n",
    "# obj = MinStack()\n",
    "# obj.push(x)\n",
    "# obj.pop()\n",
    "# param_3 = obj.top()\n",
    "# param_4 = obj.getMin()"
   ]
  },
  {
   "cell_type": "code",
   "execution_count": null,
   "metadata": {},
   "outputs": [],
   "source": []
  },
  {
   "cell_type": "code",
   "execution_count": null,
   "metadata": {},
   "outputs": [],
   "source": []
  }
 ],
 "metadata": {
  "kernelspec": {
   "display_name": "Python 3",
   "language": "python",
   "name": "python3"
  },
  "language_info": {
   "codemirror_mode": {
    "name": "ipython",
    "version": 3
   },
   "file_extension": ".py",
   "mimetype": "text/x-python",
   "name": "python",
   "nbconvert_exporter": "python",
   "pygments_lexer": "ipython3",
   "version": "3.8.8"
  }
 },
 "nbformat": 4,
 "nbformat_minor": 2
}
