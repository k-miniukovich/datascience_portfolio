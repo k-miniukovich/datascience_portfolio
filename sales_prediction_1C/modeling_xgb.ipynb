{
 "cells": [
  {
   "cell_type": "code",
   "execution_count": 1,
   "id": "08468768",
   "metadata": {},
   "outputs": [],
   "source": [
    "import pandas as pd\n",
    "import numpy as np\n",
    "import matplotlib.pyplot as plt\n",
    "%matplotlib inline\n",
    "import xgboost as xgb\n",
    "from sklearn.metrics import mean_squared_error"
   ]
  },
  {
   "cell_type": "code",
   "execution_count": 2,
   "id": "217f02b2",
   "metadata": {},
   "outputs": [
    {
     "name": "stdout",
     "output_type": "stream",
     "text": [
      "CPU times: user 58.3 s, sys: 5.73 s, total: 1min 4s\n",
      "Wall time: 1min 7s\n"
     ]
    }
   ],
   "source": [
    "%%time\n",
    "# read train and test prepared in the notebook data_prep_4mod\n",
    "train = pd.read_csv('data/train_numfeatures.csv.gz') \n",
    "test =  pd.read_csv('data/test_numfeatures.csv.gz')"
   ]
  },
  {
   "cell_type": "markdown",
   "id": "07986208",
   "metadata": {},
   "source": [
    "Use sales with 'date_block_num' from 12 to 32 for modeling and sales with 'date_block_num'equal 33 for validation.\n",
    "To train model for prediction on test, use sales with 'date_block_num' from 12 to 33"
   ]
  },
  {
   "cell_type": "code",
   "execution_count": 3,
   "id": "c7b7c29d",
   "metadata": {},
   "outputs": [],
   "source": [
    "lag_var = ['tg', 'tg_sum', 'tg_mean', 'tg_shop', 'tg_item', 'tg_cat']\n",
    "\n",
    "train = train[list(set(train) - set(lag_var))]\n",
    "test = test[list(set(test) - set(lag_var))]"
   ]
  },
  {
   "cell_type": "code",
   "execution_count": null,
   "id": "38409cfb",
   "metadata": {},
   "outputs": [],
   "source": [
    "np.array(train.columns)"
   ]
  },
  {
   "cell_type": "code",
   "execution_count": 4,
   "id": "3c6447c6",
   "metadata": {},
   "outputs": [],
   "source": [
    "# train, trainv and valid\n",
    "train = train[train['date_block_num']>11]\n",
    "trainv = train[train['date_block_num']!=33]\n",
    "valid = train[train['date_block_num']==33]"
   ]
  },
  {
   "cell_type": "markdown",
   "id": "af32af40",
   "metadata": {},
   "source": [
    "xgb with default hyperparameters on all features"
   ]
  },
  {
   "cell_type": "code",
   "execution_count": 19,
   "id": "e81c0981",
   "metadata": {
    "scrolled": true
   },
   "outputs": [
    {
     "name": "stdout",
     "output_type": "stream",
     "text": [
      "[0]\tvalidation_0-rmse:1.07002\tvalidation_1-rmse:1.06356\n",
      "[1]\tvalidation_0-rmse:0.99387\tvalidation_1-rmse:1.01056\n",
      "[2]\tvalidation_0-rmse:0.95168\tvalidation_1-rmse:0.98420\n",
      "[3]\tvalidation_0-rmse:0.92420\tvalidation_1-rmse:0.96644\n",
      "[4]\tvalidation_0-rmse:0.90818\tvalidation_1-rmse:0.95936\n",
      "[5]\tvalidation_0-rmse:0.89884\tvalidation_1-rmse:0.95497\n",
      "[6]\tvalidation_0-rmse:0.89150\tvalidation_1-rmse:0.95295\n",
      "[7]\tvalidation_0-rmse:0.88672\tvalidation_1-rmse:0.95159\n",
      "[8]\tvalidation_0-rmse:0.87867\tvalidation_1-rmse:0.94105\n",
      "[9]\tvalidation_0-rmse:0.87569\tvalidation_1-rmse:0.94093\n",
      "[10]\tvalidation_0-rmse:0.87311\tvalidation_1-rmse:0.93972\n",
      "[11]\tvalidation_0-rmse:0.87057\tvalidation_1-rmse:0.93850\n",
      "[12]\tvalidation_0-rmse:0.86870\tvalidation_1-rmse:0.93797\n",
      "[13]\tvalidation_0-rmse:0.86635\tvalidation_1-rmse:0.93646\n",
      "[14]\tvalidation_0-rmse:0.86467\tvalidation_1-rmse:0.93608\n",
      "[15]\tvalidation_0-rmse:0.86383\tvalidation_1-rmse:0.93588\n",
      "[16]\tvalidation_0-rmse:0.86178\tvalidation_1-rmse:0.93511\n",
      "[17]\tvalidation_0-rmse:0.86031\tvalidation_1-rmse:0.93483\n",
      "[18]\tvalidation_0-rmse:0.85918\tvalidation_1-rmse:0.93453\n",
      "[19]\tvalidation_0-rmse:0.85814\tvalidation_1-rmse:0.93322\n",
      "[20]\tvalidation_0-rmse:0.85597\tvalidation_1-rmse:0.93168\n",
      "[21]\tvalidation_0-rmse:0.85348\tvalidation_1-rmse:0.92960\n",
      "[22]\tvalidation_0-rmse:0.85280\tvalidation_1-rmse:0.92945\n",
      "[23]\tvalidation_0-rmse:0.85163\tvalidation_1-rmse:0.93017\n",
      "[24]\tvalidation_0-rmse:0.85001\tvalidation_1-rmse:0.93016\n",
      "[25]\tvalidation_0-rmse:0.84942\tvalidation_1-rmse:0.93020\n",
      "[26]\tvalidation_0-rmse:0.84852\tvalidation_1-rmse:0.93004\n",
      "[27]\tvalidation_0-rmse:0.84759\tvalidation_1-rmse:0.93096\n",
      "[28]\tvalidation_0-rmse:0.84669\tvalidation_1-rmse:0.93129\n",
      "[29]\tvalidation_0-rmse:0.84523\tvalidation_1-rmse:0.93242\n",
      "[30]\tvalidation_0-rmse:0.84340\tvalidation_1-rmse:0.93054\n",
      "[31]\tvalidation_0-rmse:0.84223\tvalidation_1-rmse:0.92994\n",
      "[32]\tvalidation_0-rmse:0.84177\tvalidation_1-rmse:0.92984\n",
      "[33]\tvalidation_0-rmse:0.84030\tvalidation_1-rmse:0.92977\n",
      "[34]\tvalidation_0-rmse:0.83989\tvalidation_1-rmse:0.92947\n",
      "[35]\tvalidation_0-rmse:0.83941\tvalidation_1-rmse:0.92940\n",
      "[36]\tvalidation_0-rmse:0.83870\tvalidation_1-rmse:0.92970\n",
      "[37]\tvalidation_0-rmse:0.83790\tvalidation_1-rmse:0.92894\n",
      "[38]\tvalidation_0-rmse:0.83743\tvalidation_1-rmse:0.92878\n",
      "[39]\tvalidation_0-rmse:0.83644\tvalidation_1-rmse:0.92838\n",
      "[40]\tvalidation_0-rmse:0.83529\tvalidation_1-rmse:0.92746\n",
      "[41]\tvalidation_0-rmse:0.83490\tvalidation_1-rmse:0.92733\n",
      "[42]\tvalidation_0-rmse:0.83352\tvalidation_1-rmse:0.92855\n",
      "[43]\tvalidation_0-rmse:0.83178\tvalidation_1-rmse:0.92670\n",
      "[44]\tvalidation_0-rmse:0.83116\tvalidation_1-rmse:0.92683\n",
      "[45]\tvalidation_0-rmse:0.83079\tvalidation_1-rmse:0.92696\n",
      "[46]\tvalidation_0-rmse:0.83040\tvalidation_1-rmse:0.92671\n",
      "[47]\tvalidation_0-rmse:0.83014\tvalidation_1-rmse:0.92658\n",
      "[48]\tvalidation_0-rmse:0.82940\tvalidation_1-rmse:0.92718\n",
      "[49]\tvalidation_0-rmse:0.82872\tvalidation_1-rmse:0.93168\n",
      "[50]\tvalidation_0-rmse:0.82840\tvalidation_1-rmse:0.93144\n",
      "[51]\tvalidation_0-rmse:0.82822\tvalidation_1-rmse:0.93141\n",
      "[52]\tvalidation_0-rmse:0.82745\tvalidation_1-rmse:0.93132\n",
      "[53]\tvalidation_0-rmse:0.82691\tvalidation_1-rmse:0.93108\n",
      "[54]\tvalidation_0-rmse:0.82435\tvalidation_1-rmse:0.92933\n",
      "[55]\tvalidation_0-rmse:0.82374\tvalidation_1-rmse:0.93022\n",
      "[56]\tvalidation_0-rmse:0.82340\tvalidation_1-rmse:0.93066\n",
      "[57]\tvalidation_0-rmse:0.82188\tvalidation_1-rmse:0.93544\n",
      "[58]\tvalidation_0-rmse:0.82060\tvalidation_1-rmse:0.93567\n",
      "[59]\tvalidation_0-rmse:0.82015\tvalidation_1-rmse:0.93539\n",
      "[60]\tvalidation_0-rmse:0.81991\tvalidation_1-rmse:0.93535\n",
      "[61]\tvalidation_0-rmse:0.81949\tvalidation_1-rmse:0.93578\n",
      "[62]\tvalidation_0-rmse:0.81925\tvalidation_1-rmse:0.93546\n",
      "[63]\tvalidation_0-rmse:0.81886\tvalidation_1-rmse:0.93548\n",
      "[64]\tvalidation_0-rmse:0.81857\tvalidation_1-rmse:0.93540\n",
      "[65]\tvalidation_0-rmse:0.81805\tvalidation_1-rmse:0.93627\n",
      "[66]\tvalidation_0-rmse:0.81767\tvalidation_1-rmse:0.93611\n",
      "[67]\tvalidation_0-rmse:0.81737\tvalidation_1-rmse:0.93622\n",
      "[68]\tvalidation_0-rmse:0.81688\tvalidation_1-rmse:0.93665\n",
      "[69]\tvalidation_0-rmse:0.81621\tvalidation_1-rmse:0.93632\n",
      "[70]\tvalidation_0-rmse:0.81603\tvalidation_1-rmse:0.93624\n",
      "[71]\tvalidation_0-rmse:0.81559\tvalidation_1-rmse:0.93581\n",
      "[72]\tvalidation_0-rmse:0.81510\tvalidation_1-rmse:0.93567\n",
      "[73]\tvalidation_0-rmse:0.81385\tvalidation_1-rmse:0.93984\n",
      "[74]\tvalidation_0-rmse:0.81336\tvalidation_1-rmse:0.93921\n",
      "[75]\tvalidation_0-rmse:0.81274\tvalidation_1-rmse:0.93915\n",
      "[76]\tvalidation_0-rmse:0.81223\tvalidation_1-rmse:0.93900\n",
      "[77]\tvalidation_0-rmse:0.81182\tvalidation_1-rmse:0.93873\n",
      "[78]\tvalidation_0-rmse:0.81141\tvalidation_1-rmse:0.94160\n",
      "[79]\tvalidation_0-rmse:0.81128\tvalidation_1-rmse:0.94222\n",
      "[80]\tvalidation_0-rmse:0.81108\tvalidation_1-rmse:0.94190\n",
      "[81]\tvalidation_0-rmse:0.81087\tvalidation_1-rmse:0.94163\n",
      "[82]\tvalidation_0-rmse:0.81060\tvalidation_1-rmse:0.94153\n",
      "[83]\tvalidation_0-rmse:0.81020\tvalidation_1-rmse:0.94130\n",
      "[84]\tvalidation_0-rmse:0.80995\tvalidation_1-rmse:0.94175\n",
      "[85]\tvalidation_0-rmse:0.80972\tvalidation_1-rmse:0.94149\n",
      "[86]\tvalidation_0-rmse:0.80959\tvalidation_1-rmse:0.94145\n",
      "[87]\tvalidation_0-rmse:0.80925\tvalidation_1-rmse:0.94112\n",
      "[88]\tvalidation_0-rmse:0.80882\tvalidation_1-rmse:0.94276\n",
      "[89]\tvalidation_0-rmse:0.80863\tvalidation_1-rmse:0.94264\n",
      "[90]\tvalidation_0-rmse:0.80841\tvalidation_1-rmse:0.94267\n",
      "[91]\tvalidation_0-rmse:0.80811\tvalidation_1-rmse:0.94249\n",
      "[92]\tvalidation_0-rmse:0.80783\tvalidation_1-rmse:0.94234\n",
      "[93]\tvalidation_0-rmse:0.80756\tvalidation_1-rmse:0.94232\n",
      "[94]\tvalidation_0-rmse:0.80725\tvalidation_1-rmse:0.94224\n",
      "[95]\tvalidation_0-rmse:0.80695\tvalidation_1-rmse:0.94219\n",
      "[96]\tvalidation_0-rmse:0.80676\tvalidation_1-rmse:0.94252\n",
      "[97]\tvalidation_0-rmse:0.80636\tvalidation_1-rmse:0.94263\n",
      "[98]\tvalidation_0-rmse:0.80606\tvalidation_1-rmse:0.94253\n",
      "[99]\tvalidation_0-rmse:0.80581\tvalidation_1-rmse:0.94268\n",
      "CPU times: user 1h 43s, sys: 29min 29s, total: 1h 30min 12s\n",
      "Wall time: 1h 7min 47s\n"
     ]
    },
    {
     "data": {
      "text/plain": [
       "<AxesSubplot:title={'center':'Feature importance'}, xlabel='F score', ylabel='Features'>"
      ]
     },
     "execution_count": 19,
     "metadata": {},
     "output_type": "execute_result"
    },
    {
     "data": {
      "image/png": "[encoded data removed]",
      "text/plain": [
       "<Figure size 432x288 with 1 Axes>"
      ]
     },
     "metadata": {
      "needs_background": "light"
     },
     "output_type": "display_data"
    }
   ],
   "source": [
    "%%time\n",
    "# Scikit-learn API (XGBRegressor) is chosen \n",
    "X_train = trainv.drop('target', axis=1)\n",
    "y_train = trainv['target']\n",
    "X_valid = valid.drop('target', axis=1)\n",
    "y_valid = valid['target']\n",
    "\n",
    "model = xgb.XGBRegressor()\n",
    "model.fit(X_train,\n",
    "          y_train, \n",
    "          eval_set=[(X_train,y_train), (X_valid, y_valid)]\n",
    "        )\n",
    "\n",
    "# plot feature importance and evaluation results\n",
    "xgb.plot_importance(model, max_num_features=20);"
   ]
  },
  {
   "cell_type": "code",
   "execution_count": 31,
   "id": "819b0f36",
   "metadata": {
    "scrolled": true
   },
   "outputs": [
    {
     "data": {
      "image/png": "[encoded data removed]",
      "text/plain": [
       "<Figure size 432x288 with 1 Axes>"
      ]
     },
     "metadata": {
      "needs_background": "light"
     },
     "output_type": "display_data"
    }
   ],
   "source": [
    "xgb.plot_importance(model,importance_type='gain', max_num_features=20);"
   ]
  },
  {
   "cell_type": "code",
   "execution_count": 28,
   "id": "6b6534f5",
   "metadata": {},
   "outputs": [
    {
     "data": {
      "text/plain": [
       "'gain'"
      ]
     },
     "execution_count": 28,
     "metadata": {},
     "output_type": "execute_result"
    }
   ],
   "source": [
    "model.importance_type"
   ]
  },
  {
   "cell_type": "code",
   "execution_count": 26,
   "id": "d754ea09",
   "metadata": {
    "scrolled": true
   },
   "outputs": [
    {
     "data": {
      "text/html": [
       "<div>\n",
       "<style scoped>\n",
       "    .dataframe tbody tr th:only-of-type {\n",
       "        vertical-align: middle;\n",
       "    }\n",
       "\n",
       "    .dataframe tbody tr th {\n",
       "        vertical-align: top;\n",
       "    }\n",
       "\n",
       "    .dataframe thead th {\n",
       "        text-align: right;\n",
       "    }\n",
       "</style>\n",
       "<table border=\"1\" class=\"dataframe\">\n",
       "  <thead>\n",
       "    <tr style=\"text-align: right;\">\n",
       "      <th></th>\n",
       "      <th>features</th>\n",
       "      <th>importance</th>\n",
       "    </tr>\n",
       "  </thead>\n",
       "  <tbody>\n",
       "    <tr>\n",
       "      <th>0</th>\n",
       "      <td>tg_lag1</td>\n",
       "      <td>0.298350</td>\n",
       "    </tr>\n",
       "    <tr>\n",
       "      <th>1</th>\n",
       "      <td>tg_lag3</td>\n",
       "      <td>0.050064</td>\n",
       "    </tr>\n",
       "    <tr>\n",
       "      <th>2</th>\n",
       "      <td>mean_price_l1</td>\n",
       "      <td>0.042390</td>\n",
       "    </tr>\n",
       "    <tr>\n",
       "      <th>3</th>\n",
       "      <td>tg_item_lag1</td>\n",
       "      <td>0.040559</td>\n",
       "    </tr>\n",
       "    <tr>\n",
       "      <th>4</th>\n",
       "      <td>tg_lag2</td>\n",
       "      <td>0.035867</td>\n",
       "    </tr>\n",
       "    <tr>\n",
       "      <th>5</th>\n",
       "      <td>tg_mean_lag2</td>\n",
       "      <td>0.028197</td>\n",
       "    </tr>\n",
       "    <tr>\n",
       "      <th>6</th>\n",
       "      <td>tg_sum_lag13</td>\n",
       "      <td>0.026333</td>\n",
       "    </tr>\n",
       "    <tr>\n",
       "      <th>7</th>\n",
       "      <td>tg_cat_lag12</td>\n",
       "      <td>0.024959</td>\n",
       "    </tr>\n",
       "    <tr>\n",
       "      <th>8</th>\n",
       "      <td>tg_mean_lag3</td>\n",
       "      <td>0.022577</td>\n",
       "    </tr>\n",
       "    <tr>\n",
       "      <th>9</th>\n",
       "      <td>tg_shop_lag1</td>\n",
       "      <td>0.022017</td>\n",
       "    </tr>\n",
       "    <tr>\n",
       "      <th>10</th>\n",
       "      <td>month</td>\n",
       "      <td>0.021950</td>\n",
       "    </tr>\n",
       "    <tr>\n",
       "      <th>11</th>\n",
       "      <td>item_category_id</td>\n",
       "      <td>0.019674</td>\n",
       "    </tr>\n",
       "    <tr>\n",
       "      <th>12</th>\n",
       "      <td>tg_sum_lag12</td>\n",
       "      <td>0.019040</td>\n",
       "    </tr>\n",
       "    <tr>\n",
       "      <th>13</th>\n",
       "      <td>tg_cat_lag3</td>\n",
       "      <td>0.018689</td>\n",
       "    </tr>\n",
       "    <tr>\n",
       "      <th>14</th>\n",
       "      <td>tg_mean_d3-2</td>\n",
       "      <td>0.017337</td>\n",
       "    </tr>\n",
       "    <tr>\n",
       "      <th>15</th>\n",
       "      <td>nrow_block</td>\n",
       "      <td>0.014443</td>\n",
       "    </tr>\n",
       "    <tr>\n",
       "      <th>16</th>\n",
       "      <td>tg_mean_d13-1</td>\n",
       "      <td>0.013564</td>\n",
       "    </tr>\n",
       "    <tr>\n",
       "      <th>17</th>\n",
       "      <td>tg_cat_lag2</td>\n",
       "      <td>0.013545</td>\n",
       "    </tr>\n",
       "    <tr>\n",
       "      <th>18</th>\n",
       "      <td>tg_lag12</td>\n",
       "      <td>0.012970</td>\n",
       "    </tr>\n",
       "    <tr>\n",
       "      <th>19</th>\n",
       "      <td>tg_item_d2-1</td>\n",
       "      <td>0.012032</td>\n",
       "    </tr>\n",
       "    <tr>\n",
       "      <th>20</th>\n",
       "      <td>tg_mean_lag1</td>\n",
       "      <td>0.011599</td>\n",
       "    </tr>\n",
       "    <tr>\n",
       "      <th>21</th>\n",
       "      <td>tg_sum_d2-1</td>\n",
       "      <td>0.011570</td>\n",
       "    </tr>\n",
       "    <tr>\n",
       "      <th>22</th>\n",
       "      <td>tg_sum_lag2</td>\n",
       "      <td>0.011512</td>\n",
       "    </tr>\n",
       "    <tr>\n",
       "      <th>23</th>\n",
       "      <td>item_id</td>\n",
       "      <td>0.010865</td>\n",
       "    </tr>\n",
       "    <tr>\n",
       "      <th>24</th>\n",
       "      <td>tg_shop_lag2</td>\n",
       "      <td>0.010422</td>\n",
       "    </tr>\n",
       "    <tr>\n",
       "      <th>25</th>\n",
       "      <td>tg_shop_d2-1</td>\n",
       "      <td>0.010392</td>\n",
       "    </tr>\n",
       "    <tr>\n",
       "      <th>26</th>\n",
       "      <td>tg_cat_lag1</td>\n",
       "      <td>0.009890</td>\n",
       "    </tr>\n",
       "    <tr>\n",
       "      <th>27</th>\n",
       "      <td>date_block_num</td>\n",
       "      <td>0.009803</td>\n",
       "    </tr>\n",
       "    <tr>\n",
       "      <th>28</th>\n",
       "      <td>tg_item_lag3</td>\n",
       "      <td>0.009604</td>\n",
       "    </tr>\n",
       "    <tr>\n",
       "      <th>29</th>\n",
       "      <td>tg_mean_lag12</td>\n",
       "      <td>0.009555</td>\n",
       "    </tr>\n",
       "    <tr>\n",
       "      <th>30</th>\n",
       "      <td>tg_sum_lag1</td>\n",
       "      <td>0.009081</td>\n",
       "    </tr>\n",
       "    <tr>\n",
       "      <th>31</th>\n",
       "      <td>tg_cat_d13-1</td>\n",
       "      <td>0.007352</td>\n",
       "    </tr>\n",
       "    <tr>\n",
       "      <th>32</th>\n",
       "      <td>tg_item_d13-1</td>\n",
       "      <td>0.007253</td>\n",
       "    </tr>\n",
       "    <tr>\n",
       "      <th>33</th>\n",
       "      <td>tg_item_lag13</td>\n",
       "      <td>0.007118</td>\n",
       "    </tr>\n",
       "    <tr>\n",
       "      <th>34</th>\n",
       "      <td>tg_sum_lag3</td>\n",
       "      <td>0.007075</td>\n",
       "    </tr>\n",
       "    <tr>\n",
       "      <th>35</th>\n",
       "      <td>tg_cat_d2-1</td>\n",
       "      <td>0.007057</td>\n",
       "    </tr>\n",
       "    <tr>\n",
       "      <th>36</th>\n",
       "      <td>tg_item_lag12</td>\n",
       "      <td>0.006843</td>\n",
       "    </tr>\n",
       "    <tr>\n",
       "      <th>37</th>\n",
       "      <td>tg_sum_d3-2</td>\n",
       "      <td>0.006506</td>\n",
       "    </tr>\n",
       "    <tr>\n",
       "      <th>38</th>\n",
       "      <td>tg_shop_lag12</td>\n",
       "      <td>0.006134</td>\n",
       "    </tr>\n",
       "    <tr>\n",
       "      <th>39</th>\n",
       "      <td>tg_sum_d13-1</td>\n",
       "      <td>0.005999</td>\n",
       "    </tr>\n",
       "    <tr>\n",
       "      <th>40</th>\n",
       "      <td>tg_cat_d3-2</td>\n",
       "      <td>0.005996</td>\n",
       "    </tr>\n",
       "    <tr>\n",
       "      <th>41</th>\n",
       "      <td>tg_item_lag2</td>\n",
       "      <td>0.005966</td>\n",
       "    </tr>\n",
       "    <tr>\n",
       "      <th>42</th>\n",
       "      <td>tg_shop_d13-1</td>\n",
       "      <td>0.005879</td>\n",
       "    </tr>\n",
       "    <tr>\n",
       "      <th>43</th>\n",
       "      <td>tg_shop_lag3</td>\n",
       "      <td>0.005824</td>\n",
       "    </tr>\n",
       "    <tr>\n",
       "      <th>44</th>\n",
       "      <td>tg_item_d3-2</td>\n",
       "      <td>0.005365</td>\n",
       "    </tr>\n",
       "    <tr>\n",
       "      <th>45</th>\n",
       "      <td>tg_mean_d2-1</td>\n",
       "      <td>0.005341</td>\n",
       "    </tr>\n",
       "    <tr>\n",
       "      <th>46</th>\n",
       "      <td>tg_mean_lag13</td>\n",
       "      <td>0.005126</td>\n",
       "    </tr>\n",
       "    <tr>\n",
       "      <th>47</th>\n",
       "      <td>shop_id</td>\n",
       "      <td>0.004935</td>\n",
       "    </tr>\n",
       "    <tr>\n",
       "      <th>48</th>\n",
       "      <td>tg_d2-1</td>\n",
       "      <td>0.004603</td>\n",
       "    </tr>\n",
       "    <tr>\n",
       "      <th>49</th>\n",
       "      <td>tg_shop_d3-2</td>\n",
       "      <td>0.004186</td>\n",
       "    </tr>\n",
       "    <tr>\n",
       "      <th>50</th>\n",
       "      <td>tg_cat_lag13</td>\n",
       "      <td>0.004093</td>\n",
       "    </tr>\n",
       "    <tr>\n",
       "      <th>51</th>\n",
       "      <td>tg_d13-1</td>\n",
       "      <td>0.003484</td>\n",
       "    </tr>\n",
       "    <tr>\n",
       "      <th>52</th>\n",
       "      <td>tg_shop_lag13</td>\n",
       "      <td>0.003125</td>\n",
       "    </tr>\n",
       "    <tr>\n",
       "      <th>53</th>\n",
       "      <td>tg_lag13</td>\n",
       "      <td>0.002973</td>\n",
       "    </tr>\n",
       "    <tr>\n",
       "      <th>54</th>\n",
       "      <td>tg_d3-2</td>\n",
       "      <td>0.002913</td>\n",
       "    </tr>\n",
       "  </tbody>\n",
       "</table>\n",
       "</div>"
      ],
      "text/plain": [
       "            features  importance\n",
       "0            tg_lag1    0.298350\n",
       "1            tg_lag3    0.050064\n",
       "2      mean_price_l1    0.042390\n",
       "3       tg_item_lag1    0.040559\n",
       "4            tg_lag2    0.035867\n",
       "5       tg_mean_lag2    0.028197\n",
       "6       tg_sum_lag13    0.026333\n",
       "7       tg_cat_lag12    0.024959\n",
       "8       tg_mean_lag3    0.022577\n",
       "9       tg_shop_lag1    0.022017\n",
       "10             month    0.021950\n",
       "11  item_category_id    0.019674\n",
       "12      tg_sum_lag12    0.019040\n",
       "13       tg_cat_lag3    0.018689\n",
       "14      tg_mean_d3-2    0.017337\n",
       "15        nrow_block    0.014443\n",
       "16     tg_mean_d13-1    0.013564\n",
       "17       tg_cat_lag2    0.013545\n",
       "18          tg_lag12    0.012970\n",
       "19      tg_item_d2-1    0.012032\n",
       "20      tg_mean_lag1    0.011599\n",
       "21       tg_sum_d2-1    0.011570\n",
       "22       tg_sum_lag2    0.011512\n",
       "23           item_id    0.010865\n",
       "24      tg_shop_lag2    0.010422\n",
       "25      tg_shop_d2-1    0.010392\n",
       "26       tg_cat_lag1    0.009890\n",
       "27    date_block_num    0.009803\n",
       "28      tg_item_lag3    0.009604\n",
       "29     tg_mean_lag12    0.009555\n",
       "30       tg_sum_lag1    0.009081\n",
       "31      tg_cat_d13-1    0.007352\n",
       "32     tg_item_d13-1    0.007253\n",
       "33     tg_item_lag13    0.007118\n",
       "34       tg_sum_lag3    0.007075\n",
       "35       tg_cat_d2-1    0.007057\n",
       "36     tg_item_lag12    0.006843\n",
       "37       tg_sum_d3-2    0.006506\n",
       "38     tg_shop_lag12    0.006134\n",
       "39      tg_sum_d13-1    0.005999\n",
       "40       tg_cat_d3-2    0.005996\n",
       "41      tg_item_lag2    0.005966\n",
       "42     tg_shop_d13-1    0.005879\n",
       "43      tg_shop_lag3    0.005824\n",
       "44      tg_item_d3-2    0.005365\n",
       "45      tg_mean_d2-1    0.005341\n",
       "46     tg_mean_lag13    0.005126\n",
       "47           shop_id    0.004935\n",
       "48           tg_d2-1    0.004603\n",
       "49      tg_shop_d3-2    0.004186\n",
       "50      tg_cat_lag13    0.004093\n",
       "51          tg_d13-1    0.003484\n",
       "52     tg_shop_lag13    0.003125\n",
       "53          tg_lag13    0.002973\n",
       "54           tg_d3-2    0.002913"
      ]
     },
     "execution_count": 26,
     "metadata": {},
     "output_type": "execute_result"
    }
   ],
   "source": [
    "feature_imp = pd.DataFrame({'features':X_train.columns, 'importance':model.feature_importances_}).sort_values('importance', ascending=False, ignore_index=True)\n",
    "feature_imp"
   ]
  },
  {
   "cell_type": "code",
   "execution_count": 44,
   "id": "dfaeb6d4",
   "metadata": {},
   "outputs": [
    {
     "data": {
      "text/plain": [
       "Text(0, 0.5, 'rmse')"
      ]
     },
     "execution_count": 44,
     "metadata": {},
     "output_type": "execute_result"
    },
    {
     "data": {
      "image/png": "[encoded data removed]",
      "text/plain": [
       "<Figure size 432x288 with 1 Axes>"
      ]
     },
     "metadata": {
      "needs_background": "light"
     },
     "output_type": "display_data"
    }
   ],
   "source": [
    "rmse_train = model.evals_result_['validation_0']['rmse']\n",
    "rmse_valid = model.evals_result_['validation_1']['rmse']\n",
    "x=[i for i in range(0,100)]\n",
    "plt.plot(x,rmse_train, label='train');\n",
    "plt.plot(x,rmse_valid, label='valid');\n",
    "plt.title('Metric during training')\n",
    "plt.xlabel('iterations')\n",
    "plt.ylabel('rmse')"
   ]
  },
  {
   "cell_type": "markdown",
   "id": "b543baa4",
   "metadata": {},
   "source": [
    "43 trees is optimal with default values of other hyperparameters, RMSE on valid is 0.9267"
   ]
  },
  {
   "cell_type": "markdown",
   "id": "88530917",
   "metadata": {},
   "source": [
    "let's build a model on train and predict on test"
   ]
  },
  {
   "cell_type": "code",
   "execution_count": 5,
   "id": "375dfbfb",
   "metadata": {
    "scrolled": true
   },
   "outputs": [
    {
     "name": "stdout",
     "output_type": "stream",
     "text": [
      "[0]\tvalidation_0-rmse:1.06955\n",
      "[1]\tvalidation_0-rmse:0.99510\n",
      "[2]\tvalidation_0-rmse:0.95320\n",
      "[3]\tvalidation_0-rmse:0.92702\n",
      "[4]\tvalidation_0-rmse:0.91204\n",
      "[5]\tvalidation_0-rmse:0.90151\n",
      "[6]\tvalidation_0-rmse:0.89504\n",
      "[7]\tvalidation_0-rmse:0.89030\n",
      "[8]\tvalidation_0-rmse:0.88347\n",
      "[9]\tvalidation_0-rmse:0.88040\n",
      "[10]\tvalidation_0-rmse:0.87780\n",
      "[11]\tvalidation_0-rmse:0.87552\n",
      "[12]\tvalidation_0-rmse:0.87257\n",
      "[13]\tvalidation_0-rmse:0.87111\n",
      "[14]\tvalidation_0-rmse:0.86981\n",
      "[15]\tvalidation_0-rmse:0.86845\n",
      "[16]\tvalidation_0-rmse:0.86613\n",
      "[17]\tvalidation_0-rmse:0.86485\n",
      "[18]\tvalidation_0-rmse:0.86418\n",
      "[19]\tvalidation_0-rmse:0.86186\n",
      "[20]\tvalidation_0-rmse:0.85771\n",
      "[21]\tvalidation_0-rmse:0.85674\n",
      "[22]\tvalidation_0-rmse:0.85602\n",
      "[23]\tvalidation_0-rmse:0.85486\n",
      "[24]\tvalidation_0-rmse:0.85401\n",
      "[25]\tvalidation_0-rmse:0.85239\n",
      "[26]\tvalidation_0-rmse:0.84913\n",
      "[27]\tvalidation_0-rmse:0.84801\n",
      "[28]\tvalidation_0-rmse:0.84757\n",
      "[29]\tvalidation_0-rmse:0.84626\n",
      "[30]\tvalidation_0-rmse:0.84477\n",
      "[31]\tvalidation_0-rmse:0.84436\n",
      "[32]\tvalidation_0-rmse:0.84359\n",
      "[33]\tvalidation_0-rmse:0.84171\n",
      "[34]\tvalidation_0-rmse:0.84051\n",
      "[35]\tvalidation_0-rmse:0.84005\n",
      "[36]\tvalidation_0-rmse:0.83961\n",
      "[37]\tvalidation_0-rmse:0.83910\n",
      "[38]\tvalidation_0-rmse:0.83853\n",
      "[39]\tvalidation_0-rmse:0.83791\n",
      "[40]\tvalidation_0-rmse:0.83724\n",
      "[41]\tvalidation_0-rmse:0.83629\n",
      "[42]\tvalidation_0-rmse:0.83553\n",
      "CPU times: user 28min 15s, sys: 13min 54s, total: 42min 10s\n",
      "Wall time: 15min 1s\n"
     ]
    },
    {
     "data": {
      "text/plain": [
       "XGBRegressor(base_score=0.5, booster='gbtree', colsample_bylevel=1,\n",
       "             colsample_bynode=1, colsample_bytree=1, gamma=0, gpu_id=-1,\n",
       "             importance_type='gain', interaction_constraints='',\n",
       "             learning_rate=0.300000012, max_delta_step=0, max_depth=6,\n",
       "             min_child_weight=1, missing=nan, monotone_constraints='()',\n",
       "             n_estimators=43, n_jobs=8, num_parallel_tree=1, random_state=0,\n",
       "             reg_alpha=0, reg_lambda=1, scale_pos_weight=1, subsample=1,\n",
       "             tree_method='approx', validate_parameters=1, verbosity=None)"
      ]
     },
     "execution_count": 5,
     "metadata": {},
     "output_type": "execute_result"
    }
   ],
   "source": [
    "%%time\n",
    "X_train = train.drop('target', axis=1)\n",
    "y_train = train['target']\n",
    "\n",
    "best_xgbm = xgb.XGBRegressor(n_estimators=43)\n",
    "best_xgbm.fit(X_train,\n",
    "          y_train, \n",
    "          eval_set=[(X_train,y_train)]\n",
    "        )"
   ]
  },
  {
   "cell_type": "code",
   "execution_count": null,
   "id": "a393038a",
   "metadata": {},
   "outputs": [],
   "source": []
  },
  {
   "cell_type": "code",
   "execution_count": 46,
   "id": "9747af19",
   "metadata": {},
   "outputs": [],
   "source": [
    "test_init =  pd.read_csv('data/test.csv.gz')"
   ]
  },
  {
   "cell_type": "code",
   "execution_count": 47,
   "id": "9c6b394d",
   "metadata": {},
   "outputs": [],
   "source": [
    "y_pred = best_xgbm.predict(test).clip(min=0, max=20)\n",
    "pd.DataFrame({'ID': test_init['ID'], 'item_cnt_month': y_pred}).to_csv(\"submissions/xgbm.csv\", index=False)\n"
   ]
  },
  {
   "cell_type": "markdown",
   "id": "77ebcde6",
   "metadata": {},
   "source": [
    "RMSE on test on private/public leaderboard is 0.953/0.947"
   ]
  },
  {
   "cell_type": "code",
   "execution_count": 66,
   "id": "ee7c8dc4",
   "metadata": {},
   "outputs": [],
   "source": [
    "# best_xgbm.save_model('models/best_xgbm')"
   ]
  },
  {
   "cell_type": "code",
   "execution_count": 67,
   "id": "a7dae553",
   "metadata": {},
   "outputs": [],
   "source": [
    "# bst.load_model('models/best_xgbm')"
   ]
  },
  {
   "cell_type": "code",
   "execution_count": 68,
   "id": "78bded79",
   "metadata": {},
   "outputs": [],
   "source": [
    "# y_pred = bst.predict(xgb.DMatrix(test)).clip(min=0, max=20)"
   ]
  },
  {
   "cell_type": "code",
   "execution_count": 6,
   "id": "848e2d44",
   "metadata": {},
   "outputs": [],
   "source": [
    "predontrain_xgb = best_xgbm.predict(X_train).clip(min=0, max=20)\n",
    "pd.DataFrame({'xgb': predontrain_xgb}).to_csv(\"data/predontrain_xgb.csv\", index=False)"
   ]
  },
  {
   "cell_type": "code",
   "execution_count": 7,
   "id": "f69a7e84",
   "metadata": {},
   "outputs": [
    {
     "name": "stdout",
     "output_type": "stream",
     "text": [
      "rmse xgb: 0.8357605252722344\n"
     ]
    }
   ],
   "source": [
    "print('rmse xgb:', np.sqrt(mean_squared_error(predontrain_xgb,y_train)))"
   ]
  },
  {
   "cell_type": "code",
   "execution_count": null,
   "id": "819c5fd2",
   "metadata": {},
   "outputs": [],
   "source": []
  }
 ],
 "metadata": {
  "kernelspec": {
   "display_name": "Python 3",
   "language": "python",
   "name": "python3"
  },
  "language_info": {
   "codemirror_mode": {
    "name": "ipython",
    "version": 3
   },
   "file_extension": ".py",
   "mimetype": "text/x-python",
   "name": "python",
   "nbconvert_exporter": "python",
   "pygments_lexer": "ipython3",
   "version": "3.8.8"
  }
 },
 "nbformat": 4,
 "nbformat_minor": 5
}
