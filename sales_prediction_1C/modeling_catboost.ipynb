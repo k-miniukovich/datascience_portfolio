{
 "cells": [
  {
   "cell_type": "code",
   "execution_count": 1,
   "id": "08468768",
   "metadata": {},
   "outputs": [],
   "source": [
    "import pandas as pd\n",
    "import numpy as np\n",
    "import matplotlib.pyplot as plt\n",
    "%matplotlib inline\n",
    "from catboost import Pool, CatBoostRegressor\n",
    "from sklearn.metrics import mean_squared_error"
   ]
  },
  {
   "cell_type": "code",
   "execution_count": 2,
   "id": "dfaeb6d4",
   "metadata": {},
   "outputs": [],
   "source": [
    "def validation_curve(model):\n",
    "    rmse_train = model.evals_result_['learn']['RMSE']\n",
    "    rmse_valid = model.evals_result_['validation']['RMSE']\n",
    "    n = model.get_all_params().get('iterations')\n",
    "    x=[i for i in range(0,n)]\n",
    "    plt.plot(x,rmse_train, label='train');\n",
    "    plt.plot(x,rmse_valid, label='valid');\n",
    "    plt.title('Metric during training')\n",
    "    plt.xlabel('iterations')\n",
    "    plt.ylabel('rmse')    "
   ]
  },
  {
   "cell_type": "code",
   "execution_count": 3,
   "id": "217f02b2",
   "metadata": {},
   "outputs": [
    {
     "name": "stdout",
     "output_type": "stream",
     "text": [
      "CPU times: user 59.7 s, sys: 5.64 s, total: 1min 5s\n",
      "Wall time: 1min 9s\n"
     ]
    }
   ],
   "source": [
    "%%time\n",
    "# read train and test prepared in the notebook data_prep_4mod\n",
    "train = pd.read_csv('data/train_numfeatures.csv.gz') \n",
    "test =  pd.read_csv('data/test_numfeatures.csv.gz')"
   ]
  },
  {
   "cell_type": "markdown",
   "id": "07986208",
   "metadata": {},
   "source": [
    "Use sales with 'date_block_num' from 12 to 32 for modeling and sales with 'date_block_num'equal 33 for validation.\n",
    "To train model for prediction on test, use sales with 'date_block_num' from 12 to 33"
   ]
  },
  {
   "cell_type": "code",
   "execution_count": 4,
   "id": "c7b7c29d",
   "metadata": {},
   "outputs": [],
   "source": [
    "lag_var = ['tg', 'tg_sum', 'tg_mean', 'tg_shop', 'tg_item', 'tg_cat']\n",
    "\n",
    "train = train[list(set(train) - set(lag_var))]\n",
    "test = test[list(set(test) - set(lag_var))]"
   ]
  },
  {
   "cell_type": "code",
   "execution_count": 5,
   "id": "edddd73c",
   "metadata": {},
   "outputs": [],
   "source": [
    "train = train.astype({'mean_price_l1':'int32'})\n",
    "test = test.astype({'mean_price_l1':'int32'})"
   ]
  },
  {
   "cell_type": "code",
   "execution_count": 6,
   "id": "3c6447c6",
   "metadata": {},
   "outputs": [],
   "source": [
    "# train, trainv and valid\n",
    "train = train[train['date_block_num']>11]\n",
    "trainv = train[train['date_block_num']!=33]\n",
    "valid = train[train['date_block_num']==33]"
   ]
  },
  {
   "cell_type": "code",
   "execution_count": null,
   "id": "8744809b",
   "metadata": {},
   "outputs": [],
   "source": []
  },
  {
   "cell_type": "markdown",
   "id": "af32af40",
   "metadata": {},
   "source": [
    "catboost with default hyperparameters on categorical features item_id, item_category_id, shop_id, month, mean_price_l1 and numerical features date_block_num, nrow_block"
   ]
  },
  {
   "cell_type": "code",
   "execution_count": 8,
   "id": "d1bef3ed",
   "metadata": {},
   "outputs": [],
   "source": [
    "features = ['item_id', 'item_category_id', 'shop_id', 'month', 'mean_price_l1',\\\n",
    "            'date_block_num', 'nrow_block','target']\n",
    "cat = ['item_id', 'item_category_id', 'shop_id', 'month','mean_price_l1']\n"
   ]
  },
  {
   "cell_type": "code",
   "execution_count": 9,
   "id": "e81c0981",
   "metadata": {
    "scrolled": true
   },
   "outputs": [
    {
     "name": "stdout",
     "output_type": "stream",
     "text": [
      "Learning rate set to 0.5\n",
      "0:\tlearn: 1.0549091\ttest: 1.0801223\tbest: 1.0801223 (0)\ttotal: 1.26s\tremaining: 2m 4s\n",
      "1:\tlearn: 1.0060729\ttest: 1.0665570\tbest: 1.0665570 (1)\ttotal: 2.23s\tremaining: 1m 49s\n",
      "2:\tlearn: 0.9857983\ttest: 1.0662772\tbest: 1.0662772 (2)\ttotal: 2.85s\tremaining: 1m 32s\n",
      "3:\tlearn: 0.9753272\ttest: 1.0618573\tbest: 1.0618573 (3)\ttotal: 3.62s\tremaining: 1m 26s\n",
      "4:\tlearn: 0.9666662\ttest: 1.0648216\tbest: 1.0618573 (3)\ttotal: 4.07s\tremaining: 1m 17s\n",
      "5:\tlearn: 0.9613195\ttest: 1.0611371\tbest: 1.0611371 (5)\ttotal: 4.65s\tremaining: 1m 12s\n",
      "6:\tlearn: 0.9567077\ttest: 1.0577039\tbest: 1.0577039 (6)\ttotal: 5.45s\tremaining: 1m 12s\n",
      "7:\tlearn: 0.9527669\ttest: 1.0579914\tbest: 1.0577039 (6)\ttotal: 6.08s\tremaining: 1m 9s\n",
      "8:\tlearn: 0.9509107\ttest: 1.0572091\tbest: 1.0572091 (8)\ttotal: 6.61s\tremaining: 1m 6s\n",
      "9:\tlearn: 0.9464386\ttest: 1.0560600\tbest: 1.0560600 (9)\ttotal: 7.08s\tremaining: 1m 3s\n",
      "10:\tlearn: 0.9442771\ttest: 1.0546088\tbest: 1.0546088 (10)\ttotal: 7.65s\tremaining: 1m 1s\n",
      "11:\tlearn: 0.9426608\ttest: 1.0542626\tbest: 1.0542626 (11)\ttotal: 8.13s\tremaining: 59.6s\n",
      "12:\tlearn: 0.9418189\ttest: 1.0535868\tbest: 1.0535868 (12)\ttotal: 8.59s\tremaining: 57.5s\n",
      "13:\tlearn: 0.9401550\ttest: 1.0528636\tbest: 1.0528636 (13)\ttotal: 9.14s\tremaining: 56.1s\n",
      "14:\tlearn: 0.9388817\ttest: 1.0425556\tbest: 1.0425556 (14)\ttotal: 9.65s\tremaining: 54.7s\n",
      "15:\tlearn: 0.9377952\ttest: 1.0545356\tbest: 1.0425556 (14)\ttotal: 10.2s\tremaining: 53.5s\n",
      "16:\tlearn: 0.9361248\ttest: 1.0553609\tbest: 1.0425556 (14)\ttotal: 10.7s\tremaining: 52.2s\n",
      "17:\tlearn: 0.9344132\ttest: 1.0567316\tbest: 1.0425556 (14)\ttotal: 11.2s\tremaining: 51s\n",
      "18:\tlearn: 0.9331127\ttest: 1.0535316\tbest: 1.0425556 (14)\ttotal: 11.8s\tremaining: 50.3s\n",
      "19:\tlearn: 0.9318329\ttest: 1.0521517\tbest: 1.0425556 (14)\ttotal: 12.4s\tremaining: 49.6s\n",
      "20:\tlearn: 0.9311135\ttest: 1.0508087\tbest: 1.0425556 (14)\ttotal: 12.9s\tremaining: 48.6s\n",
      "21:\tlearn: 0.9302210\ttest: 1.0489548\tbest: 1.0425556 (14)\ttotal: 13.4s\tremaining: 47.6s\n",
      "22:\tlearn: 0.9280999\ttest: 1.0496917\tbest: 1.0425556 (14)\ttotal: 13.9s\tremaining: 46.6s\n",
      "23:\tlearn: 0.9269211\ttest: 1.0500750\tbest: 1.0425556 (14)\ttotal: 14.4s\tremaining: 45.6s\n",
      "24:\tlearn: 0.9264361\ttest: 1.0491506\tbest: 1.0425556 (14)\ttotal: 15s\tremaining: 44.9s\n",
      "25:\tlearn: 0.9255516\ttest: 1.0498352\tbest: 1.0425556 (14)\ttotal: 15.5s\tremaining: 44s\n",
      "26:\tlearn: 0.9244477\ttest: 1.0495367\tbest: 1.0425556 (14)\ttotal: 15.9s\tremaining: 43s\n",
      "27:\tlearn: 0.9239578\ttest: 1.0478518\tbest: 1.0425556 (14)\ttotal: 16.4s\tremaining: 42.1s\n",
      "28:\tlearn: 0.9231797\ttest: 1.0485827\tbest: 1.0425556 (14)\ttotal: 17s\tremaining: 41.5s\n",
      "29:\tlearn: 0.9226926\ttest: 1.0477942\tbest: 1.0425556 (14)\ttotal: 17.4s\tremaining: 40.6s\n",
      "30:\tlearn: 0.9221546\ttest: 1.0463259\tbest: 1.0425556 (14)\ttotal: 17.9s\tremaining: 39.8s\n",
      "31:\tlearn: 0.9213761\ttest: 1.0460331\tbest: 1.0425556 (14)\ttotal: 18.4s\tremaining: 39s\n",
      "32:\tlearn: 0.9200964\ttest: 1.0463331\tbest: 1.0425556 (14)\ttotal: 19s\tremaining: 38.5s\n",
      "33:\tlearn: 0.9194108\ttest: 1.0460126\tbest: 1.0425556 (14)\ttotal: 19.4s\tremaining: 37.7s\n",
      "34:\tlearn: 0.9190270\ttest: 1.0423945\tbest: 1.0423945 (34)\ttotal: 19.9s\tremaining: 37s\n",
      "35:\tlearn: 0.9182956\ttest: 1.0418891\tbest: 1.0418891 (35)\ttotal: 20.4s\tremaining: 36.2s\n",
      "36:\tlearn: 0.9178216\ttest: 1.0424237\tbest: 1.0418891 (35)\ttotal: 20.8s\tremaining: 35.5s\n",
      "37:\tlearn: 0.9172812\ttest: 1.0366650\tbest: 1.0366650 (37)\ttotal: 21.4s\tremaining: 34.9s\n",
      "38:\tlearn: 0.9167565\ttest: 1.0351854\tbest: 1.0351854 (38)\ttotal: 22s\tremaining: 34.4s\n",
      "39:\tlearn: 0.9163849\ttest: 1.0401423\tbest: 1.0351854 (38)\ttotal: 22.5s\tremaining: 33.8s\n",
      "40:\tlearn: 0.9157425\ttest: 1.0391540\tbest: 1.0351854 (38)\ttotal: 23.1s\tremaining: 33.3s\n",
      "41:\tlearn: 0.9150851\ttest: 1.0391566\tbest: 1.0351854 (38)\ttotal: 23.6s\tremaining: 32.5s\n",
      "42:\tlearn: 0.9146554\ttest: 1.0411242\tbest: 1.0351854 (38)\ttotal: 24s\tremaining: 31.9s\n",
      "43:\tlearn: 0.9142985\ttest: 1.0413165\tbest: 1.0351854 (38)\ttotal: 24.6s\tremaining: 31.3s\n",
      "44:\tlearn: 0.9134938\ttest: 1.0393488\tbest: 1.0351854 (38)\ttotal: 25s\tremaining: 30.6s\n",
      "45:\tlearn: 0.9132339\ttest: 1.0394982\tbest: 1.0351854 (38)\ttotal: 25.6s\tremaining: 30s\n",
      "46:\tlearn: 0.9123765\ttest: 1.0350761\tbest: 1.0350761 (46)\ttotal: 26s\tremaining: 29.4s\n",
      "47:\tlearn: 0.9120320\ttest: 1.0340407\tbest: 1.0340407 (47)\ttotal: 26.5s\tremaining: 28.7s\n",
      "48:\tlearn: 0.9117610\ttest: 1.0372704\tbest: 1.0340407 (47)\ttotal: 26.9s\tremaining: 28s\n",
      "49:\tlearn: 0.9113152\ttest: 1.0374292\tbest: 1.0340407 (47)\ttotal: 27.4s\tremaining: 27.4s\n",
      "50:\tlearn: 0.9111423\ttest: 1.0371974\tbest: 1.0340407 (47)\ttotal: 28s\tremaining: 26.9s\n",
      "51:\tlearn: 0.9106887\ttest: 1.0371641\tbest: 1.0340407 (47)\ttotal: 28.5s\tremaining: 26.3s\n",
      "52:\tlearn: 0.9102515\ttest: 1.0370411\tbest: 1.0340407 (47)\ttotal: 29s\tremaining: 25.7s\n",
      "53:\tlearn: 0.9099844\ttest: 1.0382574\tbest: 1.0340407 (47)\ttotal: 29.5s\tremaining: 25.1s\n",
      "54:\tlearn: 0.9094367\ttest: 1.0371811\tbest: 1.0340407 (47)\ttotal: 30s\tremaining: 24.5s\n",
      "55:\tlearn: 0.9085173\ttest: 1.0372353\tbest: 1.0340407 (47)\ttotal: 30.4s\tremaining: 23.9s\n",
      "56:\tlearn: 0.9082204\ttest: 1.0366340\tbest: 1.0340407 (47)\ttotal: 30.8s\tremaining: 23.2s\n",
      "57:\tlearn: 0.9077965\ttest: 1.0372294\tbest: 1.0340407 (47)\ttotal: 31.3s\tremaining: 22.6s\n",
      "58:\tlearn: 0.9076207\ttest: 1.0367040\tbest: 1.0340407 (47)\ttotal: 31.7s\tremaining: 22s\n",
      "59:\tlearn: 0.9071323\ttest: 1.0353403\tbest: 1.0340407 (47)\ttotal: 32.1s\tremaining: 21.4s\n",
      "60:\tlearn: 0.9066284\ttest: 1.0342078\tbest: 1.0340407 (47)\ttotal: 32.5s\tremaining: 20.8s\n",
      "61:\tlearn: 0.9060297\ttest: 1.0345292\tbest: 1.0340407 (47)\ttotal: 33s\tremaining: 20.2s\n",
      "62:\tlearn: 0.9055723\ttest: 1.0339307\tbest: 1.0339307 (62)\ttotal: 33.4s\tremaining: 19.6s\n",
      "63:\tlearn: 0.9054554\ttest: 1.0338570\tbest: 1.0338570 (63)\ttotal: 33.9s\tremaining: 19.1s\n",
      "64:\tlearn: 0.9050133\ttest: 1.0346316\tbest: 1.0338570 (63)\ttotal: 34.3s\tremaining: 18.5s\n",
      "65:\tlearn: 0.9046265\ttest: 1.0344708\tbest: 1.0338570 (63)\ttotal: 34.9s\tremaining: 18s\n",
      "66:\tlearn: 0.9044033\ttest: 1.0346684\tbest: 1.0338570 (63)\ttotal: 35.4s\tremaining: 17.4s\n",
      "67:\tlearn: 0.9044019\ttest: 1.0346684\tbest: 1.0338570 (63)\ttotal: 36.1s\tremaining: 17s\n",
      "68:\tlearn: 0.9040621\ttest: 1.0355677\tbest: 1.0338570 (63)\ttotal: 36.6s\tremaining: 16.4s\n",
      "69:\tlearn: 0.9039342\ttest: 1.0354745\tbest: 1.0338570 (63)\ttotal: 37.2s\tremaining: 15.9s\n",
      "70:\tlearn: 0.9037865\ttest: 1.0353474\tbest: 1.0338570 (63)\ttotal: 37.6s\tremaining: 15.4s\n",
      "71:\tlearn: 0.9034421\ttest: 1.0346813\tbest: 1.0338570 (63)\ttotal: 38.2s\tremaining: 14.9s\n",
      "72:\tlearn: 0.9030314\ttest: 1.0350007\tbest: 1.0338570 (63)\ttotal: 38.7s\tremaining: 14.3s\n",
      "73:\tlearn: 0.9027736\ttest: 1.0349198\tbest: 1.0338570 (63)\ttotal: 39.2s\tremaining: 13.8s\n",
      "74:\tlearn: 0.9026720\ttest: 1.0347985\tbest: 1.0338570 (63)\ttotal: 39.6s\tremaining: 13.2s\n",
      "75:\tlearn: 0.9025914\ttest: 1.0348080\tbest: 1.0338570 (63)\ttotal: 40.2s\tremaining: 12.7s\n",
      "76:\tlearn: 0.9023603\ttest: 1.0350520\tbest: 1.0338570 (63)\ttotal: 40.7s\tremaining: 12.2s\n",
      "77:\tlearn: 0.9022156\ttest: 1.0351554\tbest: 1.0338570 (63)\ttotal: 41.2s\tremaining: 11.6s\n",
      "78:\tlearn: 0.9014575\ttest: 1.0353499\tbest: 1.0338570 (63)\ttotal: 41.6s\tremaining: 11.1s\n",
      "79:\tlearn: 0.9013135\ttest: 1.0378588\tbest: 1.0338570 (63)\ttotal: 42.1s\tremaining: 10.5s\n",
      "80:\tlearn: 0.9011781\ttest: 1.0378915\tbest: 1.0338570 (63)\ttotal: 42.6s\tremaining: 9.98s\n",
      "81:\tlearn: 0.9011079\ttest: 1.0379466\tbest: 1.0338570 (63)\ttotal: 43.1s\tremaining: 9.46s\n",
      "82:\tlearn: 0.9008773\ttest: 1.0393182\tbest: 1.0338570 (63)\ttotal: 43.6s\tremaining: 8.92s\n",
      "83:\tlearn: 0.9007011\ttest: 1.0392505\tbest: 1.0338570 (63)\ttotal: 44.1s\tremaining: 8.4s\n",
      "84:\tlearn: 0.9004411\ttest: 1.0392169\tbest: 1.0338570 (63)\ttotal: 44.5s\tremaining: 7.86s\n",
      "85:\tlearn: 0.9000166\ttest: 1.0386781\tbest: 1.0338570 (63)\ttotal: 45s\tremaining: 7.33s\n",
      "86:\tlearn: 0.8998231\ttest: 1.0385850\tbest: 1.0338570 (63)\ttotal: 45.5s\tremaining: 6.8s\n",
      "87:\tlearn: 0.8996949\ttest: 1.0391329\tbest: 1.0338570 (63)\ttotal: 46s\tremaining: 6.27s\n",
      "88:\tlearn: 0.8992312\ttest: 1.0396684\tbest: 1.0338570 (63)\ttotal: 46.4s\tremaining: 5.74s\n",
      "89:\tlearn: 0.8987925\ttest: 1.0397544\tbest: 1.0338570 (63)\ttotal: 46.9s\tremaining: 5.21s\n",
      "90:\tlearn: 0.8987004\ttest: 1.0401663\tbest: 1.0338570 (63)\ttotal: 47.4s\tremaining: 4.69s\n",
      "91:\tlearn: 0.8986597\ttest: 1.0399839\tbest: 1.0338570 (63)\ttotal: 47.9s\tremaining: 4.17s\n",
      "92:\tlearn: 0.8983970\ttest: 1.0476008\tbest: 1.0338570 (63)\ttotal: 48.5s\tremaining: 3.65s\n",
      "93:\tlearn: 0.8983264\ttest: 1.0479836\tbest: 1.0338570 (63)\ttotal: 49s\tremaining: 3.13s\n"
     ]
    },
    {
     "name": "stdout",
     "output_type": "stream",
     "text": [
      "94:\tlearn: 0.8979386\ttest: 1.0479194\tbest: 1.0338570 (63)\ttotal: 49.4s\tremaining: 2.6s\n",
      "95:\tlearn: 0.8977936\ttest: 1.0476179\tbest: 1.0338570 (63)\ttotal: 49.9s\tremaining: 2.08s\n",
      "96:\tlearn: 0.8973962\ttest: 1.0526845\tbest: 1.0338570 (63)\ttotal: 50.4s\tremaining: 1.56s\n",
      "97:\tlearn: 0.8972123\ttest: 1.0526153\tbest: 1.0338570 (63)\ttotal: 50.8s\tremaining: 1.04s\n",
      "98:\tlearn: 0.8969409\ttest: 1.0522032\tbest: 1.0338570 (63)\ttotal: 51.4s\tremaining: 519ms\n",
      "99:\tlearn: 0.8965316\ttest: 1.0540632\tbest: 1.0338570 (63)\ttotal: 51.9s\tremaining: 0us\n",
      "\n",
      "bestTest = 1.03385696\n",
      "bestIteration = 63\n",
      "\n",
      "Shrink model to first 64 iterations.\n",
      "CPU times: user 5min 2s, sys: 24.1 s, total: 5min 26s\n",
      "Wall time: 1min\n"
     ]
    },
    {
     "data": {
      "text/plain": [
       "<catboost.core.CatBoostRegressor at 0x7fad6e33d730>"
      ]
     },
     "execution_count": 9,
     "metadata": {},
     "output_type": "execute_result"
    }
   ],
   "source": [
    "%%time\n",
    "X_train = trainv[features].drop('target', axis=1)\n",
    "y_train = trainv['target']\n",
    "X_valid = valid[features].drop('target', axis=1)\n",
    "y_valid = valid['target']\n",
    "\n",
    "train_pool = Pool(X_train, y_train, cat_features=cat)\n",
    "eval_pool = Pool(X_valid, y_valid, cat_features=cat)\n",
    "\n",
    "model = CatBoostRegressor(iterations=100)\n",
    "model.fit(train_pool, eval_set=eval_pool)"
   ]
  },
  {
   "cell_type": "code",
   "execution_count": 10,
   "id": "a9e9e527",
   "metadata": {},
   "outputs": [
    {
     "data": {
      "image/png": "[encoded data removed]",
      "text/plain": [
       "<Figure size 432x288 with 1 Axes>"
      ]
     },
     "metadata": {
      "needs_background": "light"
     },
     "output_type": "display_data"
    }
   ],
   "source": [
    "validation_curve(model)"
   ]
  },
  {
   "cell_type": "code",
   "execution_count": 11,
   "id": "d5f88c4e",
   "metadata": {},
   "outputs": [
    {
     "data": {
      "text/html": [
       "<div>\n",
       "<style scoped>\n",
       "    .dataframe tbody tr th:only-of-type {\n",
       "        vertical-align: middle;\n",
       "    }\n",
       "\n",
       "    .dataframe tbody tr th {\n",
       "        vertical-align: top;\n",
       "    }\n",
       "\n",
       "    .dataframe thead th {\n",
       "        text-align: right;\n",
       "    }\n",
       "</style>\n",
       "<table border=\"1\" class=\"dataframe\">\n",
       "  <thead>\n",
       "    <tr style=\"text-align: right;\">\n",
       "      <th></th>\n",
       "      <th>features</th>\n",
       "      <th>importance</th>\n",
       "    </tr>\n",
       "  </thead>\n",
       "  <tbody>\n",
       "    <tr>\n",
       "      <th>0</th>\n",
       "      <td>item_id</td>\n",
       "      <td>46.992258</td>\n",
       "    </tr>\n",
       "    <tr>\n",
       "      <th>1</th>\n",
       "      <td>shop_id</td>\n",
       "      <td>19.080470</td>\n",
       "    </tr>\n",
       "    <tr>\n",
       "      <th>2</th>\n",
       "      <td>item_category_id</td>\n",
       "      <td>11.277874</td>\n",
       "    </tr>\n",
       "    <tr>\n",
       "      <th>3</th>\n",
       "      <td>mean_price_l1</td>\n",
       "      <td>7.445082</td>\n",
       "    </tr>\n",
       "    <tr>\n",
       "      <th>4</th>\n",
       "      <td>date_block_num</td>\n",
       "      <td>6.968069</td>\n",
       "    </tr>\n",
       "    <tr>\n",
       "      <th>5</th>\n",
       "      <td>nrow_block</td>\n",
       "      <td>6.615542</td>\n",
       "    </tr>\n",
       "    <tr>\n",
       "      <th>6</th>\n",
       "      <td>month</td>\n",
       "      <td>1.620706</td>\n",
       "    </tr>\n",
       "  </tbody>\n",
       "</table>\n",
       "</div>"
      ],
      "text/plain": [
       "           features  importance\n",
       "0           item_id   46.992258\n",
       "1           shop_id   19.080470\n",
       "2  item_category_id   11.277874\n",
       "3     mean_price_l1    7.445082\n",
       "4    date_block_num    6.968069\n",
       "5        nrow_block    6.615542\n",
       "6             month    1.620706"
      ]
     },
     "execution_count": 11,
     "metadata": {},
     "output_type": "execute_result"
    }
   ],
   "source": [
    "feature_imp = pd.DataFrame({'features':X_train.columns, 'importance':model.feature_importances_}).sort_values('importance', ascending=False, ignore_index=True)\n",
    "feature_imp"
   ]
  },
  {
   "cell_type": "code",
   "execution_count": 27,
   "id": "9501ea73",
   "metadata": {},
   "outputs": [],
   "source": [
    "y_pred = model.predict(X_valid,\n",
    "        prediction_type=None,\n",
    "        ntree_start=0,\n",
    "        ntree_end=64,\n",
    "        thread_count=-1)#.clip(min=0, max=20)"
   ]
  },
  {
   "cell_type": "code",
   "execution_count": 28,
   "id": "7016edea",
   "metadata": {},
   "outputs": [
    {
     "name": "stdout",
     "output_type": "stream",
     "text": [
      "rmse on valid: 1.0338569597201919\n"
     ]
    }
   ],
   "source": [
    "print('rmse on valid:', np.sqrt(mean_squared_error(y_valid,y_pred)))"
   ]
  },
  {
   "cell_type": "code",
   "execution_count": null,
   "id": "bde9ae1e",
   "metadata": {},
   "outputs": [],
   "source": []
  },
  {
   "cell_type": "markdown",
   "id": "b543baa4",
   "metadata": {},
   "source": [
    "catboost on all features"
   ]
  },
  {
   "cell_type": "code",
   "execution_count": 16,
   "id": "94a5054f",
   "metadata": {
    "scrolled": true
   },
   "outputs": [
    {
     "name": "stdout",
     "output_type": "stream",
     "text": [
      "0:\tlearn: 1.1546515\ttest: 1.1134198\tbest: 1.1134198 (0)\ttotal: 1.4s\tremaining: 1m 8s\n",
      "1:\tlearn: 1.1250587\ttest: 1.0939117\tbest: 1.0939117 (1)\ttotal: 2.61s\tremaining: 1m 2s\n",
      "2:\tlearn: 1.0991907\ttest: 1.0764371\tbest: 1.0764371 (2)\ttotal: 3.88s\tremaining: 1m\n",
      "3:\tlearn: 1.0763670\ttest: 1.0612062\tbest: 1.0612062 (3)\ttotal: 4.75s\tremaining: 54.6s\n",
      "4:\tlearn: 1.0561252\ttest: 1.0478811\tbest: 1.0478811 (4)\ttotal: 5.39s\tremaining: 48.5s\n",
      "5:\tlearn: 1.0389367\ttest: 1.0369886\tbest: 1.0369886 (5)\ttotal: 6.11s\tremaining: 44.8s\n",
      "6:\tlearn: 1.0231914\ttest: 1.0267298\tbest: 1.0267298 (6)\ttotal: 6.88s\tremaining: 42.2s\n",
      "7:\tlearn: 1.0098340\ttest: 1.0175270\tbest: 1.0175270 (7)\ttotal: 7.86s\tremaining: 41.3s\n",
      "8:\tlearn: 0.9978198\ttest: 1.0096411\tbest: 1.0096411 (8)\ttotal: 8.8s\tremaining: 40.1s\n",
      "9:\tlearn: 0.9873599\ttest: 1.0030888\tbest: 1.0030888 (9)\ttotal: 9.6s\tremaining: 38.4s\n",
      "10:\tlearn: 0.9775044\ttest: 0.9953694\tbest: 0.9953694 (10)\ttotal: 10.5s\tremaining: 37.1s\n",
      "11:\tlearn: 0.9693622\ttest: 0.9901305\tbest: 0.9901305 (11)\ttotal: 11.2s\tremaining: 35.4s\n",
      "12:\tlearn: 0.9621502\ttest: 0.9855063\tbest: 0.9855063 (12)\ttotal: 12s\tremaining: 34.3s\n",
      "13:\tlearn: 0.9555362\ttest: 0.9815334\tbest: 0.9815334 (13)\ttotal: 12.8s\tremaining: 32.8s\n",
      "14:\tlearn: 0.9497973\ttest: 0.9777408\tbest: 0.9777408 (14)\ttotal: 13.4s\tremaining: 31.3s\n",
      "15:\tlearn: 0.9446211\ttest: 0.9749474\tbest: 0.9749474 (15)\ttotal: 14.4s\tremaining: 30.5s\n",
      "16:\tlearn: 0.9402154\ttest: 0.9716125\tbest: 0.9716125 (16)\ttotal: 15.6s\tremaining: 30.2s\n",
      "17:\tlearn: 0.9356617\ttest: 0.9690160\tbest: 0.9690160 (17)\ttotal: 16.5s\tremaining: 29.3s\n",
      "18:\tlearn: 0.9246714\ttest: 0.9680144\tbest: 0.9680144 (18)\ttotal: 17.5s\tremaining: 28.5s\n",
      "19:\tlearn: 0.9148924\ttest: 0.9666005\tbest: 0.9666005 (19)\ttotal: 18.5s\tremaining: 27.8s\n",
      "20:\tlearn: 0.9066213\ttest: 0.9664636\tbest: 0.9664636 (20)\ttotal: 19.3s\tremaining: 26.7s\n",
      "21:\tlearn: 0.8993324\ttest: 0.9662733\tbest: 0.9662733 (21)\ttotal: 20.1s\tremaining: 25.5s\n",
      "22:\tlearn: 0.8928191\ttest: 0.9661100\tbest: 0.9661100 (22)\ttotal: 20.7s\tremaining: 24.3s\n",
      "23:\tlearn: 0.8867223\ttest: 0.9673035\tbest: 0.9661100 (22)\ttotal: 21.4s\tremaining: 23.2s\n",
      "24:\tlearn: 0.8815455\ttest: 0.9673339\tbest: 0.9661100 (22)\ttotal: 22.1s\tremaining: 22.1s\n",
      "25:\tlearn: 0.8771014\ttest: 0.9663164\tbest: 0.9661100 (22)\ttotal: 22.9s\tremaining: 21.2s\n",
      "26:\tlearn: 0.8729175\ttest: 0.9665636\tbest: 0.9661100 (22)\ttotal: 23.6s\tremaining: 20.1s\n",
      "27:\tlearn: 0.8692809\ttest: 0.9673574\tbest: 0.9661100 (22)\ttotal: 24.6s\tremaining: 19.3s\n",
      "28:\tlearn: 0.8662541\ttest: 0.9680029\tbest: 0.9661100 (22)\ttotal: 25.4s\tremaining: 18.4s\n",
      "29:\tlearn: 0.8631306\ttest: 0.9684227\tbest: 0.9661100 (22)\ttotal: 26.4s\tremaining: 17.6s\n",
      "30:\tlearn: 0.8602254\ttest: 0.9705168\tbest: 0.9661100 (22)\ttotal: 27.2s\tremaining: 16.6s\n",
      "31:\tlearn: 0.8577048\ttest: 0.9718541\tbest: 0.9661100 (22)\ttotal: 27.9s\tremaining: 15.7s\n",
      "32:\tlearn: 0.8553467\ttest: 0.9721201\tbest: 0.9661100 (22)\ttotal: 28.7s\tremaining: 14.8s\n",
      "33:\tlearn: 0.8536227\ttest: 0.9747859\tbest: 0.9661100 (22)\ttotal: 29.3s\tremaining: 13.8s\n",
      "34:\tlearn: 0.8515774\ttest: 0.9746812\tbest: 0.9661100 (22)\ttotal: 30.1s\tremaining: 12.9s\n",
      "35:\tlearn: 0.8500331\ttest: 0.9749644\tbest: 0.9661100 (22)\ttotal: 30.9s\tremaining: 12s\n",
      "36:\tlearn: 0.8488189\ttest: 0.9757034\tbest: 0.9661100 (22)\ttotal: 31.7s\tremaining: 11.2s\n",
      "37:\tlearn: 0.8468962\ttest: 0.9758852\tbest: 0.9661100 (22)\ttotal: 32.6s\tremaining: 10.3s\n",
      "38:\tlearn: 0.8453242\ttest: 0.9762284\tbest: 0.9661100 (22)\ttotal: 33.4s\tremaining: 9.41s\n",
      "39:\tlearn: 0.8440148\ttest: 0.9780559\tbest: 0.9661100 (22)\ttotal: 34s\tremaining: 8.49s\n",
      "40:\tlearn: 0.8428423\ttest: 0.9787064\tbest: 0.9661100 (22)\ttotal: 34.9s\tremaining: 7.67s\n",
      "41:\tlearn: 0.8418732\ttest: 0.9814736\tbest: 0.9661100 (22)\ttotal: 35.6s\tremaining: 6.79s\n",
      "42:\tlearn: 0.8410588\ttest: 0.9813075\tbest: 0.9661100 (22)\ttotal: 36.4s\tremaining: 5.93s\n",
      "43:\tlearn: 0.8402666\ttest: 0.9818305\tbest: 0.9661100 (22)\ttotal: 37.2s\tremaining: 5.08s\n",
      "44:\tlearn: 0.8392073\ttest: 0.9837577\tbest: 0.9661100 (22)\ttotal: 37.8s\tremaining: 4.2s\n",
      "45:\tlearn: 0.8380971\ttest: 0.9838454\tbest: 0.9661100 (22)\ttotal: 38.5s\tremaining: 3.34s\n",
      "46:\tlearn: 0.8369734\ttest: 0.9850279\tbest: 0.9661100 (22)\ttotal: 39.1s\tremaining: 2.5s\n",
      "47:\tlearn: 0.8362632\ttest: 0.9851201\tbest: 0.9661100 (22)\ttotal: 39.8s\tremaining: 1.66s\n",
      "48:\tlearn: 0.8352170\ttest: 0.9850719\tbest: 0.9661100 (22)\ttotal: 40.6s\tremaining: 830ms\n",
      "49:\tlearn: 0.8344370\ttest: 0.9859694\tbest: 0.9661100 (22)\ttotal: 41.6s\tremaining: 0us\n",
      "\n",
      "bestTest = 0.9661099999\n",
      "bestIteration = 22\n",
      "\n",
      "Shrink model to first 23 iterations.\n",
      "CPU times: user 4min 2s, sys: 35.1 s, total: 4min 37s\n",
      "Wall time: 55.9 s\n"
     ]
    },
    {
     "data": {
      "text/plain": [
       "<catboost.core.CatBoostRegressor at 0x7faee3274dc0>"
      ]
     },
     "execution_count": 16,
     "metadata": {},
     "output_type": "execute_result"
    }
   ],
   "source": [
    "%%time\n",
    "X_train = trainv.drop('target', axis=1)\n",
    "y_train = trainv['target']\n",
    "X_valid = valid.drop('target', axis=1)\n",
    "y_valid = valid['target']\n",
    "\n",
    "train_pool = Pool(X_train, y_train, cat_features=cat)\n",
    "eval_pool = Pool(X_valid, y_valid, cat_features=cat)\n",
    "\n",
    "model = CatBoostRegressor(iterations=50, learning_rate=0.08, random_seed=2022)\n",
    "model.fit(train_pool, eval_set=eval_pool)"
   ]
  },
  {
   "cell_type": "code",
   "execution_count": 17,
   "id": "29942b27",
   "metadata": {},
   "outputs": [
    {
     "data": {
      "text/plain": [
       "22"
      ]
     },
     "execution_count": 17,
     "metadata": {},
     "output_type": "execute_result"
    }
   ],
   "source": [
    "model.best_iteration_"
   ]
  },
  {
   "cell_type": "code",
   "execution_count": 18,
   "id": "ce110be5",
   "metadata": {},
   "outputs": [
    {
     "data": {
      "image/png": "[encoded data removed]",
      "text/plain": [
       "<Figure size 432x288 with 1 Axes>"
      ]
     },
     "metadata": {
      "needs_background": "light"
     },
     "output_type": "display_data"
    }
   ],
   "source": [
    "validation_curve(model)"
   ]
  },
  {
   "cell_type": "markdown",
   "id": "6ec60952",
   "metadata": {},
   "source": [
    "the best learning_rate within 100 iterations is 0.08, best number of iterations is 22, RMSE on valid 0.966"
   ]
  },
  {
   "cell_type": "code",
   "execution_count": 19,
   "id": "8eb34ff8",
   "metadata": {
    "scrolled": true
   },
   "outputs": [
    {
     "data": {
      "text/html": [
       "<div>\n",
       "<style scoped>\n",
       "    .dataframe tbody tr th:only-of-type {\n",
       "        vertical-align: middle;\n",
       "    }\n",
       "\n",
       "    .dataframe tbody tr th {\n",
       "        vertical-align: top;\n",
       "    }\n",
       "\n",
       "    .dataframe thead th {\n",
       "        text-align: right;\n",
       "    }\n",
       "</style>\n",
       "<table border=\"1\" class=\"dataframe\">\n",
       "  <thead>\n",
       "    <tr style=\"text-align: right;\">\n",
       "      <th></th>\n",
       "      <th>features</th>\n",
       "      <th>importance</th>\n",
       "    </tr>\n",
       "  </thead>\n",
       "  <tbody>\n",
       "    <tr>\n",
       "      <th>0</th>\n",
       "      <td>tg_lag1</td>\n",
       "      <td>39.142756</td>\n",
       "    </tr>\n",
       "    <tr>\n",
       "      <th>1</th>\n",
       "      <td>item_id</td>\n",
       "      <td>13.016325</td>\n",
       "    </tr>\n",
       "    <tr>\n",
       "      <th>2</th>\n",
       "      <td>shop_id</td>\n",
       "      <td>10.575321</td>\n",
       "    </tr>\n",
       "    <tr>\n",
       "      <th>3</th>\n",
       "      <td>tg_item_lag1</td>\n",
       "      <td>9.071915</td>\n",
       "    </tr>\n",
       "    <tr>\n",
       "      <th>4</th>\n",
       "      <td>tg_lag3</td>\n",
       "      <td>6.606821</td>\n",
       "    </tr>\n",
       "    <tr>\n",
       "      <th>5</th>\n",
       "      <td>mean_price_l1</td>\n",
       "      <td>5.373145</td>\n",
       "    </tr>\n",
       "    <tr>\n",
       "      <th>6</th>\n",
       "      <td>item_category_id</td>\n",
       "      <td>4.047850</td>\n",
       "    </tr>\n",
       "    <tr>\n",
       "      <th>7</th>\n",
       "      <td>tg_lag2</td>\n",
       "      <td>3.641682</td>\n",
       "    </tr>\n",
       "    <tr>\n",
       "      <th>8</th>\n",
       "      <td>tg_cat_lag3</td>\n",
       "      <td>1.234357</td>\n",
       "    </tr>\n",
       "    <tr>\n",
       "      <th>9</th>\n",
       "      <td>date_block_num</td>\n",
       "      <td>1.202007</td>\n",
       "    </tr>\n",
       "    <tr>\n",
       "      <th>10</th>\n",
       "      <td>tg_d2-1</td>\n",
       "      <td>0.939106</td>\n",
       "    </tr>\n",
       "    <tr>\n",
       "      <th>11</th>\n",
       "      <td>tg_mean_lag2</td>\n",
       "      <td>0.862564</td>\n",
       "    </tr>\n",
       "    <tr>\n",
       "      <th>12</th>\n",
       "      <td>tg_shop_lag3</td>\n",
       "      <td>0.723357</td>\n",
       "    </tr>\n",
       "    <tr>\n",
       "      <th>13</th>\n",
       "      <td>tg_cat_lag2</td>\n",
       "      <td>0.701762</td>\n",
       "    </tr>\n",
       "    <tr>\n",
       "      <th>14</th>\n",
       "      <td>tg_lag12</td>\n",
       "      <td>0.493689</td>\n",
       "    </tr>\n",
       "    <tr>\n",
       "      <th>15</th>\n",
       "      <td>tg_shop_lag2</td>\n",
       "      <td>0.460453</td>\n",
       "    </tr>\n",
       "    <tr>\n",
       "      <th>16</th>\n",
       "      <td>tg_item_d2-1</td>\n",
       "      <td>0.419906</td>\n",
       "    </tr>\n",
       "    <tr>\n",
       "      <th>17</th>\n",
       "      <td>tg_item_lag2</td>\n",
       "      <td>0.414678</td>\n",
       "    </tr>\n",
       "    <tr>\n",
       "      <th>18</th>\n",
       "      <td>tg_mean_d3-2</td>\n",
       "      <td>0.323889</td>\n",
       "    </tr>\n",
       "    <tr>\n",
       "      <th>19</th>\n",
       "      <td>tg_sum_lag2</td>\n",
       "      <td>0.287925</td>\n",
       "    </tr>\n",
       "    <tr>\n",
       "      <th>20</th>\n",
       "      <td>tg_mean_lag3</td>\n",
       "      <td>0.264951</td>\n",
       "    </tr>\n",
       "    <tr>\n",
       "      <th>21</th>\n",
       "      <td>month</td>\n",
       "      <td>0.195540</td>\n",
       "    </tr>\n",
       "    <tr>\n",
       "      <th>22</th>\n",
       "      <td>tg_cat_lag12</td>\n",
       "      <td>0.000000</td>\n",
       "    </tr>\n",
       "    <tr>\n",
       "      <th>23</th>\n",
       "      <td>tg_cat_lag13</td>\n",
       "      <td>0.000000</td>\n",
       "    </tr>\n",
       "    <tr>\n",
       "      <th>24</th>\n",
       "      <td>tg_cat_d13-1</td>\n",
       "      <td>0.000000</td>\n",
       "    </tr>\n",
       "    <tr>\n",
       "      <th>25</th>\n",
       "      <td>tg_sum_d13-1</td>\n",
       "      <td>0.000000</td>\n",
       "    </tr>\n",
       "    <tr>\n",
       "      <th>26</th>\n",
       "      <td>tg_cat_d3-2</td>\n",
       "      <td>0.000000</td>\n",
       "    </tr>\n",
       "    <tr>\n",
       "      <th>27</th>\n",
       "      <td>tg_shop_lag12</td>\n",
       "      <td>0.000000</td>\n",
       "    </tr>\n",
       "    <tr>\n",
       "      <th>28</th>\n",
       "      <td>tg_shop_d2-1</td>\n",
       "      <td>0.000000</td>\n",
       "    </tr>\n",
       "    <tr>\n",
       "      <th>29</th>\n",
       "      <td>tg_mean_lag12</td>\n",
       "      <td>0.000000</td>\n",
       "    </tr>\n",
       "    <tr>\n",
       "      <th>30</th>\n",
       "      <td>tg_sum_lag12</td>\n",
       "      <td>0.000000</td>\n",
       "    </tr>\n",
       "    <tr>\n",
       "      <th>31</th>\n",
       "      <td>tg_shop_lag13</td>\n",
       "      <td>0.000000</td>\n",
       "    </tr>\n",
       "    <tr>\n",
       "      <th>32</th>\n",
       "      <td>tg_sum_lag13</td>\n",
       "      <td>0.000000</td>\n",
       "    </tr>\n",
       "    <tr>\n",
       "      <th>33</th>\n",
       "      <td>tg_cat_d2-1</td>\n",
       "      <td>0.000000</td>\n",
       "    </tr>\n",
       "    <tr>\n",
       "      <th>34</th>\n",
       "      <td>tg_item_lag3</td>\n",
       "      <td>0.000000</td>\n",
       "    </tr>\n",
       "    <tr>\n",
       "      <th>35</th>\n",
       "      <td>tg_sum_d2-1</td>\n",
       "      <td>0.000000</td>\n",
       "    </tr>\n",
       "    <tr>\n",
       "      <th>36</th>\n",
       "      <td>tg_item_d3-2</td>\n",
       "      <td>0.000000</td>\n",
       "    </tr>\n",
       "    <tr>\n",
       "      <th>37</th>\n",
       "      <td>tg_d13-1</td>\n",
       "      <td>0.000000</td>\n",
       "    </tr>\n",
       "    <tr>\n",
       "      <th>38</th>\n",
       "      <td>tg_shop_d13-1</td>\n",
       "      <td>0.000000</td>\n",
       "    </tr>\n",
       "    <tr>\n",
       "      <th>39</th>\n",
       "      <td>tg_sum_d3-2</td>\n",
       "      <td>0.000000</td>\n",
       "    </tr>\n",
       "    <tr>\n",
       "      <th>40</th>\n",
       "      <td>tg_mean_d13-1</td>\n",
       "      <td>0.000000</td>\n",
       "    </tr>\n",
       "    <tr>\n",
       "      <th>41</th>\n",
       "      <td>tg_mean_lag13</td>\n",
       "      <td>0.000000</td>\n",
       "    </tr>\n",
       "    <tr>\n",
       "      <th>42</th>\n",
       "      <td>tg_item_d13-1</td>\n",
       "      <td>0.000000</td>\n",
       "    </tr>\n",
       "    <tr>\n",
       "      <th>43</th>\n",
       "      <td>tg_item_lag13</td>\n",
       "      <td>0.000000</td>\n",
       "    </tr>\n",
       "    <tr>\n",
       "      <th>44</th>\n",
       "      <td>tg_shop_lag1</td>\n",
       "      <td>0.000000</td>\n",
       "    </tr>\n",
       "    <tr>\n",
       "      <th>45</th>\n",
       "      <td>tg_shop_d3-2</td>\n",
       "      <td>0.000000</td>\n",
       "    </tr>\n",
       "    <tr>\n",
       "      <th>46</th>\n",
       "      <td>tg_d3-2</td>\n",
       "      <td>0.000000</td>\n",
       "    </tr>\n",
       "    <tr>\n",
       "      <th>47</th>\n",
       "      <td>tg_sum_lag3</td>\n",
       "      <td>0.000000</td>\n",
       "    </tr>\n",
       "    <tr>\n",
       "      <th>48</th>\n",
       "      <td>tg_cat_lag1</td>\n",
       "      <td>0.000000</td>\n",
       "    </tr>\n",
       "    <tr>\n",
       "      <th>49</th>\n",
       "      <td>tg_mean_d2-1</td>\n",
       "      <td>0.000000</td>\n",
       "    </tr>\n",
       "    <tr>\n",
       "      <th>50</th>\n",
       "      <td>nrow_block</td>\n",
       "      <td>0.000000</td>\n",
       "    </tr>\n",
       "    <tr>\n",
       "      <th>51</th>\n",
       "      <td>tg_sum_lag1</td>\n",
       "      <td>0.000000</td>\n",
       "    </tr>\n",
       "    <tr>\n",
       "      <th>52</th>\n",
       "      <td>tg_lag13</td>\n",
       "      <td>0.000000</td>\n",
       "    </tr>\n",
       "    <tr>\n",
       "      <th>53</th>\n",
       "      <td>tg_mean_lag1</td>\n",
       "      <td>0.000000</td>\n",
       "    </tr>\n",
       "    <tr>\n",
       "      <th>54</th>\n",
       "      <td>tg_item_lag12</td>\n",
       "      <td>0.000000</td>\n",
       "    </tr>\n",
       "  </tbody>\n",
       "</table>\n",
       "</div>"
      ],
      "text/plain": [
       "            features  importance\n",
       "0            tg_lag1   39.142756\n",
       "1            item_id   13.016325\n",
       "2            shop_id   10.575321\n",
       "3       tg_item_lag1    9.071915\n",
       "4            tg_lag3    6.606821\n",
       "5      mean_price_l1    5.373145\n",
       "6   item_category_id    4.047850\n",
       "7            tg_lag2    3.641682\n",
       "8        tg_cat_lag3    1.234357\n",
       "9     date_block_num    1.202007\n",
       "10           tg_d2-1    0.939106\n",
       "11      tg_mean_lag2    0.862564\n",
       "12      tg_shop_lag3    0.723357\n",
       "13       tg_cat_lag2    0.701762\n",
       "14          tg_lag12    0.493689\n",
       "15      tg_shop_lag2    0.460453\n",
       "16      tg_item_d2-1    0.419906\n",
       "17      tg_item_lag2    0.414678\n",
       "18      tg_mean_d3-2    0.323889\n",
       "19       tg_sum_lag2    0.287925\n",
       "20      tg_mean_lag3    0.264951\n",
       "21             month    0.195540\n",
       "22      tg_cat_lag12    0.000000\n",
       "23      tg_cat_lag13    0.000000\n",
       "24      tg_cat_d13-1    0.000000\n",
       "25      tg_sum_d13-1    0.000000\n",
       "26       tg_cat_d3-2    0.000000\n",
       "27     tg_shop_lag12    0.000000\n",
       "28      tg_shop_d2-1    0.000000\n",
       "29     tg_mean_lag12    0.000000\n",
       "30      tg_sum_lag12    0.000000\n",
       "31     tg_shop_lag13    0.000000\n",
       "32      tg_sum_lag13    0.000000\n",
       "33       tg_cat_d2-1    0.000000\n",
       "34      tg_item_lag3    0.000000\n",
       "35       tg_sum_d2-1    0.000000\n",
       "36      tg_item_d3-2    0.000000\n",
       "37          tg_d13-1    0.000000\n",
       "38     tg_shop_d13-1    0.000000\n",
       "39       tg_sum_d3-2    0.000000\n",
       "40     tg_mean_d13-1    0.000000\n",
       "41     tg_mean_lag13    0.000000\n",
       "42     tg_item_d13-1    0.000000\n",
       "43     tg_item_lag13    0.000000\n",
       "44      tg_shop_lag1    0.000000\n",
       "45      tg_shop_d3-2    0.000000\n",
       "46           tg_d3-2    0.000000\n",
       "47       tg_sum_lag3    0.000000\n",
       "48       tg_cat_lag1    0.000000\n",
       "49      tg_mean_d2-1    0.000000\n",
       "50        nrow_block    0.000000\n",
       "51       tg_sum_lag1    0.000000\n",
       "52          tg_lag13    0.000000\n",
       "53      tg_mean_lag1    0.000000\n",
       "54     tg_item_lag12    0.000000"
      ]
     },
     "execution_count": 19,
     "metadata": {},
     "output_type": "execute_result"
    }
   ],
   "source": [
    "feature_imp = pd.DataFrame({'features':X_train.columns, 'importance':model.feature_importances_}).sort_values('importance', ascending=False, ignore_index=True)\n",
    "feature_imp"
   ]
  },
  {
   "cell_type": "markdown",
   "id": "e0bd85ab",
   "metadata": {},
   "source": [
    "let's build a model with learning_rate=0.08 on features with importance > 0"
   ]
  },
  {
   "cell_type": "code",
   "execution_count": 20,
   "id": "dc414322",
   "metadata": {},
   "outputs": [],
   "source": [
    "important_features = np.append(feature_imp[feature_imp['importance']>0]['features'].values,'target')\n"
   ]
  },
  {
   "cell_type": "code",
   "execution_count": 21,
   "id": "e886713d",
   "metadata": {},
   "outputs": [
    {
     "data": {
      "text/plain": [
       "array(['tg_lag1', 'item_id', 'shop_id', 'tg_item_lag1', 'tg_lag3',\n",
       "       'mean_price_l1', 'item_category_id', 'tg_lag2', 'tg_cat_lag3',\n",
       "       'date_block_num', 'tg_d2-1', 'tg_mean_lag2', 'tg_shop_lag3',\n",
       "       'tg_cat_lag2', 'tg_lag12', 'tg_shop_lag2', 'tg_item_d2-1',\n",
       "       'tg_item_lag2', 'tg_mean_d3-2', 'tg_sum_lag2', 'tg_mean_lag3',\n",
       "       'month', 'target'], dtype=object)"
      ]
     },
     "execution_count": 21,
     "metadata": {},
     "output_type": "execute_result"
    }
   ],
   "source": [
    "important_features"
   ]
  },
  {
   "cell_type": "code",
   "execution_count": 22,
   "id": "9b03ac0d",
   "metadata": {
    "scrolled": true
   },
   "outputs": [
    {
     "name": "stdout",
     "output_type": "stream",
     "text": [
      "0:\tlearn: 1.1545799\ttest: 1.1132413\tbest: 1.1132413 (0)\ttotal: 1.05s\tremaining: 51.4s\n",
      "1:\tlearn: 1.1249621\ttest: 1.0935775\tbest: 1.0935775 (1)\ttotal: 1.92s\tremaining: 46.1s\n",
      "2:\tlearn: 1.0991931\ttest: 1.0762327\tbest: 1.0762327 (2)\ttotal: 2.75s\tremaining: 43.1s\n",
      "3:\tlearn: 1.0762086\ttest: 1.0616231\tbest: 1.0616231 (3)\ttotal: 3.38s\tremaining: 38.9s\n",
      "4:\tlearn: 1.0564519\ttest: 1.0485077\tbest: 1.0485077 (4)\ttotal: 3.93s\tremaining: 35.3s\n",
      "5:\tlearn: 1.0386707\ttest: 1.0369732\tbest: 1.0369732 (5)\ttotal: 4.46s\tremaining: 32.7s\n",
      "6:\tlearn: 1.0231604\ttest: 1.0262190\tbest: 1.0262190 (6)\ttotal: 5.32s\tremaining: 32.7s\n",
      "7:\tlearn: 1.0097377\ttest: 1.0169185\tbest: 1.0169185 (7)\ttotal: 5.97s\tremaining: 31.3s\n",
      "8:\tlearn: 0.9976418\ttest: 1.0082625\tbest: 1.0082625 (8)\ttotal: 6.64s\tremaining: 30.3s\n",
      "9:\tlearn: 0.9871771\ttest: 1.0012525\tbest: 1.0012525 (9)\ttotal: 7.28s\tremaining: 29.1s\n",
      "10:\tlearn: 0.9775564\ttest: 0.9949360\tbest: 0.9949360 (10)\ttotal: 7.91s\tremaining: 28s\n",
      "11:\tlearn: 0.9694309\ttest: 0.9902005\tbest: 0.9902005 (11)\ttotal: 8.57s\tremaining: 27.1s\n",
      "12:\tlearn: 0.9617275\ttest: 0.9841539\tbest: 0.9841539 (12)\ttotal: 9.24s\tremaining: 26.3s\n",
      "13:\tlearn: 0.9549739\ttest: 0.9802290\tbest: 0.9802290 (13)\ttotal: 9.76s\tremaining: 25.1s\n",
      "14:\tlearn: 0.9489055\ttest: 0.9763676\tbest: 0.9763676 (14)\ttotal: 10.3s\tremaining: 24s\n",
      "15:\tlearn: 0.9438750\ttest: 0.9733671\tbest: 0.9733671 (15)\ttotal: 10.8s\tremaining: 23.1s\n",
      "16:\tlearn: 0.9394170\ttest: 0.9708503\tbest: 0.9708503 (16)\ttotal: 11.6s\tremaining: 22.5s\n",
      "17:\tlearn: 0.9353944\ttest: 0.9685956\tbest: 0.9685956 (17)\ttotal: 12.4s\tremaining: 22s\n",
      "18:\tlearn: 0.9310723\ttest: 0.9646306\tbest: 0.9646306 (18)\ttotal: 13.2s\tremaining: 21.6s\n",
      "19:\tlearn: 0.9205317\ttest: 0.9637973\tbest: 0.9637973 (19)\ttotal: 14s\tremaining: 21s\n",
      "20:\tlearn: 0.9111587\ttest: 0.9630511\tbest: 0.9630511 (20)\ttotal: 14.6s\tremaining: 20.2s\n",
      "21:\tlearn: 0.9032416\ttest: 0.9633556\tbest: 0.9630511 (20)\ttotal: 15.3s\tremaining: 19.4s\n",
      "22:\tlearn: 0.8962212\ttest: 0.9631093\tbest: 0.9630511 (20)\ttotal: 15.8s\tremaining: 18.6s\n",
      "23:\tlearn: 0.8896138\ttest: 0.9636094\tbest: 0.9630511 (20)\ttotal: 16.3s\tremaining: 17.7s\n",
      "24:\tlearn: 0.8839642\ttest: 0.9637432\tbest: 0.9630511 (20)\ttotal: 16.8s\tremaining: 16.8s\n",
      "25:\tlearn: 0.8790679\ttest: 0.9637550\tbest: 0.9630511 (20)\ttotal: 17.3s\tremaining: 16s\n",
      "26:\tlearn: 0.8747819\ttest: 0.9643349\tbest: 0.9630511 (20)\ttotal: 18s\tremaining: 15.3s\n",
      "27:\tlearn: 0.8704277\ttest: 0.9646396\tbest: 0.9630511 (20)\ttotal: 18.7s\tremaining: 14.7s\n",
      "28:\tlearn: 0.8668050\ttest: 0.9647760\tbest: 0.9630511 (20)\ttotal: 19.2s\tremaining: 13.9s\n",
      "29:\tlearn: 0.8634160\ttest: 0.9650398\tbest: 0.9630511 (20)\ttotal: 19.9s\tremaining: 13.3s\n",
      "30:\tlearn: 0.8605836\ttest: 0.9650988\tbest: 0.9630511 (20)\ttotal: 20.4s\tremaining: 12.5s\n",
      "31:\tlearn: 0.8577283\ttest: 0.9660290\tbest: 0.9630511 (20)\ttotal: 20.9s\tremaining: 11.8s\n",
      "32:\tlearn: 0.8552388\ttest: 0.9673861\tbest: 0.9630511 (20)\ttotal: 21.5s\tremaining: 11.1s\n",
      "33:\tlearn: 0.8532419\ttest: 0.9676742\tbest: 0.9630511 (20)\ttotal: 22s\tremaining: 10.4s\n",
      "34:\tlearn: 0.8511700\ttest: 0.9676397\tbest: 0.9630511 (20)\ttotal: 22.6s\tremaining: 9.67s\n",
      "35:\tlearn: 0.8495544\ttest: 0.9677962\tbest: 0.9630511 (20)\ttotal: 23.1s\tremaining: 8.97s\n",
      "36:\tlearn: 0.8477555\ttest: 0.9680836\tbest: 0.9630511 (20)\ttotal: 23.6s\tremaining: 8.29s\n",
      "37:\tlearn: 0.8463621\ttest: 0.9685245\tbest: 0.9630511 (20)\ttotal: 24.2s\tremaining: 7.66s\n",
      "38:\tlearn: 0.8450133\ttest: 0.9709774\tbest: 0.9630511 (20)\ttotal: 24.8s\tremaining: 6.99s\n",
      "39:\tlearn: 0.8438587\ttest: 0.9718497\tbest: 0.9630511 (20)\ttotal: 25.3s\tremaining: 6.32s\n",
      "40:\tlearn: 0.8424859\ttest: 0.9732957\tbest: 0.9630511 (20)\ttotal: 25.8s\tremaining: 5.66s\n",
      "41:\tlearn: 0.8415009\ttest: 0.9734368\tbest: 0.9630511 (20)\ttotal: 26.5s\tremaining: 5.04s\n",
      "42:\tlearn: 0.8402564\ttest: 0.9751252\tbest: 0.9630511 (20)\ttotal: 27.1s\tremaining: 4.42s\n",
      "43:\tlearn: 0.8390258\ttest: 0.9766030\tbest: 0.9630511 (20)\ttotal: 27.7s\tremaining: 3.77s\n",
      "44:\tlearn: 0.8377368\ttest: 0.9785074\tbest: 0.9630511 (20)\ttotal: 28.2s\tremaining: 3.13s\n",
      "45:\tlearn: 0.8370272\ttest: 0.9778848\tbest: 0.9630511 (20)\ttotal: 28.9s\tremaining: 2.52s\n",
      "46:\tlearn: 0.8360947\ttest: 0.9781497\tbest: 0.9630511 (20)\ttotal: 29.6s\tremaining: 1.89s\n",
      "47:\tlearn: 0.8353887\ttest: 0.9782501\tbest: 0.9630511 (20)\ttotal: 30.1s\tremaining: 1.25s\n",
      "48:\tlearn: 0.8343358\ttest: 0.9785201\tbest: 0.9630511 (20)\ttotal: 30.7s\tremaining: 626ms\n",
      "49:\tlearn: 0.8337524\ttest: 0.9792565\tbest: 0.9630511 (20)\ttotal: 31.2s\tremaining: 0us\n",
      "\n",
      "bestTest = 0.9630510744\n",
      "bestIteration = 20\n",
      "\n",
      "Shrink model to first 21 iterations.\n",
      "CPU times: user 3min 10s, sys: 16.9 s, total: 3min 27s\n",
      "Wall time: 41.7 s\n"
     ]
    },
    {
     "data": {
      "text/plain": [
       "<catboost.core.CatBoostRegressor at 0x7faeb0bf33a0>"
      ]
     },
     "execution_count": 22,
     "metadata": {},
     "output_type": "execute_result"
    }
   ],
   "source": [
    "%%time\n",
    "X_train = trainv[important_features].drop('target', axis=1)\n",
    "y_train = trainv['target']\n",
    "X_valid = valid[important_features].drop('target', axis=1)\n",
    "y_valid = valid['target']\n",
    "\n",
    "train_pool = Pool(X_train, y_train, cat_features=cat)\n",
    "eval_pool = Pool(X_valid, y_valid, cat_features=cat)\n",
    "\n",
    "model = CatBoostRegressor(iterations=50, learning_rate=0.08)\n",
    "model.fit(train_pool, eval_set=eval_pool)"
   ]
  },
  {
   "cell_type": "code",
   "execution_count": 23,
   "id": "4a80ee9c",
   "metadata": {},
   "outputs": [
    {
     "data": {
      "image/png": "[encoded data removed]",
      "text/plain": [
       "<Figure size 432x288 with 1 Axes>"
      ]
     },
     "metadata": {
      "needs_background": "light"
     },
     "output_type": "display_data"
    }
   ],
   "source": [
    "validation_curve(model)"
   ]
  },
  {
   "cell_type": "markdown",
   "id": "f809c27e",
   "metadata": {},
   "source": [
    "the best number of iterations for a model on important_features is 21 (numeration from 0), RMSE on valid 0.963. \n",
    "we build a model to use in ensemble, so to make model prediction different from predictions of other models, let's use not all features, but most important"
   ]
  },
  {
   "cell_type": "markdown",
   "id": "88530917",
   "metadata": {},
   "source": [
    "let's build a model on train (21 iterations, learning rate 0.08, important_features) and predict on test"
   ]
  },
  {
   "cell_type": "code",
   "execution_count": 24,
   "id": "375dfbfb",
   "metadata": {
    "scrolled": false
   },
   "outputs": [
    {
     "name": "stdout",
     "output_type": "stream",
     "text": [
      "0:\tlearn: 1.1531362\ttotal: 1.09s\tremaining: 21.8s\n",
      "1:\tlearn: 1.1239819\ttotal: 1.77s\tremaining: 16.8s\n",
      "2:\tlearn: 1.0986969\ttotal: 2.77s\tremaining: 16.6s\n",
      "3:\tlearn: 1.0758739\ttotal: 3.65s\tremaining: 15.5s\n",
      "4:\tlearn: 1.0562718\ttotal: 4.36s\tremaining: 14s\n",
      "5:\tlearn: 1.0389327\ttotal: 5.03s\tremaining: 12.6s\n",
      "6:\tlearn: 1.0236647\ttotal: 5.58s\tremaining: 11.2s\n",
      "7:\tlearn: 1.0100974\ttotal: 6.22s\tremaining: 10.1s\n",
      "8:\tlearn: 0.9984540\ttotal: 6.92s\tremaining: 9.23s\n",
      "9:\tlearn: 0.9880638\ttotal: 7.45s\tremaining: 8.19s\n",
      "10:\tlearn: 0.9790945\ttotal: 7.97s\tremaining: 7.24s\n",
      "11:\tlearn: 0.9706992\ttotal: 8.81s\tremaining: 6.61s\n",
      "12:\tlearn: 0.9632673\ttotal: 9.38s\tremaining: 5.77s\n",
      "13:\tlearn: 0.9569214\ttotal: 10.1s\tremaining: 5.06s\n",
      "14:\tlearn: 0.9509210\ttotal: 10.7s\tremaining: 4.27s\n",
      "15:\tlearn: 0.9459859\ttotal: 11.4s\tremaining: 3.57s\n",
      "16:\tlearn: 0.9414812\ttotal: 12.2s\tremaining: 2.86s\n",
      "17:\tlearn: 0.9371119\ttotal: 12.9s\tremaining: 2.16s\n",
      "18:\tlearn: 0.9336164\ttotal: 13.6s\tremaining: 1.43s\n",
      "19:\tlearn: 0.9230469\ttotal: 14.6s\tremaining: 729ms\n",
      "20:\tlearn: 0.9136193\ttotal: 15.4s\tremaining: 0us\n",
      "CPU times: user 1min 32s, sys: 14 s, total: 1min 46s\n",
      "Wall time: 25.9 s\n"
     ]
    },
    {
     "data": {
      "text/plain": [
       "<catboost.core.CatBoostRegressor at 0x7faeb0bf3550>"
      ]
     },
     "execution_count": 24,
     "metadata": {},
     "output_type": "execute_result"
    }
   ],
   "source": [
    "%%time\n",
    "X_train = train[important_features].drop('target', axis=1)\n",
    "y_train = train['target']\n",
    "\n",
    "train_pool = Pool(X_train, y_train, cat_features=cat)\n",
    "\n",
    "catboost_imp_features = CatBoostRegressor(iterations=21, learning_rate=0.08)\n",
    "catboost_imp_features.fit(train_pool)"
   ]
  },
  {
   "cell_type": "code",
   "execution_count": null,
   "id": "b2388944",
   "metadata": {},
   "outputs": [],
   "source": [
    "test_init =  pd.read_csv('data/test.csv.gz')"
   ]
  },
  {
   "cell_type": "code",
   "execution_count": 26,
   "id": "9c6b394d",
   "metadata": {},
   "outputs": [],
   "source": [
    "y_pred = catboost_imp_features.predict(test[important_features[:-1]]).clip(min=0, max=20)\n",
    "pd.DataFrame({'ID': test_init['ID'], 'item_cnt_month': y_pred}).to_csv(\"submissions/catboost.csv\", index=False)\n"
   ]
  },
  {
   "cell_type": "markdown",
   "id": "96773995",
   "metadata": {},
   "source": [
    "RMSE on test on private/public leaderboard is 1.009/1.009"
   ]
  },
  {
   "cell_type": "code",
   "execution_count": 27,
   "id": "ee7c8dc4",
   "metadata": {},
   "outputs": [],
   "source": [
    "catboost_imp_features.save_model('models/catboost_imp_features')"
   ]
  },
  {
   "cell_type": "code",
   "execution_count": 29,
   "id": "a7dae553",
   "metadata": {},
   "outputs": [
    {
     "data": {
      "text/plain": [
       "<catboost.core.CatBoostRegressor at 0x7fad9171aa30>"
      ]
     },
     "execution_count": 29,
     "metadata": {},
     "output_type": "execute_result"
    }
   ],
   "source": [
    "# bst = CatBoostRegressor()\n",
    "# bst.load_model('models/catboost_imp_features')"
   ]
  },
  {
   "cell_type": "code",
   "execution_count": 31,
   "id": "f69a7e84",
   "metadata": {},
   "outputs": [],
   "source": [
    "predontrain_catb = catboost_imp_features.predict(train[important_features[:-1]]).clip(min=0, max=20)\n",
    "pd.DataFrame({'catb': predontrain_catb}).to_csv(\"data/predontrain_catb.csv\", index=False)"
   ]
  },
  {
   "cell_type": "code",
   "execution_count": 32,
   "id": "819c5fd2",
   "metadata": {},
   "outputs": [
    {
     "name": "stdout",
     "output_type": "stream",
     "text": [
      "rmse on train: 0.9126242564699992\n"
     ]
    }
   ],
   "source": [
    "print('rmse on train:', np.sqrt(mean_squared_error(y_train,predontrain_catb)))"
   ]
  },
  {
   "cell_type": "code",
   "execution_count": null,
   "id": "8e6cc838",
   "metadata": {},
   "outputs": [],
   "source": []
  }
 ],
 "metadata": {
  "kernelspec": {
   "display_name": "Python 3",
   "language": "python",
   "name": "python3"
  },
  "language_info": {
   "codemirror_mode": {
    "name": "ipython",
    "version": 3
   },
   "file_extension": ".py",
   "mimetype": "text/x-python",
   "name": "python",
   "nbconvert_exporter": "python",
   "pygments_lexer": "ipython3",
   "version": "3.8.8"
  }
 },
 "nbformat": 4,
 "nbformat_minor": 5
}
