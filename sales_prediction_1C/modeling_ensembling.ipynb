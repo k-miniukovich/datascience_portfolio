{
 "cells": [
  {
   "cell_type": "code",
   "execution_count": 1,
   "id": "08468768",
   "metadata": {},
   "outputs": [],
   "source": [
    "import pandas as pd\n",
    "import numpy as np\n",
    "import matplotlib.pyplot as plt\n",
    "%matplotlib inline\n",
    "from sklearn.metrics import mean_squared_error"
   ]
  },
  {
   "cell_type": "markdown",
   "id": "877ef886",
   "metadata": {},
   "source": [
    "read predictions on test and train with best xgboost, lightgbm an catboost models"
   ]
  },
  {
   "cell_type": "code",
   "execution_count": 2,
   "id": "509b73c2",
   "metadata": {},
   "outputs": [],
   "source": [
    "predontest_xgb =  pd.read_csv('submissions/xgbm.csv')\n",
    "predontest_lgb =  pd.read_csv('submissions/lgbm.csv')\n",
    "predontest_catb =  pd.read_csv('submissions/catboost.csv')"
   ]
  },
  {
   "cell_type": "code",
   "execution_count": 3,
   "id": "c06a595b",
   "metadata": {},
   "outputs": [
    {
     "data": {
      "text/html": [
       "<div>\n",
       "<style scoped>\n",
       "    .dataframe tbody tr th:only-of-type {\n",
       "        vertical-align: middle;\n",
       "    }\n",
       "\n",
       "    .dataframe tbody tr th {\n",
       "        vertical-align: top;\n",
       "    }\n",
       "\n",
       "    .dataframe thead th {\n",
       "        text-align: right;\n",
       "    }\n",
       "</style>\n",
       "<table border=\"1\" class=\"dataframe\">\n",
       "  <thead>\n",
       "    <tr style=\"text-align: right;\">\n",
       "      <th></th>\n",
       "      <th>ID</th>\n",
       "      <th>item_cnt_month</th>\n",
       "    </tr>\n",
       "  </thead>\n",
       "  <tbody>\n",
       "    <tr>\n",
       "      <th>0</th>\n",
       "      <td>0</td>\n",
       "      <td>0.588261</td>\n",
       "    </tr>\n",
       "    <tr>\n",
       "      <th>1</th>\n",
       "      <td>1</td>\n",
       "      <td>0.296947</td>\n",
       "    </tr>\n",
       "    <tr>\n",
       "      <th>2</th>\n",
       "      <td>2</td>\n",
       "      <td>1.587208</td>\n",
       "    </tr>\n",
       "    <tr>\n",
       "      <th>3</th>\n",
       "      <td>3</td>\n",
       "      <td>0.738030</td>\n",
       "    </tr>\n",
       "    <tr>\n",
       "      <th>4</th>\n",
       "      <td>4</td>\n",
       "      <td>3.253019</td>\n",
       "    </tr>\n",
       "    <tr>\n",
       "      <th>...</th>\n",
       "      <td>...</td>\n",
       "      <td>...</td>\n",
       "    </tr>\n",
       "    <tr>\n",
       "      <th>214195</th>\n",
       "      <td>214195</td>\n",
       "      <td>0.135754</td>\n",
       "    </tr>\n",
       "    <tr>\n",
       "      <th>214196</th>\n",
       "      <td>214196</td>\n",
       "      <td>0.074607</td>\n",
       "    </tr>\n",
       "    <tr>\n",
       "      <th>214197</th>\n",
       "      <td>214197</td>\n",
       "      <td>0.015581</td>\n",
       "    </tr>\n",
       "    <tr>\n",
       "      <th>214198</th>\n",
       "      <td>214198</td>\n",
       "      <td>0.060094</td>\n",
       "    </tr>\n",
       "    <tr>\n",
       "      <th>214199</th>\n",
       "      <td>214199</td>\n",
       "      <td>0.000000</td>\n",
       "    </tr>\n",
       "  </tbody>\n",
       "</table>\n",
       "<p>214200 rows × 2 columns</p>\n",
       "</div>"
      ],
      "text/plain": [
       "            ID  item_cnt_month\n",
       "0            0        0.588261\n",
       "1            1        0.296947\n",
       "2            2        1.587208\n",
       "3            3        0.738030\n",
       "4            4        3.253019\n",
       "...        ...             ...\n",
       "214195  214195        0.135754\n",
       "214196  214196        0.074607\n",
       "214197  214197        0.015581\n",
       "214198  214198        0.060094\n",
       "214199  214199        0.000000\n",
       "\n",
       "[214200 rows x 2 columns]"
      ]
     },
     "execution_count": 3,
     "metadata": {},
     "output_type": "execute_result"
    }
   ],
   "source": [
    "predontest_xgb"
   ]
  },
  {
   "cell_type": "markdown",
   "id": "179163ef",
   "metadata": {},
   "source": [
    "create dataframe X_test"
   ]
  },
  {
   "cell_type": "code",
   "execution_count": 4,
   "id": "e351507d",
   "metadata": {},
   "outputs": [],
   "source": [
    "X_test = pd.DataFrame({'xgb':predontest_xgb['item_cnt_month'].values, 'lgb':predontest_lgb['item_cnt_month'].values, 'catb':predontest_catb['item_cnt_month'].values})\n"
   ]
  },
  {
   "cell_type": "code",
   "execution_count": 5,
   "id": "77f03c58",
   "metadata": {
    "scrolled": true
   },
   "outputs": [
    {
     "data": {
      "text/html": [
       "<div>\n",
       "<style scoped>\n",
       "    .dataframe tbody tr th:only-of-type {\n",
       "        vertical-align: middle;\n",
       "    }\n",
       "\n",
       "    .dataframe tbody tr th {\n",
       "        vertical-align: top;\n",
       "    }\n",
       "\n",
       "    .dataframe thead th {\n",
       "        text-align: right;\n",
       "    }\n",
       "</style>\n",
       "<table border=\"1\" class=\"dataframe\">\n",
       "  <thead>\n",
       "    <tr style=\"text-align: right;\">\n",
       "      <th></th>\n",
       "      <th>xgb</th>\n",
       "      <th>lgb</th>\n",
       "      <th>catb</th>\n",
       "    </tr>\n",
       "  </thead>\n",
       "  <tbody>\n",
       "    <tr>\n",
       "      <th>0</th>\n",
       "      <td>0.588261</td>\n",
       "      <td>0.718470</td>\n",
       "      <td>0.429158</td>\n",
       "    </tr>\n",
       "    <tr>\n",
       "      <th>1</th>\n",
       "      <td>0.296947</td>\n",
       "      <td>0.226456</td>\n",
       "      <td>0.168294</td>\n",
       "    </tr>\n",
       "    <tr>\n",
       "      <th>2</th>\n",
       "      <td>1.587208</td>\n",
       "      <td>1.033477</td>\n",
       "      <td>0.829892</td>\n",
       "    </tr>\n",
       "    <tr>\n",
       "      <th>3</th>\n",
       "      <td>0.738030</td>\n",
       "      <td>0.426672</td>\n",
       "      <td>0.328639</td>\n",
       "    </tr>\n",
       "    <tr>\n",
       "      <th>4</th>\n",
       "      <td>3.253019</td>\n",
       "      <td>3.000036</td>\n",
       "      <td>0.739699</td>\n",
       "    </tr>\n",
       "    <tr>\n",
       "      <th>...</th>\n",
       "      <td>...</td>\n",
       "      <td>...</td>\n",
       "      <td>...</td>\n",
       "    </tr>\n",
       "    <tr>\n",
       "      <th>214195</th>\n",
       "      <td>0.135754</td>\n",
       "      <td>0.172739</td>\n",
       "      <td>0.232274</td>\n",
       "    </tr>\n",
       "    <tr>\n",
       "      <th>214196</th>\n",
       "      <td>0.074607</td>\n",
       "      <td>0.048725</td>\n",
       "      <td>0.141065</td>\n",
       "    </tr>\n",
       "    <tr>\n",
       "      <th>214197</th>\n",
       "      <td>0.015581</td>\n",
       "      <td>0.041025</td>\n",
       "      <td>0.119414</td>\n",
       "    </tr>\n",
       "    <tr>\n",
       "      <th>214198</th>\n",
       "      <td>0.060094</td>\n",
       "      <td>0.081854</td>\n",
       "      <td>0.114678</td>\n",
       "    </tr>\n",
       "    <tr>\n",
       "      <th>214199</th>\n",
       "      <td>0.000000</td>\n",
       "      <td>0.030446</td>\n",
       "      <td>0.114678</td>\n",
       "    </tr>\n",
       "  </tbody>\n",
       "</table>\n",
       "<p>214200 rows × 3 columns</p>\n",
       "</div>"
      ],
      "text/plain": [
       "             xgb       lgb      catb\n",
       "0       0.588261  0.718470  0.429158\n",
       "1       0.296947  0.226456  0.168294\n",
       "2       1.587208  1.033477  0.829892\n",
       "3       0.738030  0.426672  0.328639\n",
       "4       3.253019  3.000036  0.739699\n",
       "...          ...       ...       ...\n",
       "214195  0.135754  0.172739  0.232274\n",
       "214196  0.074607  0.048725  0.141065\n",
       "214197  0.015581  0.041025  0.119414\n",
       "214198  0.060094  0.081854  0.114678\n",
       "214199  0.000000  0.030446  0.114678\n",
       "\n",
       "[214200 rows x 3 columns]"
      ]
     },
     "execution_count": 5,
     "metadata": {},
     "output_type": "execute_result"
    }
   ],
   "source": [
    "X_test"
   ]
  },
  {
   "cell_type": "code",
   "execution_count": 6,
   "id": "9ad99305",
   "metadata": {},
   "outputs": [],
   "source": [
    "predontrain_xgb =  pd.read_csv('data/predontrain_xgb.csv')\n",
    "predontrain_lgb =  pd.read_csv('data/predontrain_lgb.csv')\n",
    "predontrain_catb =  pd.read_csv('data/predontrain_catb.csv')"
   ]
  },
  {
   "cell_type": "markdown",
   "id": "aa7fb349",
   "metadata": {},
   "source": [
    "create dataframe train_ens for ensemble"
   ]
  },
  {
   "cell_type": "code",
   "execution_count": 7,
   "id": "28069b8b",
   "metadata": {},
   "outputs": [],
   "source": [
    "train_ens = pd.concat([predontrain_xgb, predontrain_lgb, predontrain_catb], axis=1)\n"
   ]
  },
  {
   "cell_type": "code",
   "execution_count": 36,
   "id": "d5246ea2",
   "metadata": {},
   "outputs": [],
   "source": [
    "train = pd.read_csv('data/train_numfeatures.csv.gz') \n",
    "train = train[train['date_block_num']>11] "
   ]
  },
  {
   "cell_type": "code",
   "execution_count": 37,
   "id": "069606e1",
   "metadata": {},
   "outputs": [],
   "source": [
    "train_ens['target'] = train['target'].values\n",
    "train_ens['date_block_num'] = train['date_block_num'].values"
   ]
  },
  {
   "cell_type": "code",
   "execution_count": 38,
   "id": "ce17365f",
   "metadata": {},
   "outputs": [
    {
     "data": {
      "text/html": [
       "<div>\n",
       "<style scoped>\n",
       "    .dataframe tbody tr th:only-of-type {\n",
       "        vertical-align: middle;\n",
       "    }\n",
       "\n",
       "    .dataframe tbody tr th {\n",
       "        vertical-align: top;\n",
       "    }\n",
       "\n",
       "    .dataframe thead th {\n",
       "        text-align: right;\n",
       "    }\n",
       "</style>\n",
       "<table border=\"1\" class=\"dataframe\">\n",
       "  <thead>\n",
       "    <tr style=\"text-align: right;\">\n",
       "      <th></th>\n",
       "      <th>xgb</th>\n",
       "      <th>lgb</th>\n",
       "      <th>catb</th>\n",
       "      <th>target</th>\n",
       "      <th>date_block_num</th>\n",
       "    </tr>\n",
       "  </thead>\n",
       "  <tbody>\n",
       "    <tr>\n",
       "      <th>0</th>\n",
       "      <td>0.015573</td>\n",
       "      <td>0.044819</td>\n",
       "      <td>0.134381</td>\n",
       "      <td>0.0</td>\n",
       "      <td>12</td>\n",
       "    </tr>\n",
       "    <tr>\n",
       "      <th>1</th>\n",
       "      <td>0.232097</td>\n",
       "      <td>0.255670</td>\n",
       "      <td>0.317225</td>\n",
       "      <td>0.0</td>\n",
       "      <td>12</td>\n",
       "    </tr>\n",
       "    <tr>\n",
       "      <th>2</th>\n",
       "      <td>0.119659</td>\n",
       "      <td>0.118585</td>\n",
       "      <td>0.182601</td>\n",
       "      <td>0.0</td>\n",
       "      <td>12</td>\n",
       "    </tr>\n",
       "    <tr>\n",
       "      <th>3</th>\n",
       "      <td>0.234045</td>\n",
       "      <td>0.410999</td>\n",
       "      <td>0.433735</td>\n",
       "      <td>1.0</td>\n",
       "      <td>12</td>\n",
       "    </tr>\n",
       "    <tr>\n",
       "      <th>4</th>\n",
       "      <td>0.619276</td>\n",
       "      <td>0.657736</td>\n",
       "      <td>0.584820</td>\n",
       "      <td>1.0</td>\n",
       "      <td>12</td>\n",
       "    </tr>\n",
       "    <tr>\n",
       "      <th>...</th>\n",
       "      <td>...</td>\n",
       "      <td>...</td>\n",
       "      <td>...</td>\n",
       "      <td>...</td>\n",
       "      <td>...</td>\n",
       "    </tr>\n",
       "    <tr>\n",
       "      <th>6425089</th>\n",
       "      <td>0.162137</td>\n",
       "      <td>0.150535</td>\n",
       "      <td>0.162200</td>\n",
       "      <td>0.0</td>\n",
       "      <td>33</td>\n",
       "    </tr>\n",
       "    <tr>\n",
       "      <th>6425090</th>\n",
       "      <td>0.126034</td>\n",
       "      <td>0.112086</td>\n",
       "      <td>0.142501</td>\n",
       "      <td>0.0</td>\n",
       "      <td>33</td>\n",
       "    </tr>\n",
       "    <tr>\n",
       "      <th>6425091</th>\n",
       "      <td>0.146326</td>\n",
       "      <td>0.146969</td>\n",
       "      <td>0.146095</td>\n",
       "      <td>0.0</td>\n",
       "      <td>33</td>\n",
       "    </tr>\n",
       "    <tr>\n",
       "      <th>6425092</th>\n",
       "      <td>0.000000</td>\n",
       "      <td>0.038277</td>\n",
       "      <td>0.114424</td>\n",
       "      <td>0.0</td>\n",
       "      <td>33</td>\n",
       "    </tr>\n",
       "    <tr>\n",
       "      <th>6425093</th>\n",
       "      <td>0.182184</td>\n",
       "      <td>0.133340</td>\n",
       "      <td>0.167298</td>\n",
       "      <td>0.0</td>\n",
       "      <td>33</td>\n",
       "    </tr>\n",
       "  </tbody>\n",
       "</table>\n",
       "<p>6425094 rows × 5 columns</p>\n",
       "</div>"
      ],
      "text/plain": [
       "              xgb       lgb      catb  target  date_block_num\n",
       "0        0.015573  0.044819  0.134381     0.0              12\n",
       "1        0.232097  0.255670  0.317225     0.0              12\n",
       "2        0.119659  0.118585  0.182601     0.0              12\n",
       "3        0.234045  0.410999  0.433735     1.0              12\n",
       "4        0.619276  0.657736  0.584820     1.0              12\n",
       "...           ...       ...       ...     ...             ...\n",
       "6425089  0.162137  0.150535  0.162200     0.0              33\n",
       "6425090  0.126034  0.112086  0.142501     0.0              33\n",
       "6425091  0.146326  0.146969  0.146095     0.0              33\n",
       "6425092  0.000000  0.038277  0.114424     0.0              33\n",
       "6425093  0.182184  0.133340  0.167298     0.0              33\n",
       "\n",
       "[6425094 rows x 5 columns]"
      ]
     },
     "execution_count": 38,
     "metadata": {},
     "output_type": "execute_result"
    }
   ],
   "source": [
    "train_ens"
   ]
  },
  {
   "cell_type": "markdown",
   "id": "c931428a",
   "metadata": {},
   "source": [
    "check if train_ens is created in a correct way (we check if rmse is the same we calculated in notebooks for modeling)"
   ]
  },
  {
   "cell_type": "code",
   "execution_count": 39,
   "id": "ef62d841",
   "metadata": {
    "scrolled": false
   },
   "outputs": [
    {
     "name": "stdout",
     "output_type": "stream",
     "text": [
      "rmse xgb: 0.8357605253145622\n"
     ]
    }
   ],
   "source": [
    "print('rmse xgb:', np.sqrt(mean_squared_error(train_ens['xgb'],train_ens['target'])))"
   ]
  },
  {
   "cell_type": "code",
   "execution_count": 40,
   "id": "d827db1f",
   "metadata": {},
   "outputs": [
    {
     "name": "stdout",
     "output_type": "stream",
     "text": [
      "rmse lgb: 0.8385849195301215\n"
     ]
    }
   ],
   "source": [
    "print('rmse lgb:', np.sqrt(mean_squared_error(train_ens['lgb'],train_ens['target'])))"
   ]
  },
  {
   "cell_type": "code",
   "execution_count": 41,
   "id": "361132e0",
   "metadata": {
    "scrolled": true
   },
   "outputs": [
    {
     "name": "stdout",
     "output_type": "stream",
     "text": [
      "rmse catb: 0.9126242564699992\n"
     ]
    }
   ],
   "source": [
    "print('rmse catb:', np.sqrt(mean_squared_error(train_ens['catb'],train_ens['target'])))"
   ]
  },
  {
   "cell_type": "markdown",
   "id": "265712a3",
   "metadata": {},
   "source": [
    "train_ens is created in a correct way\n",
    "<p>let's check correlation between predictions and target"
   ]
  },
  {
   "cell_type": "code",
   "execution_count": 14,
   "id": "848e2d44",
   "metadata": {
    "scrolled": false
   },
   "outputs": [
    {
     "data": {
      "text/html": [
       "<div>\n",
       "<style scoped>\n",
       "    .dataframe tbody tr th:only-of-type {\n",
       "        vertical-align: middle;\n",
       "    }\n",
       "\n",
       "    .dataframe tbody tr th {\n",
       "        vertical-align: top;\n",
       "    }\n",
       "\n",
       "    .dataframe thead th {\n",
       "        text-align: right;\n",
       "    }\n",
       "</style>\n",
       "<table border=\"1\" class=\"dataframe\">\n",
       "  <thead>\n",
       "    <tr style=\"text-align: right;\">\n",
       "      <th></th>\n",
       "      <th>xgb</th>\n",
       "      <th>lgb</th>\n",
       "      <th>catb</th>\n",
       "      <th>target</th>\n",
       "    </tr>\n",
       "  </thead>\n",
       "  <tbody>\n",
       "    <tr>\n",
       "      <th>xgb</th>\n",
       "      <td>1.000000</td>\n",
       "      <td>0.980970</td>\n",
       "      <td>0.935921</td>\n",
       "      <td>0.710263</td>\n",
       "    </tr>\n",
       "    <tr>\n",
       "      <th>lgb</th>\n",
       "      <td>0.980970</td>\n",
       "      <td>1.000000</td>\n",
       "      <td>0.952725</td>\n",
       "      <td>0.708429</td>\n",
       "    </tr>\n",
       "    <tr>\n",
       "      <th>catb</th>\n",
       "      <td>0.935921</td>\n",
       "      <td>0.952725</td>\n",
       "      <td>1.000000</td>\n",
       "      <td>0.662519</td>\n",
       "    </tr>\n",
       "    <tr>\n",
       "      <th>target</th>\n",
       "      <td>0.710263</td>\n",
       "      <td>0.708429</td>\n",
       "      <td>0.662519</td>\n",
       "      <td>1.000000</td>\n",
       "    </tr>\n",
       "  </tbody>\n",
       "</table>\n",
       "</div>"
      ],
      "text/plain": [
       "             xgb       lgb      catb    target\n",
       "xgb     1.000000  0.980970  0.935921  0.710263\n",
       "lgb     0.980970  1.000000  0.952725  0.708429\n",
       "catb    0.935921  0.952725  1.000000  0.662519\n",
       "target  0.710263  0.708429  0.662519  1.000000"
      ]
     },
     "execution_count": 14,
     "metadata": {},
     "output_type": "execute_result"
    }
   ],
   "source": [
    "train_ens.drop('date_block_num', axis=1).corr()"
   ]
  },
  {
   "cell_type": "code",
   "execution_count": 15,
   "id": "f8f96b70",
   "metadata": {},
   "outputs": [
    {
     "data": {
      "image/png": "[encoded data removed]",
      "text/plain": [
       "<Figure size 432x288 with 1 Axes>"
      ]
     },
     "metadata": {
      "needs_background": "light"
     },
     "output_type": "display_data"
    }
   ],
   "source": [
    "plt.xlabel('target')\n",
    "plt.ylabel('xgb')\n",
    "plt.scatter(train_ens['target'], train_ens['xgb']);"
   ]
  },
  {
   "cell_type": "code",
   "execution_count": 12,
   "id": "74b53f3c",
   "metadata": {},
   "outputs": [
    {
     "data": {
      "image/png": "[encoded data removed]",
      "text/plain": [
       "<Figure size 432x288 with 1 Axes>"
      ]
     },
     "metadata": {
      "needs_background": "light"
     },
     "output_type": "display_data"
    }
   ],
   "source": [
    "plt.xlabel('target')\n",
    "plt.ylabel('lgb')\n",
    "plt.scatter(train_ens['target'], train_ens['lgb']);"
   ]
  },
  {
   "cell_type": "code",
   "execution_count": 13,
   "id": "880c5074",
   "metadata": {},
   "outputs": [
    {
     "data": {
      "image/png": "[encoded data removed]",
      "text/plain": [
       "<Figure size 432x288 with 1 Axes>"
      ]
     },
     "metadata": {
      "needs_background": "light"
     },
     "output_type": "display_data"
    }
   ],
   "source": [
    "plt.xlabel('target')\n",
    "plt.ylabel('catb')\n",
    "plt.scatter(train_ens['target'], train_ens['catb']);"
   ]
  },
  {
   "cell_type": "markdown",
   "id": "b5471215",
   "metadata": {},
   "source": [
    "correlation of predictions with best xgboost, lightgbm an catboost models is rather high (> 0.94), so we don't expect much improvement from ensemble. let's build an ensemble and check"
   ]
  },
  {
   "cell_type": "code",
   "execution_count": 42,
   "id": "c7c06e62",
   "metadata": {},
   "outputs": [],
   "source": [
    "# trainv_ens and valid_ens\n",
    "trainv_ens = train_ens[train_ens['date_block_num']!=33]\n",
    "valid_ens = train_ens[train_ens['date_block_num']==33]\n",
    "\n",
    "X_train = trainv_ens.drop(['target', 'date_block_num'], axis=1)\n",
    "y_train = trainv_ens['target']\n",
    "X_valid = valid_ens.drop(['target', 'date_block_num'], axis=1)\n",
    "y_valid = valid_ens['target']"
   ]
  },
  {
   "cell_type": "code",
   "execution_count": 43,
   "id": "8f95bdb1",
   "metadata": {},
   "outputs": [
    {
     "data": {
      "text/plain": [
       "{'copy_X': True,\n",
       " 'fit_intercept': True,\n",
       " 'n_jobs': -1,\n",
       " 'normalize': False,\n",
       " 'positive': False}"
      ]
     },
     "execution_count": 43,
     "metadata": {},
     "output_type": "execute_result"
    }
   ],
   "source": [
    "from sklearn.linear_model import LinearRegression\n",
    "lr = LinearRegression(n_jobs=-1)\n",
    "lr.get_params()"
   ]
  },
  {
   "cell_type": "code",
   "execution_count": null,
   "id": "a1a65838",
   "metadata": {},
   "outputs": [],
   "source": []
  },
  {
   "cell_type": "code",
   "execution_count": 44,
   "id": "6984d809",
   "metadata": {},
   "outputs": [
    {
     "name": "stdout",
     "output_type": "stream",
     "text": [
      "RMSE on train:  0.7777478726609164\n",
      "RMSE on valid:  0.8959955011798524\n"
     ]
    }
   ],
   "source": [
    "lr.fit(X_train, y_train)\n",
    "y_train_pred = lr.predict(X_train).clip(min=0, max=20)\n",
    "print('RMSE on train: ', np.sqrt(mean_squared_error(y_train_pred, y_train)))\n",
    "y_valid_pred = lr.predict(X_valid).clip(min=0, max=20)\n",
    "print('RMSE on valid: ', np.sqrt(mean_squared_error(y_valid_pred, y_valid)))\n"
   ]
  },
  {
   "cell_type": "code",
   "execution_count": null,
   "id": "ced4dfaf",
   "metadata": {},
   "outputs": [],
   "source": []
  },
  {
   "cell_type": "code",
   "execution_count": 21,
   "id": "41fc0e2a",
   "metadata": {},
   "outputs": [],
   "source": [
    "from sklearn.preprocessing import PolynomialFeatures\n",
    "from sklearn.pipeline import make_pipeline"
   ]
  },
  {
   "cell_type": "code",
   "execution_count": 22,
   "id": "a46075d9",
   "metadata": {
    "scrolled": true
   },
   "outputs": [],
   "source": [
    "def linear_model(polinom_degree, lin_estimator, X_train, y_train, X_valid, y_valid):\n",
    "    print('degree:',polinom_degree)\n",
    "    poly_model = make_pipeline(PolynomialFeatures(polinom_degree), lin_estimator)\n",
    "    poly_model.fit(X_train, y_train)\n",
    "    y_train_pred = poly_model.predict(X_train).clip(min=0, max=20)\n",
    "    print('RMSE on train: ', np.sqrt(mean_squared_error(y_train_pred, y_train)))\n",
    "    y_valid_pred = poly_model.predict(X_valid).clip(min=0, max=20)\n",
    "    print('RMSE on valid: ', np.sqrt(mean_squared_error(y_valid_pred, y_valid)))"
   ]
  },
  {
   "cell_type": "code",
   "execution_count": 45,
   "id": "cd939246",
   "metadata": {},
   "outputs": [
    {
     "name": "stdout",
     "output_type": "stream",
     "text": [
      "linear estimator: LinearRegression()\n",
      "degree: 1\n",
      "RMSE on train:  0.7777478726609004\n",
      "RMSE on valid:  0.8959955011798604\n",
      "degree: 2\n",
      "RMSE on train:  0.772713804180416\n",
      "RMSE on valid:  0.8856274122888874\n",
      "degree: 3\n",
      "RMSE on train:  0.7688197697388985\n",
      "RMSE on valid:  0.8764723160801469\n"
     ]
    }
   ],
   "source": [
    "lin_estimator = LinearRegression()\n",
    "print('linear estimator:',lin_estimator)\n",
    "degree = np.arange(1, 4)\n",
    "for d in degree:\n",
    "    linear_model(d, lin_estimator, X_train, y_train, X_valid, y_valid)"
   ]
  },
  {
   "cell_type": "code",
   "execution_count": 24,
   "id": "bc6d0632",
   "metadata": {},
   "outputs": [
    {
     "name": "stdout",
     "output_type": "stream",
     "text": [
      "RMSE on train:  0.8218900111139738\n",
      "CPU times: user 4.42 s, sys: 974 ms, total: 5.4 s\n",
      "Wall time: 2.01 s\n"
     ]
    }
   ],
   "source": [
    "%%time\n",
    "X_train = train_ens.drop(['target', 'date_block_num'], axis=1)\n",
    "y_train = train_ens['target']\n",
    "best_ens = make_pipeline(PolynomialFeatures(2), LinearRegression())\n",
    "best_ens.fit(X_train, y_train)\n",
    "y_train_pred = best_ens.predict(X_train).clip(min=0, max=20)\n",
    "print('RMSE on train: ', np.sqrt(mean_squared_error(y_train_pred, y_train)))"
   ]
  },
  {
   "cell_type": "code",
   "execution_count": 25,
   "id": "206784c5",
   "metadata": {},
   "outputs": [],
   "source": [
    "test_id = predontest_xgb['ID']\n",
    "y_pred = best_ens.predict(X_test).clip(min=0, max=20)\n",
    "pd.DataFrame({'ID': test_id, 'item_cnt_month': y_pred}).to_csv(\"submissions/ensemble_lr.csv\", index=False)"
   ]
  },
  {
   "cell_type": "markdown",
   "id": "0d312b9c",
   "metadata": {},
   "source": [
    "RMSE on test on private/public leaderboard is 0.9349/0.9305"
   ]
  },
  {
   "cell_type": "code",
   "execution_count": null,
   "id": "6425b340",
   "metadata": {},
   "outputs": [],
   "source": []
  },
  {
   "cell_type": "code",
   "execution_count": 26,
   "id": "cb1fb6f4",
   "metadata": {},
   "outputs": [],
   "source": [
    "import lightgbm as lgb"
   ]
  },
  {
   "cell_type": "code",
   "execution_count": 27,
   "id": "0e6e6418",
   "metadata": {},
   "outputs": [],
   "source": [
    "X_train = trainv_ens.drop(['target', 'date_block_num'], axis=1)\n",
    "y_train = trainv_ens['target']\n",
    "X_valid = valid_ens.drop(['target', 'date_block_num'], axis=1)\n",
    "y_valid = valid_ens['target']"
   ]
  },
  {
   "cell_type": "code",
   "execution_count": 28,
   "id": "24c41f31",
   "metadata": {
    "scrolled": true
   },
   "outputs": [
    {
     "name": "stdout",
     "output_type": "stream",
     "text": [
      "[5]\ttraining's rmse: 0.973753\tvalid_0's rmse: 0.975321\n",
      "[10]\ttraining's rmse: 0.884542\tvalid_0's rmse: 0.910829\n",
      "[15]\ttraining's rmse: 0.849302\tvalid_0's rmse: 0.888163\n",
      "[20]\ttraining's rmse: 0.835336\tvalid_0's rmse: 0.878549\n",
      "[25]\ttraining's rmse: 0.829228\tvalid_0's rmse: 0.874586\n",
      "[30]\ttraining's rmse: 0.826052\tvalid_0's rmse: 0.870371\n",
      "[35]\ttraining's rmse: 0.824223\tvalid_0's rmse: 0.868107\n",
      "[40]\ttraining's rmse: 0.822899\tvalid_0's rmse: 0.866794\n",
      "[45]\ttraining's rmse: 0.821879\tvalid_0's rmse: 0.866023\n",
      "[50]\ttraining's rmse: 0.821049\tvalid_0's rmse: 0.864835\n",
      "[55]\ttraining's rmse: 0.820166\tvalid_0's rmse: 0.863908\n",
      "[60]\ttraining's rmse: 0.819549\tvalid_0's rmse: 0.863676\n",
      "[65]\ttraining's rmse: 0.818875\tvalid_0's rmse: 0.863262\n",
      "[70]\ttraining's rmse: 0.818398\tvalid_0's rmse: 0.86312\n",
      "[75]\ttraining's rmse: 0.817902\tvalid_0's rmse: 0.862998\n",
      "[80]\ttraining's rmse: 0.817457\tvalid_0's rmse: 0.863013\n",
      "[85]\ttraining's rmse: 0.817134\tvalid_0's rmse: 0.863237\n",
      "[90]\ttraining's rmse: 0.816604\tvalid_0's rmse: 0.863515\n",
      "[95]\ttraining's rmse: 0.816314\tvalid_0's rmse: 0.863533\n",
      "[100]\ttraining's rmse: 0.815798\tvalid_0's rmse: 0.863435\n",
      "CPU times: user 37.8 s, sys: 2.99 s, total: 40.8 s\n",
      "Wall time: 6 s\n"
     ]
    },
    {
     "data": {
      "text/plain": [
       "<AxesSubplot:title={'center':'Metric during training'}, xlabel='Iterations', ylabel='rmse'>"
      ]
     },
     "execution_count": 28,
     "metadata": {},
     "output_type": "execute_result"
    },
    {
     "data": {
      "image/png": "[encoded data removed]",
      "text/plain": [
       "<Figure size 432x288 with 1 Axes>"
      ]
     },
     "metadata": {
      "needs_background": "light"
     },
     "output_type": "display_data"
    }
   ],
   "source": [
    "%%time\n",
    "# Scikit-learn API (LGBMRegressor) is chosen as it's easier to build validation plot (in comparison with Training API)\n",
    "\n",
    "model = lgb.LGBMRegressor(objective='rmse', n_estimators=100)\n",
    "model.fit(X_train,\n",
    "          y_train, \n",
    "          eval_set=[(X_valid, y_valid),(X_train,y_train)], \n",
    "          verbose=5  \n",
    "        )\n",
    "\n",
    "lgb.plot_metric(model);"
   ]
  },
  {
   "cell_type": "code",
   "execution_count": null,
   "id": "32c81f64",
   "metadata": {},
   "outputs": [],
   "source": []
  },
  {
   "cell_type": "code",
   "execution_count": 29,
   "id": "30aedb0a",
   "metadata": {},
   "outputs": [
    {
     "name": "stdout",
     "output_type": "stream",
     "text": [
      "[5]\ttraining's rmse: 0.974304\n",
      "[10]\ttraining's rmse: 0.886107\n",
      "[15]\ttraining's rmse: 0.851495\n",
      "[20]\ttraining's rmse: 0.837421\n",
      "[25]\ttraining's rmse: 0.831372\n",
      "[30]\ttraining's rmse: 0.828416\n",
      "[35]\ttraining's rmse: 0.826683\n",
      "[40]\ttraining's rmse: 0.825487\n",
      "[45]\ttraining's rmse: 0.824651\n",
      "[50]\ttraining's rmse: 0.823666\n",
      "CPU times: user 22.1 s, sys: 2.18 s, total: 24.3 s\n",
      "Wall time: 3.95 s\n"
     ]
    },
    {
     "data": {
      "text/plain": [
       "LGBMRegressor(n_estimators=50, objective='rmse')"
      ]
     },
     "execution_count": 29,
     "metadata": {},
     "output_type": "execute_result"
    }
   ],
   "source": [
    "%%time\n",
    "X_train = train_ens.drop(['target', 'date_block_num'], axis=1)\n",
    "y_train = train_ens['target']\n",
    "\n",
    "\n",
    "best_ens_lgb = lgb.LGBMRegressor(objective='rmse', n_estimators=50)\n",
    "best_ens_lgb.fit(X_train,\n",
    "          y_train, \n",
    "          eval_set=[(X_train,y_train)],\n",
    "          verbose=5  \n",
    "        )"
   ]
  },
  {
   "cell_type": "code",
   "execution_count": 31,
   "id": "6fe76438",
   "metadata": {},
   "outputs": [],
   "source": [
    "test_id = predontest_xgb['ID']\n",
    "y_pred = best_ens_lgb.predict(X_test).clip(min=0, max=20)\n",
    "pd.DataFrame({'ID': test_id, 'item_cnt_month': y_pred}).to_csv(\"submissions/ensemble_lgb.csv\", index=False)\n"
   ]
  },
  {
   "cell_type": "markdown",
   "id": "062ed223",
   "metadata": {},
   "source": [
    "RMSE on test on private/public leaderboard is 0.9704/0.9637 "
   ]
  },
  {
   "cell_type": "markdown",
   "id": "7a605b75",
   "metadata": {},
   "source": [
    "<p>Conclusion: the best of obtained so far models is ensemble on 3 models (xgboost, lightgbm and catboost), metalener is linear regression with polynomial features (degree=2). RMSE on test for this model is 0.9349/0.9305 on private/public leaderboard.\n",
    "<p>Further improvement of the solution:\n",
    "    <ul>\n",
    "            <li>make preprocessing (stemming, stop words removal etc.) and tf-idf and/or word-to-vec encoding for text variables (shop_name, item_name, item_category_name), use obtained features in modeling;\n",
    "            <li>build xgboost, lightgbm and catboost on different groups of features, stack built models."
   ]
  },
  {
   "cell_type": "code",
   "execution_count": null,
   "id": "a0300e5e",
   "metadata": {},
   "outputs": [],
   "source": []
  }
 ],
 "metadata": {
  "kernelspec": {
   "display_name": "Python 3",
   "language": "python",
   "name": "python3"
  },
  "language_info": {
   "codemirror_mode": {
    "name": "ipython",
    "version": 3
   },
   "file_extension": ".py",
   "mimetype": "text/x-python",
   "name": "python",
   "nbconvert_exporter": "python",
   "pygments_lexer": "ipython3",
   "version": "3.8.8"
  }
 },
 "nbformat": 4,
 "nbformat_minor": 5
}
