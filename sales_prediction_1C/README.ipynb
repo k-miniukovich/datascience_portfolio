{
 "cells": [
  {
   "cell_type": "markdown",
   "id": "b1afb5e8",
   "metadata": {},
   "source": [
    "This folder contains my solution to a final project for the \"How to win a data science competition\" Coursera course. Data is taken from https://www.kaggle.com/c/competitive-data-science-final-project/data.\n",
    "<p>The task is to predict total sales for every product and store in the next month. Submissions are evaluated by root mean squared error (RMSE). True target values are clipped into [0,20] range.\n",
    "\n",
    "File descriptions\n",
    "<ul>\n",
    "    <li>EDA.ipynb - includes data description, exploratory analysis and conclusions in the form of insights for modeling (e.g. validation scheme based on understanding of test composition, data preprocessing, categorical features encoding, ideas on feature engineering).</li>\n",
    "    <li>data_prep_4modeling.ipynb - preparing train and test data for modeling (preprocessing and feature engineering), saving prepared train and test to disk.\n",
    "    <li>modeling_xgb.ipynb, modeling_lgbm.ipynb, modeling_catboost.ipynb - creating models with xgboost, lightgbm an catboost algorithms, choosing the best model for each algorithm, submitting predictions on kaggle, saving predictions on train and test on disk.\n",
    "    <li>modeling_ensemble.ipynb - creating ensemble of 3 best models built with 3 mentioned above files and using linear regression with polynomial features (degree=2) as metalener, suggestions on further improvement of the solution.         "
   ]
  },
  {
   "cell_type": "code",
   "execution_count": null,
   "id": "f41af7b4",
   "metadata": {},
   "outputs": [],
   "source": []
  }
 ],
 "metadata": {
  "kernelspec": {
   "display_name": "Python 3",
   "language": "python",
   "name": "python3"
  },
  "language_info": {
   "codemirror_mode": {
    "name": "ipython",
    "version": 3
   },
   "file_extension": ".py",
   "mimetype": "text/x-python",
   "name": "python",
   "nbconvert_exporter": "python",
   "pygments_lexer": "ipython3",
   "version": "3.8.8"
  }
 },
 "nbformat": 4,
 "nbformat_minor": 5
}
