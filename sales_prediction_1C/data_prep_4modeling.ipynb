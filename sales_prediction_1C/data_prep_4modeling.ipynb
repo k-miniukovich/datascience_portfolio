{
 "cells": [
  {
   "cell_type": "markdown",
   "id": "e373bb0b",
   "metadata": {},
   "source": [
    "<b>Plan</b>\n",
    "\n",
    "Step 1: preprocessing sales data and preparing train with predictors *date_block_num, shop_id, item_id, item_category_id* and clipped target\n",
    "\n",
    "Step 2: concatenate train and test\n",
    "\n",
    "Step 3: add the following features: *month; nr - number of rows for date_block_num in monthly sales*\n",
    "\n",
    "Step 4: add “target encoding” derived features with lags 1,2,3,12,13 (l1, l2, l3, l12, l13), and differences between lags 2 and 1 (d2-1), 3 and 2 (d3-2), 13 and 1 (d13-1)\n",
    "\n",
    "Step 5: add mean_price with lag1: *mean_price=1 if mean item price aggregated by date_block_num/item_id more or equal 4100, mean_price=0 - less than 4100, mean_price=-1 no transactions on an item_id in considered period* )\n",
    "\n",
    "Step 6: for 3 text variables (shop_name, item_name, item_category_name) make preprocessing (stemming, stop words removal etc.) and tf-idf and/or word-to-vec encoding\n",
    "\n",
    "Step 7: save train and test to disk as .csv\n"
   ]
  },
  {
   "cell_type": "code",
   "execution_count": 1,
   "id": "08468768",
   "metadata": {},
   "outputs": [],
   "source": [
    "import pandas as pd\n",
    "import numpy as np\n",
    "from itertools import product\n",
    "import matplotlib.pyplot as plt\n",
    "%matplotlib inline\n",
    "import lightgbm as lgb\n",
    "from sklearn.metrics import mean_squared_error"
   ]
  },
  {
   "cell_type": "code",
   "execution_count": 2,
   "id": "217f02b2",
   "metadata": {},
   "outputs": [],
   "source": [
    "sales = pd.read_csv('data/sales_train.csv.gz') \n",
    "items = pd.read_csv('data/items.csv')\n",
    "item_categories = pd.read_csv('data/item_categories.csv')\n",
    "shops = pd.read_csv('data/shops.csv')\n",
    "test =  pd.read_csv('data/test.csv.gz')"
   ]
  },
  {
   "cell_type": "markdown",
   "id": "3ea30123",
   "metadata": {},
   "source": [
    "Step 1: preprocessing and preparing train"
   ]
  },
  {
   "cell_type": "code",
   "execution_count": 3,
   "id": "88aa72f4",
   "metadata": {},
   "outputs": [],
   "source": [
    "# drop the row with price 307980.0 as it's outlier and no more rows with item_id 6066 neither in sales no in test\n",
    "sales.drop(index=sales[sales['item_id']==6066].index, inplace=True)"
   ]
  },
  {
   "cell_type": "code",
   "execution_count": 4,
   "id": "c879aed9",
   "metadata": {},
   "outputs": [],
   "source": [
    "# change the price of -1 to 2499.0 (see explanation on EDA)\n",
    "sales.loc[sales['item_price']<0, 'item_price'] = 2499.0"
   ]
  },
  {
   "cell_type": "code",
   "execution_count": 5,
   "id": "ab4eac8c",
   "metadata": {},
   "outputs": [],
   "source": [
    "# compose train (monthly_sales): for each month find unique shop_id and item_id, \n",
    "# add rows with target=0 that is for each month there are all combinations for found shop_id/item_id\n",
    "\n",
    "# For every month we create a grid from all shops/items combinations from that month\n",
    "grid = [] \n",
    "for block_num in sales['date_block_num'].unique():\n",
    "    cur_shops = sales[sales['date_block_num']==block_num]['shop_id'].unique()\n",
    "    cur_items = sales[sales['date_block_num']==block_num]['item_id'].unique()\n",
    "    grid.append(np.array(list(product(*[cur_shops, cur_items, [block_num]])),dtype='int32'))\n",
    "\n",
    "index_cols = ['shop_id', 'item_id', 'date_block_num']\n",
    "\n",
    "#turn the grid into pandas dataframe\n",
    "grid = pd.DataFrame(np.vstack(grid), columns = index_cols, dtype=np.int32)\n",
    "\n",
    "#get aggregated values for (shop_id, item_id, month)\n",
    "gb = sales.groupby(index_cols,as_index=False).agg({'item_cnt_day': 'sum'}).rename(columns = {'item_cnt_day':'target'})\n",
    "\n",
    "#join aggregated data to the grid\n",
    "monthly_sales = pd.merge(grid,gb,how='left',on=index_cols).fillna(0)\n",
    "\n",
    "#sort the data\n",
    "monthly_sales.sort_values(['date_block_num','shop_id','item_id'],inplace=True)\n"
   ]
  },
  {
   "cell_type": "code",
   "execution_count": 6,
   "id": "4a858bab",
   "metadata": {},
   "outputs": [],
   "source": [
    "# clip target into [0,20] range\n",
    "monthly_sales['target'].clip(lower=0, upper=20, inplace=True)"
   ]
  },
  {
   "cell_type": "markdown",
   "id": "c157e5d7",
   "metadata": {},
   "source": [
    "Step 2: concatenate train and test"
   ]
  },
  {
   "cell_type": "code",
   "execution_count": 7,
   "id": "128f3d04",
   "metadata": {},
   "outputs": [
    {
     "data": {
      "text/html": [
       "<div>\n",
       "<style scoped>\n",
       "    .dataframe tbody tr th:only-of-type {\n",
       "        vertical-align: middle;\n",
       "    }\n",
       "\n",
       "    .dataframe tbody tr th {\n",
       "        vertical-align: top;\n",
       "    }\n",
       "\n",
       "    .dataframe thead th {\n",
       "        text-align: right;\n",
       "    }\n",
       "</style>\n",
       "<table border=\"1\" class=\"dataframe\">\n",
       "  <thead>\n",
       "    <tr style=\"text-align: right;\">\n",
       "      <th></th>\n",
       "      <th>shop_id</th>\n",
       "      <th>item_id</th>\n",
       "      <th>date_block_num</th>\n",
       "      <th>target</th>\n",
       "    </tr>\n",
       "  </thead>\n",
       "  <tbody>\n",
       "    <tr>\n",
       "      <th>139255</th>\n",
       "      <td>0</td>\n",
       "      <td>19</td>\n",
       "      <td>0</td>\n",
       "      <td>0.0</td>\n",
       "    </tr>\n",
       "    <tr>\n",
       "      <th>141495</th>\n",
       "      <td>0</td>\n",
       "      <td>27</td>\n",
       "      <td>0</td>\n",
       "      <td>0.0</td>\n",
       "    </tr>\n",
       "    <tr>\n",
       "      <th>144968</th>\n",
       "      <td>0</td>\n",
       "      <td>28</td>\n",
       "      <td>0</td>\n",
       "      <td>0.0</td>\n",
       "    </tr>\n",
       "    <tr>\n",
       "      <th>142661</th>\n",
       "      <td>0</td>\n",
       "      <td>29</td>\n",
       "      <td>0</td>\n",
       "      <td>0.0</td>\n",
       "    </tr>\n",
       "    <tr>\n",
       "      <th>138947</th>\n",
       "      <td>0</td>\n",
       "      <td>32</td>\n",
       "      <td>0</td>\n",
       "      <td>6.0</td>\n",
       "    </tr>\n",
       "    <tr>\n",
       "      <th>10768788</th>\n",
       "      <td>59</td>\n",
       "      <td>22162</td>\n",
       "      <td>33</td>\n",
       "      <td>0.0</td>\n",
       "    </tr>\n",
       "    <tr>\n",
       "      <th>10768978</th>\n",
       "      <td>59</td>\n",
       "      <td>22163</td>\n",
       "      <td>33</td>\n",
       "      <td>0.0</td>\n",
       "    </tr>\n",
       "    <tr>\n",
       "      <th>10769644</th>\n",
       "      <td>59</td>\n",
       "      <td>22164</td>\n",
       "      <td>33</td>\n",
       "      <td>0.0</td>\n",
       "    </tr>\n",
       "    <tr>\n",
       "      <th>10771170</th>\n",
       "      <td>59</td>\n",
       "      <td>22166</td>\n",
       "      <td>33</td>\n",
       "      <td>0.0</td>\n",
       "    </tr>\n",
       "    <tr>\n",
       "      <th>10770465</th>\n",
       "      <td>59</td>\n",
       "      <td>22167</td>\n",
       "      <td>33</td>\n",
       "      <td>0.0</td>\n",
       "    </tr>\n",
       "  </tbody>\n",
       "</table>\n",
       "</div>"
      ],
      "text/plain": [
       "          shop_id  item_id  date_block_num  target\n",
       "139255          0       19               0     0.0\n",
       "141495          0       27               0     0.0\n",
       "144968          0       28               0     0.0\n",
       "142661          0       29               0     0.0\n",
       "138947          0       32               0     6.0\n",
       "10768788       59    22162              33     0.0\n",
       "10768978       59    22163              33     0.0\n",
       "10769644       59    22164              33     0.0\n",
       "10771170       59    22166              33     0.0\n",
       "10770465       59    22167              33     0.0"
      ]
     },
     "execution_count": 7,
     "metadata": {},
     "output_type": "execute_result"
    }
   ],
   "source": [
    "monthly_sales.head().append(monthly_sales.tail())"
   ]
  },
  {
   "cell_type": "code",
   "execution_count": 8,
   "id": "4708b264",
   "metadata": {},
   "outputs": [],
   "source": [
    "len_train = len(monthly_sales)"
   ]
  },
  {
   "cell_type": "code",
   "execution_count": 9,
   "id": "9d8406e7",
   "metadata": {},
   "outputs": [
    {
     "data": {
      "text/html": [
       "<div>\n",
       "<style scoped>\n",
       "    .dataframe tbody tr th:only-of-type {\n",
       "        vertical-align: middle;\n",
       "    }\n",
       "\n",
       "    .dataframe tbody tr th {\n",
       "        vertical-align: top;\n",
       "    }\n",
       "\n",
       "    .dataframe thead th {\n",
       "        text-align: right;\n",
       "    }\n",
       "</style>\n",
       "<table border=\"1\" class=\"dataframe\">\n",
       "  <thead>\n",
       "    <tr style=\"text-align: right;\">\n",
       "      <th></th>\n",
       "      <th>ID</th>\n",
       "      <th>shop_id</th>\n",
       "      <th>item_id</th>\n",
       "    </tr>\n",
       "  </thead>\n",
       "  <tbody>\n",
       "    <tr>\n",
       "      <th>0</th>\n",
       "      <td>0</td>\n",
       "      <td>5</td>\n",
       "      <td>5037</td>\n",
       "    </tr>\n",
       "    <tr>\n",
       "      <th>1</th>\n",
       "      <td>1</td>\n",
       "      <td>5</td>\n",
       "      <td>5320</td>\n",
       "    </tr>\n",
       "    <tr>\n",
       "      <th>2</th>\n",
       "      <td>2</td>\n",
       "      <td>5</td>\n",
       "      <td>5233</td>\n",
       "    </tr>\n",
       "    <tr>\n",
       "      <th>3</th>\n",
       "      <td>3</td>\n",
       "      <td>5</td>\n",
       "      <td>5232</td>\n",
       "    </tr>\n",
       "    <tr>\n",
       "      <th>4</th>\n",
       "      <td>4</td>\n",
       "      <td>5</td>\n",
       "      <td>5268</td>\n",
       "    </tr>\n",
       "    <tr>\n",
       "      <th>214195</th>\n",
       "      <td>214195</td>\n",
       "      <td>45</td>\n",
       "      <td>18454</td>\n",
       "    </tr>\n",
       "    <tr>\n",
       "      <th>214196</th>\n",
       "      <td>214196</td>\n",
       "      <td>45</td>\n",
       "      <td>16188</td>\n",
       "    </tr>\n",
       "    <tr>\n",
       "      <th>214197</th>\n",
       "      <td>214197</td>\n",
       "      <td>45</td>\n",
       "      <td>15757</td>\n",
       "    </tr>\n",
       "    <tr>\n",
       "      <th>214198</th>\n",
       "      <td>214198</td>\n",
       "      <td>45</td>\n",
       "      <td>19648</td>\n",
       "    </tr>\n",
       "    <tr>\n",
       "      <th>214199</th>\n",
       "      <td>214199</td>\n",
       "      <td>45</td>\n",
       "      <td>969</td>\n",
       "    </tr>\n",
       "  </tbody>\n",
       "</table>\n",
       "</div>"
      ],
      "text/plain": [
       "            ID  shop_id  item_id\n",
       "0            0        5     5037\n",
       "1            1        5     5320\n",
       "2            2        5     5233\n",
       "3            3        5     5232\n",
       "4            4        5     5268\n",
       "214195  214195       45    18454\n",
       "214196  214196       45    16188\n",
       "214197  214197       45    15757\n",
       "214198  214198       45    19648\n",
       "214199  214199       45      969"
      ]
     },
     "execution_count": 9,
     "metadata": {},
     "output_type": "execute_result"
    }
   ],
   "source": [
    "test.head().append(test.tail())"
   ]
  },
  {
   "cell_type": "code",
   "execution_count": 10,
   "id": "159a488a",
   "metadata": {},
   "outputs": [
    {
     "data": {
      "text/plain": [
       "214200"
      ]
     },
     "execution_count": 10,
     "metadata": {},
     "output_type": "execute_result"
    }
   ],
   "source": [
    "len(test)"
   ]
  },
  {
   "cell_type": "code",
   "execution_count": 11,
   "id": "de667a5e",
   "metadata": {},
   "outputs": [],
   "source": [
    "test = test[['shop_id','item_id']]\n",
    "test['date_block_num'] = 34"
   ]
  },
  {
   "cell_type": "code",
   "execution_count": 12,
   "id": "00b59bf9",
   "metadata": {},
   "outputs": [],
   "source": [
    "full = pd.concat([monthly_sales, test], ignore_index=True)"
   ]
  },
  {
   "cell_type": "code",
   "execution_count": 13,
   "id": "24a5ae32",
   "metadata": {},
   "outputs": [
    {
     "data": {
      "text/html": [
       "<div>\n",
       "<style scoped>\n",
       "    .dataframe tbody tr th:only-of-type {\n",
       "        vertical-align: middle;\n",
       "    }\n",
       "\n",
       "    .dataframe tbody tr th {\n",
       "        vertical-align: top;\n",
       "    }\n",
       "\n",
       "    .dataframe thead th {\n",
       "        text-align: right;\n",
       "    }\n",
       "</style>\n",
       "<table border=\"1\" class=\"dataframe\">\n",
       "  <thead>\n",
       "    <tr style=\"text-align: right;\">\n",
       "      <th></th>\n",
       "      <th>shop_id</th>\n",
       "      <th>item_id</th>\n",
       "      <th>date_block_num</th>\n",
       "      <th>target</th>\n",
       "    </tr>\n",
       "  </thead>\n",
       "  <tbody>\n",
       "    <tr>\n",
       "      <th>0</th>\n",
       "      <td>0</td>\n",
       "      <td>19</td>\n",
       "      <td>0</td>\n",
       "      <td>0.0</td>\n",
       "    </tr>\n",
       "    <tr>\n",
       "      <th>1</th>\n",
       "      <td>0</td>\n",
       "      <td>27</td>\n",
       "      <td>0</td>\n",
       "      <td>0.0</td>\n",
       "    </tr>\n",
       "    <tr>\n",
       "      <th>2</th>\n",
       "      <td>0</td>\n",
       "      <td>28</td>\n",
       "      <td>0</td>\n",
       "      <td>0.0</td>\n",
       "    </tr>\n",
       "    <tr>\n",
       "      <th>3</th>\n",
       "      <td>0</td>\n",
       "      <td>29</td>\n",
       "      <td>0</td>\n",
       "      <td>0.0</td>\n",
       "    </tr>\n",
       "    <tr>\n",
       "      <th>4</th>\n",
       "      <td>0</td>\n",
       "      <td>32</td>\n",
       "      <td>0</td>\n",
       "      <td>6.0</td>\n",
       "    </tr>\n",
       "    <tr>\n",
       "      <th>11127999</th>\n",
       "      <td>45</td>\n",
       "      <td>18454</td>\n",
       "      <td>34</td>\n",
       "      <td>NaN</td>\n",
       "    </tr>\n",
       "    <tr>\n",
       "      <th>11128000</th>\n",
       "      <td>45</td>\n",
       "      <td>16188</td>\n",
       "      <td>34</td>\n",
       "      <td>NaN</td>\n",
       "    </tr>\n",
       "    <tr>\n",
       "      <th>11128001</th>\n",
       "      <td>45</td>\n",
       "      <td>15757</td>\n",
       "      <td>34</td>\n",
       "      <td>NaN</td>\n",
       "    </tr>\n",
       "    <tr>\n",
       "      <th>11128002</th>\n",
       "      <td>45</td>\n",
       "      <td>19648</td>\n",
       "      <td>34</td>\n",
       "      <td>NaN</td>\n",
       "    </tr>\n",
       "    <tr>\n",
       "      <th>11128003</th>\n",
       "      <td>45</td>\n",
       "      <td>969</td>\n",
       "      <td>34</td>\n",
       "      <td>NaN</td>\n",
       "    </tr>\n",
       "  </tbody>\n",
       "</table>\n",
       "</div>"
      ],
      "text/plain": [
       "          shop_id  item_id  date_block_num  target\n",
       "0               0       19               0     0.0\n",
       "1               0       27               0     0.0\n",
       "2               0       28               0     0.0\n",
       "3               0       29               0     0.0\n",
       "4               0       32               0     6.0\n",
       "11127999       45    18454              34     NaN\n",
       "11128000       45    16188              34     NaN\n",
       "11128001       45    15757              34     NaN\n",
       "11128002       45    19648              34     NaN\n",
       "11128003       45      969              34     NaN"
      ]
     },
     "execution_count": 13,
     "metadata": {},
     "output_type": "execute_result"
    }
   ],
   "source": [
    "full.head().append(full.tail())"
   ]
  },
  {
   "cell_type": "markdown",
   "id": "a1a2321b",
   "metadata": {},
   "source": [
    "Step 3: add the following features: *month (extract from date); nr - number of rows for date_block_num in monthly sales*"
   ]
  },
  {
   "cell_type": "code",
   "execution_count": 14,
   "id": "185fe479",
   "metadata": {},
   "outputs": [],
   "source": [
    "# add month\n",
    "m = [i for i in range(1,13)]*2 + [i for i in range(1,12)]\n",
    "month = pd.DataFrame({'date_block_num':[i for i in range(0,35)], 'month':m})\n",
    "full = full.merge(month, how='left', on='date_block_num')"
   ]
  },
  {
   "cell_type": "code",
   "execution_count": 15,
   "id": "2de6b2ac",
   "metadata": {},
   "outputs": [],
   "source": [
    "# add nrow_block\n",
    "n = full.groupby('date_block_num', as_index=False).size().rename(columns={'size':'nrow_block'})\n",
    "full = full.merge(n, how='left', on='date_block_num')"
   ]
  },
  {
   "cell_type": "code",
   "execution_count": 16,
   "id": "b65896ae",
   "metadata": {},
   "outputs": [
    {
     "data": {
      "text/html": [
       "<div>\n",
       "<style scoped>\n",
       "    .dataframe tbody tr th:only-of-type {\n",
       "        vertical-align: middle;\n",
       "    }\n",
       "\n",
       "    .dataframe tbody tr th {\n",
       "        vertical-align: top;\n",
       "    }\n",
       "\n",
       "    .dataframe thead th {\n",
       "        text-align: right;\n",
       "    }\n",
       "</style>\n",
       "<table border=\"1\" class=\"dataframe\">\n",
       "  <thead>\n",
       "    <tr style=\"text-align: right;\">\n",
       "      <th></th>\n",
       "      <th>shop_id</th>\n",
       "      <th>item_id</th>\n",
       "      <th>date_block_num</th>\n",
       "      <th>target</th>\n",
       "      <th>month</th>\n",
       "      <th>nrow_block</th>\n",
       "    </tr>\n",
       "  </thead>\n",
       "  <tbody>\n",
       "    <tr>\n",
       "      <th>0</th>\n",
       "      <td>0</td>\n",
       "      <td>19</td>\n",
       "      <td>0</td>\n",
       "      <td>0.0</td>\n",
       "      <td>1</td>\n",
       "      <td>365175</td>\n",
       "    </tr>\n",
       "    <tr>\n",
       "      <th>1</th>\n",
       "      <td>0</td>\n",
       "      <td>27</td>\n",
       "      <td>0</td>\n",
       "      <td>0.0</td>\n",
       "      <td>1</td>\n",
       "      <td>365175</td>\n",
       "    </tr>\n",
       "    <tr>\n",
       "      <th>2</th>\n",
       "      <td>0</td>\n",
       "      <td>28</td>\n",
       "      <td>0</td>\n",
       "      <td>0.0</td>\n",
       "      <td>1</td>\n",
       "      <td>365175</td>\n",
       "    </tr>\n",
       "    <tr>\n",
       "      <th>3</th>\n",
       "      <td>0</td>\n",
       "      <td>29</td>\n",
       "      <td>0</td>\n",
       "      <td>0.0</td>\n",
       "      <td>1</td>\n",
       "      <td>365175</td>\n",
       "    </tr>\n",
       "    <tr>\n",
       "      <th>4</th>\n",
       "      <td>0</td>\n",
       "      <td>32</td>\n",
       "      <td>0</td>\n",
       "      <td>6.0</td>\n",
       "      <td>1</td>\n",
       "      <td>365175</td>\n",
       "    </tr>\n",
       "  </tbody>\n",
       "</table>\n",
       "</div>"
      ],
      "text/plain": [
       "   shop_id  item_id  date_block_num  target  month  nrow_block\n",
       "0        0       19               0     0.0      1      365175\n",
       "1        0       27               0     0.0      1      365175\n",
       "2        0       28               0     0.0      1      365175\n",
       "3        0       29               0     0.0      1      365175\n",
       "4        0       32               0     6.0      1      365175"
      ]
     },
     "execution_count": 16,
     "metadata": {},
     "output_type": "execute_result"
    }
   ],
   "source": [
    "full.head()"
   ]
  },
  {
   "cell_type": "markdown",
   "id": "bfe50fd3",
   "metadata": {},
   "source": [
    "Step 4: add “target encoding” derived features from the group l1, l2, l3, l12, l13, d2-1, d3-2, d13-1 <br>\n",
    "First we add “target encoding” features and then compose derived features\n",
    "<p>“target encoding” features:\n",
    "<ul>\n",
    "<li>tg_sum: sum of target at date_block_num level\n",
    "<li>tg_mean: mean of target at date_block_num level\n",
    "<li>tg_shop: mean of target by shop aggregated at date_block_num level\n",
    "<li>tg_item: mean of target by item aggregated at date_block_num level\n",
    "<li>tg_cat: mean of target by category aggregated at date_block_num level\n",
    "<li>tg: target    \n",
    "</ul>\n",
    "Target encording (6) + derived features (48) = 54 features"
   ]
  },
  {
   "cell_type": "code",
   "execution_count": 17,
   "id": "10740922",
   "metadata": {},
   "outputs": [],
   "source": [
    "# add item_category_id \n",
    "full = full.merge(items.drop('item_name', axis=1), how='left', on='item_id')"
   ]
  },
  {
   "cell_type": "code",
   "execution_count": 18,
   "id": "862f0a61",
   "metadata": {},
   "outputs": [],
   "source": [
    "# tg_sum, tg_mean\n",
    "ms = full.groupby('date_block_num')['target'].agg(['sum', 'mean']).rename(columns={'sum':'tg_sum', 'mean':'tg_mean'})\n",
    "ms.reset_index(level=0, inplace=True)\n",
    "full = full.merge(ms, how='left', on='date_block_num')\n"
   ]
  },
  {
   "cell_type": "code",
   "execution_count": 19,
   "id": "df9b8d83",
   "metadata": {},
   "outputs": [],
   "source": [
    "# tg_shop, tg_item, tg_cat\n",
    "col = ['shop', 'item', 'item_category']\n",
    "for i in col:\n",
    "    gcol = i + '_id'\n",
    "    agg_name = 'tg_' + i\n",
    "    ms = full.groupby(['date_block_num', gcol], as_index=False)['target'].agg( 'mean').rename(columns={'target':agg_name})\n",
    "    full = full.merge(ms, how='left', on=['date_block_num', gcol]).fillna(0)\n",
    "full.rename(columns={'tg_item_category':'tg_cat'}, inplace=True)\n"
   ]
  },
  {
   "cell_type": "code",
   "execution_count": 20,
   "id": "3f375d36",
   "metadata": {},
   "outputs": [],
   "source": [
    "# add tg column as copy target\n",
    "full['tg'] = full['target']"
   ]
  },
  {
   "cell_type": "code",
   "execution_count": 21,
   "id": "e9dde55f",
   "metadata": {},
   "outputs": [],
   "source": [
    "# add lags 1,2,3,12,13 for all target encoded vars (var name starts with 'tg')\n",
    "lag_var = full.columns[full.columns.str.startswith('tg')]\n",
    "lags = [1,2,3,12,13]\n",
    "for lag in lags:\n",
    "    lag_df = full.copy()\n",
    "    lag_df['date_block_num'] += lag\n",
    "    lag_df = lag_df[['date_block_num', 'shop_id', 'item_id'] + list(lag_var)]\n",
    "    lag_df.columns = ['date_block_num', 'shop_id', 'item_id'] + \\\n",
    "    [lv +'_lag'+str(lag) for lv in lag_var]\n",
    "    full = full.merge(lag_df,on=['date_block_num','shop_id','item_id'] ,how='left').fillna(0)\n",
    "    "
   ]
  },
  {
   "cell_type": "code",
   "execution_count": 22,
   "id": "a2aa320a",
   "metadata": {},
   "outputs": [],
   "source": [
    "for i in lag_var:\n",
    "    for (j1,j2) in [(2,1),(3,2),(13,1)]:\n",
    "        col1 = i+'_lag'+str(j1)\n",
    "        col2 = i+'_lag'+str(j2)\n",
    "        newcol = i+'_d'+str(j1)+'-'+str(j2)\n",
    "        full[newcol] = full[col1] - full[col2]\n",
    "        "
   ]
  },
  {
   "cell_type": "markdown",
   "id": "546293ae",
   "metadata": {},
   "source": [
    "Step 5: add mean_price with lag1: *mean_price=1 if mean item price aggregated by date_block_num/item_id more or equal 4100, mean_price=0 - less than 4100, mean_price=-1 no transactions on an item_id in considered period* )"
   ]
  },
  {
   "cell_type": "code",
   "execution_count": 23,
   "id": "ddabb191",
   "metadata": {},
   "outputs": [],
   "source": [
    "# add mean_price\n",
    "price = sales.groupby(['date_block_num', 'item_id'], as_index=False).agg({'item_price':'mean'})\\\n",
    ".rename(columns={'item_price':'mean_price_lag1'})\n",
    "price['mean_price_lag1'] = np.where(price['mean_price_lag1'] >= 4100, 1, 0)\n",
    "price['date_block_num'] += 1\n",
    "full = full.merge(price, how='left', on=['date_block_num', 'item_id']).fillna(-1)"
   ]
  },
  {
   "cell_type": "markdown",
   "id": "db676424",
   "metadata": {},
   "source": [
    "Step 6: for 3 text variables (shop_name, item_name, item_category_name) make preprocessing (stemming, stop words removal etc.) and tf-idf and/or word-to-vec encoding"
   ]
  },
  {
   "cell_type": "markdown",
   "id": "8a0ca5a5",
   "metadata": {},
   "source": [
    "Step 7: save train and test to disk as .csv"
   ]
  },
  {
   "cell_type": "code",
   "execution_count": 28,
   "id": "2754f873",
   "metadata": {},
   "outputs": [],
   "source": [
    "monthly_sales = full[:len_train]\n",
    "test = full[len_train:].drop('target', axis=1)"
   ]
  },
  {
   "cell_type": "code",
   "execution_count": 29,
   "id": "25aea1a5",
   "metadata": {},
   "outputs": [],
   "source": [
    "# len(test)"
   ]
  },
  {
   "cell_type": "code",
   "execution_count": 30,
   "id": "50c268e8",
   "metadata": {},
   "outputs": [
    {
     "name": "stdout",
     "output_type": "stream",
     "text": [
      "CPU times: user 10min 40s, sys: 4.39 s, total: 10min 45s\n",
      "Wall time: 10min 46s\n"
     ]
    }
   ],
   "source": [
    "%%time\n",
    "# save monthly_sales to disk\n",
    "monthly_sales.to_csv('data/train_numfeatures.csv.gz', index=False, compression='gzip')\n",
    "test.to_csv('data/test_numfeatures.csv.gz', index=False, compression='gzip')\n"
   ]
  },
  {
   "cell_type": "code",
   "execution_count": null,
   "id": "78bded79",
   "metadata": {},
   "outputs": [],
   "source": []
  },
  {
   "cell_type": "code",
   "execution_count": null,
   "id": "d0da6b0f",
   "metadata": {},
   "outputs": [],
   "source": []
  },
  {
   "cell_type": "code",
   "execution_count": null,
   "id": "848e2d44",
   "metadata": {},
   "outputs": [],
   "source": []
  },
  {
   "cell_type": "code",
   "execution_count": null,
   "id": "f69a7e84",
   "metadata": {},
   "outputs": [],
   "source": []
  },
  {
   "cell_type": "code",
   "execution_count": null,
   "id": "819c5fd2",
   "metadata": {},
   "outputs": [],
   "source": []
  }
 ],
 "metadata": {
  "kernelspec": {
   "display_name": "Python 3",
   "language": "python",
   "name": "python3"
  },
  "language_info": {
   "codemirror_mode": {
    "name": "ipython",
    "version": 3
   },
   "file_extension": ".py",
   "mimetype": "text/x-python",
   "name": "python",
   "nbconvert_exporter": "python",
   "pygments_lexer": "ipython3",
   "version": "3.8.8"
  }
 },
 "nbformat": 4,
 "nbformat_minor": 5
}
