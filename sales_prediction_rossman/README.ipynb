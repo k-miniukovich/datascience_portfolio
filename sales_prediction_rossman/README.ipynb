{
 "cells": [
  {
   "cell_type": "markdown",
   "id": "b1afb5e8",
   "metadata": {},
   "source": [
    "This folder contains my solution to a kaggle competiton Rossman Store Sales https://www.kaggle.com/c/rossmann-store-sales/overview\n",
    "<p>The task is to predict daily sales 6 weeks in advance. Submissions are evaluated by Root Mean Square Percentage Error (RMSE).\n",
    "\n",
    "Files description\n",
    "<ul>\n",
    "    <li>EDA.ipynb - includes data description, exploratory analysis and conclusions in the form of insights for modeling (e.g. data preprocessing, ideas on feature engineering)</li>\n",
    "    <li>modeling.ipynb - modeling with lightgbm algorithm, hyperparameter gridsearch, submitting best result on kaggle      "
   ]
  },
  {
   "cell_type": "code",
   "execution_count": null,
   "id": "f41af7b4",
   "metadata": {},
   "outputs": [],
   "source": []
  }
 ],
 "metadata": {
  "kernelspec": {
   "display_name": "Python 3",
   "language": "python",
   "name": "python3"
  },
  "language_info": {
   "codemirror_mode": {
    "name": "ipython",
    "version": 3
   },
   "file_extension": ".py",
   "mimetype": "text/x-python",
   "name": "python",
   "nbconvert_exporter": "python",
   "pygments_lexer": "ipython3",
   "version": "3.8.8"
  }
 },
 "nbformat": 4,
 "nbformat_minor": 5
}
